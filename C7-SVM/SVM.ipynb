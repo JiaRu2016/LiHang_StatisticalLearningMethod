{
 "cells": [
  {
   "cell_type": "code",
   "execution_count": 2,
   "metadata": {},
   "outputs": [],
   "source": [
    "%matplotlib inline\n",
    "import matplotlib.pyplot as plt\n",
    "\n",
    "import numpy as np\n",
    "import pandas as pd"
   ]
  },
  {
   "cell_type": "markdown",
   "metadata": {},
   "source": [
    "## SVM  (西瓜书)"
   ]
  },
  {
   "cell_type": "markdown",
   "metadata": {},
   "source": [
    "### 原始问题\n",
    "\n",
    "$$ \\max_{\\mathbf{w}, b} \\frac{1}{\\|\\mathbf{w} \\|} $$\n",
    "st.\n",
    "$$ y_i(\\mathbf{w}x_i + b) \\geq 1 \\quad \\text{for all $i$}$$\n",
    "\n",
    "> 貌似最大化与 b 无关，但实际上通过约束条件起作用。若w的scale过小，则约束条件不满足"
   ]
  },
  {
   "cell_type": "markdown",
   "metadata": {},
   "source": [
    "### 拉格朗日对偶问题\n",
    "\n",
    "$$ \\max L(\\alpha, \\mathbf{w}, b) = \\frac{1}{2} \\|w\\| ^2 + \\sum_i \\alpha_i(1 - y_i(\\mathbf{w x_i} + b)) $$\n",
    "\n",
    "对 $L$ 求关于 $w, b$ 的导数，令其等于0\n",
    "\n",
    "$$ \\frac{\\partial L}{\\partial \\mathbf{w}} = ... = 0, \\quad \\frac{\\partial L}{\\partial b} = ... = 0$$\n",
    " \n",
    "带入回L，经过一通不太复杂的计算，得到原问题的对偶问题：\n",
    "\n",
    "$$ \\max_\\alpha L(\\alpha) = \\sum_i \\alpha_i - \\frac{1}{2} \\sum_i \\sum_z \\alpha_i y_i \\alpha_z y_z \\mathbf{x_i^T x_z}$$\n",
    "st. \n",
    "$$\\sum_i y_i \\alpha_i = 0$$\n",
    "$$ \\alpha_i > 0 $$"
   ]
  },
  {
   "cell_type": "markdown",
   "metadata": {},
   "source": [
    "### 核函数\n",
    "\n",
    "映射 $\\phi(\\cdot)$ 将原始输入映射到高维甚至无穷维特征空间，因此原优化问题变为\n",
    "\n",
    "$$ \\max_\\alpha \\sum_i \\alpha_i - \\frac{1}{2} \\sum_i \\sum_z \\alpha_i y_i \\alpha_z y_z \\mathbf{\\phi(x_i)^T \\phi(x_z)} $$\n",
    "\n",
    "但是求 $\\phi(\\cdot)$ 的具体形式是很难的（一是很难求出$\\phi$的具体形式，二是映射后的维度非常高甚至是无穷维，计算量太大），于是引入**核函数**的概念\n",
    "\n",
    "$$ \\kappa(x, z) = \\phi(x) \\cdot \\phi(x) $$\n",
    "\n",
    "> 核技巧的想法是，只定义核函数K, 而不显示定义映射函数$\\phi$\n",
    "\n",
    "什么样的函数能做核函数呢？半正定"
   ]
  },
  {
   "cell_type": "markdown",
   "metadata": {},
   "source": [
    "### 软间隔\n",
    "\n",
    "不要求所有的样本都满足 $y_i(w x_i + b) > 1$, 对不满足的样本，施加**合页（hinge）损失函数**惩罚\n",
    "\n",
    "$$ \\min_w \\frac{1}{2} \\|w\\|^2 + C \\sum_i max[0, 1 - y_i(w x_i + b)]$$\n",
    "\n",
    "引入**松弛变量（slack var）** 上式可改写为\n",
    "\n",
    "$$ \\min_w \\frac{1}{2} \\|w\\|^2 + C \\sum_i \\xi_i $$\n",
    "$$ y_i(w x_i + b) >= 1 - \\xi_i $$\n",
    "$$ \\xi_i >= 0$$\n",
    "\n",
    "解：拉格朗日函数 -> 对w, b求导，令等于0 -> 代回原式，化简得到原问题的对偶形式\n",
    "\n",
    "\n",
    "$$ \\max_\\alpha L(\\alpha) = \\sum_i \\alpha_i - \\frac{1}{2} \\sum_i \\sum_z \\alpha_i y_i \\alpha_z y_z \\mathbf{x_i^T x_z}$$\n",
    "st. \n",
    "$$\\sum_i y_i \\alpha_i = 0$$\n",
    "$$ 0 <= \\alpha_i <= C $$\n",
    "\n",
    "唯一的区别在于 $\\alpha_i <= C$"
   ]
  },
  {
   "cell_type": "markdown",
   "metadata": {},
   "source": [
    "## SVM (Ng)"
   ]
  },
  {
   "cell_type": "markdown",
   "metadata": {},
   "source": [
    "### Start from Logistic ... \n",
    "\n",
    "Logistic Regression Cost Function:\n",
    "\n",
    "$$ L(\\theta) = \\sum_i y_i (-log(h_\\theta(x_i))) + (1-y_i) (- log(1 - h_\\theta(x_i))) $$\n",
    "\n",
    "where $$h_\\theta(x) = Sigmoid(wx+b)$$ ie. y_score\n",
    "\n",
    "**<u>Modifying Logistic cost funciton we got SVM cost funciton:</u>**\n",
    "\n",
    "$$ L(\\theta) = \\sum_i y_i cost_1({\\bf \\theta^T x}) + (1 - y_i) cost_0({\\bf \\theta^T x})$$\n",
    "\n",
    "### Change cost funciton to **hinge loss function**, l2 panelty and set C very large ..."
   ]
  },
  {
   "cell_type": "markdown",
   "metadata": {},
   "source": [
    "logistic with penalty:\n",
    "\n",
    "$$ L(\\theta) = C \\sum_i y_i cost_1(\\theta^T x) + (1 - y_i) cost_0(\\theta^T x) + \\frac{1}{2} \\|\\theta\\|$$ \n",
    "\n",
    "<u> what if is $C$ is very large ? </u>\n",
    "\n",
    "$cost_1(..)$ and $cost_0(..)$ must be very close to zero, <u>that is, all samle i is correctly predicted</u>, and then minimize $\\|\\theta\\|$\n",
    "\n",
    "$$\\min \\frac{1}{2} \\|\\theta\\|^2$$\n",
    "\n",
    "$$\\theta^T x >= 1 \\quad \\text{for all} y_i = 1$$\n",
    "$$\\theta^T x <= -1 \\quad \\text{for all} y_i = 0$$"
   ]
  },
  {
   "cell_type": "markdown",
   "metadata": {},
   "source": [
    "### how it is related to \"large margin\", in graph\n",
    "\n",
    "图见笔记\n",
    "\n",
    "向量内积的几何意义：“投影”"
   ]
  },
  {
   "cell_type": "markdown",
   "metadata": {},
   "source": [
    "### Kernel\n",
    "\n",
    "\"similarity\"\n",
    "\n",
    "$$ K(x, l) = Similarity(x, landmark) = \\exp(\\frac{\\|x - l \\|^2}{2\\sigma^2})$$\n",
    "\n",
    "$\\sigma$ is \"bandwidth\"\n",
    "\n",
    "use all sample i as landmark"
   ]
  },
  {
   "cell_type": "code",
   "execution_count": 6,
   "metadata": {},
   "outputs": [
    {
     "data": {
      "image/png": "[encoded data removed]",
      "text/plain": [
       "<Figure size 432x288 with 1 Axes>"
      ]
     },
     "metadata": {
      "needs_background": "light"
     },
     "output_type": "display_data"
    }
   ],
   "source": [
    "z = np.linspace(-3, 3, 100)  # z = theta * x\n",
    "\n",
    "def y_score(z):\n",
    "    return 1 / (1 + np.exp(-z))\n",
    "\n",
    "cost1 = -np.log(y_score(z))\n",
    "cost0 = -np.log(1 - y_score(z))\n",
    "\n",
    "plt.plot(z, cost1, label=r'$Cost(y_i=1)$')\n",
    "plt.plot(z, cost0, label=r'$Cost(y_i=0)$')\n",
    "# plt.vlines([0.0, 1.0], ymin=0, ymax=5, color='grey', linestyles='dashed')\n",
    "# plt.hlines([0.0], xmin=0.0, xmax=1.0, color='grey')\n",
    "plt.legend()\n",
    "plt.xlabel(r'$z = \\theta^T x$')\n",
    "plt.ylabel('cost')\n",
    "plt.title('Logistic ICost Function')\n",
    "\n",
    "plt.show()"
   ]
  },
  {
   "cell_type": "code",
   "execution_count": null,
   "metadata": {},
   "outputs": [],
   "source": []
  }
 ],
 "metadata": {
  "kernelspec": {
   "display_name": "Python 3",
   "language": "python",
   "name": "python3"
  },
  "language_info": {
   "codemirror_mode": {
    "name": "ipython",
    "version": 3
   },
   "file_extension": ".py",
   "mimetype": "text/x-python",
   "name": "python",
   "nbconvert_exporter": "python",
   "pygments_lexer": "ipython3",
   "version": "3.6.4"
  }
 },
 "nbformat": 4,
 "nbformat_minor": 2
}
