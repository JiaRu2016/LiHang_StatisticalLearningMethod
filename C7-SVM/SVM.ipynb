{
 "cells": [
  {
   "cell_type": "code",
   "execution_count": 3,
   "metadata": {},
   "outputs": [],
   "source": [
    "%matplotlib inline\n",
    "import matplotlib.pyplot as plt\n",
    "\n",
    "import numpy as np\n",
    "import pandas as pd"
   ]
  },
  {
   "cell_type": "markdown",
   "metadata": {},
   "source": [
    "## SVM  (西瓜书)"
   ]
  },
  {
   "cell_type": "markdown",
   "metadata": {},
   "source": [
    "$$ \\max_{\\mathbf{w}, b} \\frac{1}{\\|\\mathbf{w} \\|} $$\n",
    "st.\n",
    "$$ y_i(\\mathbf{w}x_i + b) \\geq 1 \\quad \\text{for all $i$}$$\n",
    "\n",
    "> 貌似最大化与 b 无关，但实际上通过约束条件起作用。若w的scale过小，则约束条件不满足"
   ]
  },
  {
   "cell_type": "markdown",
   "metadata": {},
   "source": [
    "### Lagrange Dual Problem\n",
    "\n",
    "$$ \\max L(\\alpha, \\mathbf{w}, b) = \\frac{1}{2} \\|w\\| ^2 + \\sum_i \\alpha_i(1 - y_i(\\mathbf{w x_i} + b)) $$\n",
    "\n",
    "对 $L$ 求关于 $w, b$ 的导数，令其等于0\n",
    "\n",
    "$$ \\frac{\\partial L}{\\partial \\mathbf{w}} = ... = 0, \\quad \\frac{\\partial L}{\\partial b} = ... = 0$$\n",
    " \n",
    "带入回L，经过一通不太复杂的计算，得到原问题的对偶问题：\n",
    "\n",
    "$$ \\max_\\alpha L(\\alpha) = \\sum_i \\alpha_i - \\frac{1}{2} \\sum_i \\sum_z \\alpha_i y_i \\alpha_z y_z \\mathbf{x_i^T x_z}$$\n",
    "st. \n",
    "$$\\sum_i y_i \\alpha_i = 0$$\n",
    "$$ \\alpha_i > 0 $$"
   ]
  },
  {
   "cell_type": "markdown",
   "metadata": {},
   "source": [
    "### SMO\n",
    "\n",
    "// todo"
   ]
  },
  {
   "cell_type": "markdown",
   "metadata": {},
   "source": []
  },
  {
   "cell_type": "markdown",
   "metadata": {},
   "source": [
    "## SVM (Ng)"
   ]
  },
  {
   "cell_type": "markdown",
   "metadata": {},
   "source": [
    "### Start from Logistic ... \n",
    "\n",
    "Logistic Regression Cost Function:\n",
    "\n",
    "$$ L(\\theta) = \\sum_i y_i (-log(h_\\theta(x_i))) + (1-y_i) (- log(1 - h_\\theta(x_i))) $$\n",
    "\n",
    "where $$h_\\theta(x) = Sigmoid(wx+b)$$ ie. y_score\n",
    "\n",
    "**<u>Modifying Logistic cost funciton we got SVM cost funciton:</u>**\n",
    "\n",
    "$$ L(\\theta) = \\sum_i y_i cost_1({\\bf \\theta^T x}) + (1 - y_i) cost_0({\\bf \\theta^T x})$$\n",
    "\n",
    "// todo"
   ]
  },
  {
   "cell_type": "code",
   "execution_count": 27,
   "metadata": {},
   "outputs": [
    {
     "data": {
      "image/png": "[encoded data removed]",
      "text/plain": [
       "<Figure size 432x288 with 1 Axes>"
      ]
     },
     "metadata": {
      "needs_background": "light"
     },
     "output_type": "display_data"
    }
   ],
   "source": [
    "y_score = np.linspace(0.01, 0.99, 100)\n",
    "\n",
    "cost1 = -np.log(y_score)\n",
    "cost0 = -np.log(1 - y_score)\n",
    "\n",
    "plt.plot(y_score, cost1, label=r'$Cost(y_i=1)$')\n",
    "plt.plot(y_score, cost0, label=r'$Cost(y_i=0)$')\n",
    "plt.vlines([0.0, 1.0], ymin=0, ymax=5, color='grey', linestyles='dashed')\n",
    "plt.hlines([0.0], xmin=0.0, xmax=1.0, color='grey')\n",
    "plt.legend()\n",
    "plt.xlabel('y_score')\n",
    "plt.ylabel('cost')\n",
    "plt.title('Logistic ICost Function')\n",
    "\n",
    "plt.show()"
   ]
  },
  {
   "cell_type": "code",
   "execution_count": null,
   "metadata": {},
   "outputs": [],
   "source": []
  }
 ],
 "metadata": {
  "kernelspec": {
   "display_name": "Python 3",
   "language": "python",
   "name": "python3"
  },
  "language_info": {
   "codemirror_mode": {
    "name": "ipython",
    "version": 3
   },
   "file_extension": ".py",
   "mimetype": "text/x-python",
   "name": "python",
   "nbconvert_exporter": "python",
   "pygments_lexer": "ipython3",
   "version": "3.6.4"
  }
 },
 "nbformat": 4,
 "nbformat_minor": 2
}
