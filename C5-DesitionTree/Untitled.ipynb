{
 "cells": [
  {
   "cell_type": "code",
   "execution_count": 2,
   "metadata": {},
   "outputs": [],
   "source": [
    "class Node(object):\n",
    "    \"\"\"决策树节点\"\"\"\n",
    "    \n",
    "    def __init__(self, idx):\n",
    "        self.idx = idx               # 节点编号，决策树中每个节点的编号是唯一的\n",
    "        self.level = 0               # 节点层级\n",
    "        self.father = None           # 父节点\n",
    "        self.father_feature = ''     # 父节点分割feature\n",
    "        self.father_value = ''       # 父节点分割value\n",
    "        self.feature = ''    # 分隔节点的feature\n",
    "        self.values = []     # 长度应与self.children一致\n",
    "        self.children = []   # 子节点，成员为 pointer to Node\n",
    "        \n",
    "    def __repr__(self):\n",
    "        return \"<Node {}: {}>\".format(self.idx, self.feature)"
   ]
  },
  {
   "cell_type": "code",
   "execution_count": 121,
   "metadata": {},
   "outputs": [],
   "source": [
    "class DescitionTree(object):\n",
    "    \"\"\"决策树\"\"\"\n",
    "    \n",
    "    def __init__(self):\n",
    "        self.root = Node(0)\n",
    "\n",
    "    def plot(self):\n",
    "        \"\"\"打印决策树：前序遍历 + 层级缩进\"\"\"\n",
    "        \n",
    "        for item in self.preorder():\n",
    "            indent = item.level * \"\\s\"\n",
    "            txt = \"{} == {}\".format(item.father_feature, item.father_value).ljust(10, '-')\n",
    "            print(indent, txt,item.__repr__())\n",
    "            \n",
    "    def preorder(self):\n",
    "        self._preorder(self.root)\n",
    "        \n",
    "    def _preorder(self, node):\n",
    "        yield node\n",
    "        for node_ in node.children:\n",
    "            yield from self._preorder(node_)\n",
    "            \n",
    "    def fit(self, df):\n",
    "        \"\"\"构造决策树\"\"\"\n",
    "        \n",
    "        # 构造决策树时的临时变量\n",
    "        _idx = 0\n",
    "        \n",
    "        # 递归构造决策树子树\n",
    "        self._construct_subtree(df, self.root)\n",
    "        \n",
    "    def _construct_subtree(self, df, node):\n",
    "        \"\"\"递归构造决策树子树\"\"\"\n",
    "        \n",
    "        feature = self._select_feature(df) # todo\n",
    "        \n",
    "        node.feature = feature\n",
    "        node.values = df[feature].unique().tolist()\n",
    "        \n",
    "        #nonlocal _idx\n",
    "        # TODO: stop iteration\n",
    "        for v in values:\n",
    "            df_v = df[df[feature] == v]\n",
    "            del df_v[feature]\n",
    "            subnode = Node(_idx)\n",
    "            subnode.level = node.level + 1\n",
    "            subnode.father = node\n",
    "            subnode.father_feature = feature\n",
    "            subnode.father_value = v\n",
    "            idx += 1\n",
    "            \n",
    "            node.children.append(subnode)\n",
    "            self._construct_subtree(df_v, subnode)\n",
    "            \n",
    "    def _select_feature(self, df, rule='ID3'):\n",
    "        \"\"\"选择划分特征\"\"\"\n",
    "        \n",
    "        assert rule in ('ID3', 'C4.5')\n",
    "        \n",
    "        cond_entrophy_s = df.drop('y', axis=1).apply(DescitionTree.em_cond_h, y=df.y)  # H(y|A)\n",
    "        feature_entrophy_s = df.drop('y', axis=1).apply(DescitionTree.em_h)   # H(A)\n",
    "        HD = DescitionTree.em_h(df.y)     # H(y), scalar\n",
    "        info_gain_s = HD - cond_entrophy_s\n",
    "        info_gain_ratio_s = cond_entrophy_s / feature_entrophy_s\n",
    "        \n",
    "        if rule == 'ID3':\n",
    "            return info_gain_s.idxmax()\n",
    "        elif rule == 'C4.5':\n",
    "            return info_gain_ratio_s.idxmax()\n",
    "        else:\n",
    "            pass\n",
    "        \n",
    "    @staticmethod\n",
    "    def em_cond_h(x, y):\n",
    "        \"\"\"经验条件熵 empirical coditional entrophy, H(Y|X=xi)\"\"\"\n",
    "        _df = pd.DataFrame({'x': x, 'y': y})\n",
    "        condH_s = _df.groupby('x')['y'].apply(lambda s: DescitionTree.em_h(s)) # H(D_i)\n",
    "        probX_s = _df.x.value_counts() / len(_df.x)   # probs or weights\n",
    "        return sum(probX_s * condH_s)     \n",
    "    \n",
    "    @staticmethod\n",
    "    def em_h(y):\n",
    "        \"\"\"经验熵 empirical entrophy, H(Y)\"\"\"\n",
    "        y = np.asarray(y)\n",
    "        probs = np.unique(y, return_counts=True)[1] / len(y)\n",
    "        return DescitionTree.h(probs)\n",
    "    \n",
    "    @staticmethod\n",
    "    def h(probs):\n",
    "        \"\"\"熵\"\"\"\n",
    "        probs = np.asarray(probs)\n",
    "        assert np.sum(probs) == 1.0 and all(probs >= 0)\n",
    "        return -np.sum(probs * np.log2(probs))"
   ]
  },
  {
   "cell_type": "code",
   "execution_count": 133,
   "metadata": {},
   "outputs": [],
   "source": [
    "df = pd.DataFrame({\"A\": list('aabbccdd'), 'B': list('eeeeffff'), 'y': [1,2,3,3,6,6,6,6]})"
   ]
  },
  {
   "cell_type": "code",
   "execution_count": 142,
   "metadata": {},
   "outputs": [
    {
     "data": {
      "text/plain": [
       "A    0.25\n",
       "B    0.75\n",
       "dtype: float64"
      ]
     },
     "execution_count": 142,
     "metadata": {},
     "output_type": "execute_result"
    }
   ],
   "source": [
    "# H(D|A) pd.Series\n",
    "foo = df.drop('y', axis=1).apply(DescitionTree.em_cond_h, y=df.y)\n",
    "foo"
   ]
  },
  {
   "cell_type": "code",
   "execution_count": 147,
   "metadata": {},
   "outputs": [
    {
     "data": {
      "text/plain": [
       "'B'"
      ]
     },
     "execution_count": 147,
     "metadata": {},
     "output_type": "execute_result"
    }
   ],
   "source": []
  },
  {
   "cell_type": "code",
   "execution_count": 144,
   "metadata": {},
   "outputs": [
    {
     "data": {
      "text/plain": [
       "A    9.75\n",
       "B    9.25\n",
       "dtype: float64"
      ]
     },
     "execution_count": 144,
     "metadata": {},
     "output_type": "execute_result"
    }
   ],
   "source": [
    "10.0 - foo"
   ]
  },
  {
   "cell_type": "code",
   "execution_count": 139,
   "metadata": {},
   "outputs": [
    {
     "data": {
      "text/plain": [
       "A    2.0\n",
       "B    1.0\n",
       "dtype: float64"
      ]
     },
     "execution_count": 139,
     "metadata": {},
     "output_type": "execute_result"
    }
   ],
   "source": [
    "# H_A(D)  pd.Series()\n",
    "df.drop('y', axis=1).apply(DescitionTree.em_h)"
   ]
  },
  {
   "cell_type": "code",
   "execution_count": 135,
   "metadata": {},
   "outputs": [
    {
     "data": {
      "text/plain": [
       "1.895461844238322"
      ]
     },
     "execution_count": 135,
     "metadata": {},
     "output_type": "execute_result"
    }
   ],
   "source": [
    "DescitionTree.h([0.1, 0.3, 0.3, 0.3])"
   ]
  },
  {
   "cell_type": "code",
   "execution_count": 110,
   "metadata": {},
   "outputs": [
    {
     "data": {
      "text/plain": [
       "\u001b[0;31mSignature:\u001b[0m \u001b[0mpd\u001b[0m\u001b[0;34m.\u001b[0m\u001b[0mDataFrame\u001b[0m\u001b[0;34m.\u001b[0m\u001b[0mapply\u001b[0m\u001b[0;34m(\u001b[0m\u001b[0mself\u001b[0m\u001b[0;34m,\u001b[0m \u001b[0mfunc\u001b[0m\u001b[0;34m,\u001b[0m \u001b[0maxis\u001b[0m\u001b[0;34m=\u001b[0m\u001b[0;36m0\u001b[0m\u001b[0;34m,\u001b[0m \u001b[0mbroadcast\u001b[0m\u001b[0;34m=\u001b[0m\u001b[0;32mFalse\u001b[0m\u001b[0;34m,\u001b[0m \u001b[0mraw\u001b[0m\u001b[0;34m=\u001b[0m\u001b[0;32mFalse\u001b[0m\u001b[0;34m,\u001b[0m \u001b[0mreduce\u001b[0m\u001b[0;34m=\u001b[0m\u001b[0;32mNone\u001b[0m\u001b[0;34m,\u001b[0m \u001b[0margs\u001b[0m\u001b[0;34m=\u001b[0m\u001b[0;34m(\u001b[0m\u001b[0;34m)\u001b[0m\u001b[0;34m,\u001b[0m \u001b[0;34m**\u001b[0m\u001b[0mkwds\u001b[0m\u001b[0;34m)\u001b[0m\u001b[0;34m\u001b[0m\u001b[0m\n",
       "\u001b[0;31mDocstring:\u001b[0m\n",
       "Applies function along input axis of DataFrame.\n",
       "\n",
       "Objects passed to functions are Series objects having index\n",
       "either the DataFrame's index (axis=0) or the columns (axis=1).\n",
       "Return type depends on whether passed function aggregates, or the\n",
       "reduce argument if the DataFrame is empty.\n",
       "\n",
       "Parameters\n",
       "----------\n",
       "func : function\n",
       "    Function to apply to each column/row\n",
       "axis : {0 or 'index', 1 or 'columns'}, default 0\n",
       "    * 0 or 'index': apply function to each column\n",
       "    * 1 or 'columns': apply function to each row\n",
       "broadcast : boolean, default False\n",
       "    For aggregation functions, return object of same size with values\n",
       "    propagated\n",
       "raw : boolean, default False\n",
       "    If False, convert each row or column into a Series. If raw=True the\n",
       "    passed function will receive ndarray objects instead. If you are\n",
       "    just applying a NumPy reduction function this will achieve much\n",
       "    better performance\n",
       "reduce : boolean or None, default None\n",
       "    Try to apply reduction procedures. If the DataFrame is empty,\n",
       "    apply will use reduce to determine whether the result should be a\n",
       "    Series or a DataFrame. If reduce is None (the default), apply's\n",
       "    return value will be guessed by calling func an empty Series (note:\n",
       "    while guessing, exceptions raised by func will be ignored). If\n",
       "    reduce is True a Series will always be returned, and if False a\n",
       "    DataFrame will always be returned.\n",
       "args : tuple\n",
       "    Positional arguments to pass to function in addition to the\n",
       "    array/series\n",
       "Additional keyword arguments will be passed as keywords to the function\n",
       "\n",
       "Notes\n",
       "-----\n",
       "In the current implementation apply calls func twice on the\n",
       "first column/row to decide whether it can take a fast or slow\n",
       "code path. This can lead to unexpected behavior if func has\n",
       "side-effects, as they will take effect twice for the first\n",
       "column/row.\n",
       "\n",
       "Examples\n",
       "--------\n",
       ">>> df.apply(numpy.sqrt) # returns DataFrame\n",
       ">>> df.apply(numpy.sum, axis=0) # equiv to df.sum(0)\n",
       ">>> df.apply(numpy.sum, axis=1) # equiv to df.sum(1)\n",
       "\n",
       "See also\n",
       "--------\n",
       "DataFrame.applymap: For elementwise operations\n",
       "DataFrame.aggregate: only perform aggregating type operations\n",
       "DataFrame.transform: only perform transformating type operations\n",
       "\n",
       "Returns\n",
       "-------\n",
       "applied : Series or DataFrame\n",
       "\u001b[0;31mFile:\u001b[0m      /Library/Frameworks/Python.framework/Versions/3.6/lib/python3.6/site-packages/pandas/core/frame.py\n",
       "\u001b[0;31mType:\u001b[0m      function\n"
      ]
     },
     "metadata": {},
     "output_type": "display_data"
    }
   ],
   "source": [
    "?pd.DataFrame.apply"
   ]
  },
  {
   "cell_type": "code",
   "execution_count": 102,
   "metadata": {},
   "outputs": [
    {
     "data": {
      "text/plain": [
       "Index(['A', 'B'], dtype='object')"
      ]
     },
     "execution_count": 102,
     "metadata": {},
     "output_type": "execute_result"
    }
   ],
   "source": [
    "df.columns.drop('C', errors='ignore')"
   ]
  },
  {
   "cell_type": "code",
   "execution_count": null,
   "metadata": {},
   "outputs": [],
   "source": []
  },
  {
   "cell_type": "code",
   "execution_count": 104,
   "metadata": {},
   "outputs": [
    {
     "data": {
      "text/html": [
       "<div>\n",
       "<style scoped>\n",
       "    .dataframe tbody tr th:only-of-type {\n",
       "        vertical-align: middle;\n",
       "    }\n",
       "\n",
       "    .dataframe tbody tr th {\n",
       "        vertical-align: top;\n",
       "    }\n",
       "\n",
       "    .dataframe thead th {\n",
       "        text-align: right;\n",
       "    }\n",
       "</style>\n",
       "<table border=\"1\" class=\"dataframe\">\n",
       "  <thead>\n",
       "    <tr style=\"text-align: right;\">\n",
       "      <th></th>\n",
       "      <th>A</th>\n",
       "      <th>B</th>\n",
       "    </tr>\n",
       "  </thead>\n",
       "  <tbody>\n",
       "    <tr>\n",
       "      <th>0</th>\n",
       "      <td>a</td>\n",
       "      <td>0</td>\n",
       "    </tr>\n",
       "    <tr>\n",
       "      <th>1</th>\n",
       "      <td>a</td>\n",
       "      <td>1</td>\n",
       "    </tr>\n",
       "    <tr>\n",
       "      <th>2</th>\n",
       "      <td>a</td>\n",
       "      <td>2</td>\n",
       "    </tr>\n",
       "    <tr>\n",
       "      <th>3</th>\n",
       "      <td>b</td>\n",
       "      <td>3</td>\n",
       "    </tr>\n",
       "    <tr>\n",
       "      <th>4</th>\n",
       "      <td>b</td>\n",
       "      <td>4</td>\n",
       "    </tr>\n",
       "    <tr>\n",
       "      <th>5</th>\n",
       "      <td>b</td>\n",
       "      <td>5</td>\n",
       "    </tr>\n",
       "    <tr>\n",
       "      <th>6</th>\n",
       "      <td>c</td>\n",
       "      <td>6</td>\n",
       "    </tr>\n",
       "    <tr>\n",
       "      <th>7</th>\n",
       "      <td>c</td>\n",
       "      <td>7</td>\n",
       "    </tr>\n",
       "  </tbody>\n",
       "</table>\n",
       "</div>"
      ],
      "text/plain": [
       "   A  B\n",
       "0  a  0\n",
       "1  a  1\n",
       "2  a  2\n",
       "3  b  3\n",
       "4  b  4\n",
       "5  b  5\n",
       "6  c  6\n",
       "7  c  7"
      ]
     },
     "execution_count": 104,
     "metadata": {},
     "output_type": "execute_result"
    }
   ],
   "source": [
    "df = pd.DataFrame({\"A\": list('aaabbbcc'), 'B': range(8)})\n",
    "df"
   ]
  },
  {
   "cell_type": "code",
   "execution_count": 95,
   "metadata": {},
   "outputs": [
    {
     "data": {
      "text/plain": [
       "A\n",
       "a    1.584963\n",
       "b    1.584963\n",
       "c    1.000000\n",
       "Name: B, dtype: float64"
      ]
     },
     "execution_count": 95,
     "metadata": {},
     "output_type": "execute_result"
    }
   ],
   "source": [
    "df.groupby('A')['B'].apply(lambda s: DescitionTree.em_h(s))"
   ]
  },
  {
   "cell_type": "code",
   "execution_count": 81,
   "metadata": {},
   "outputs": [
    {
     "data": {
      "text/plain": [
       "a    0.50\n",
       "b    0.25\n",
       "c    0.25\n",
       "Name: a, dtype: float64"
      ]
     },
     "execution_count": 81,
     "metadata": {},
     "output_type": "execute_result"
    }
   ],
   "source": [
    "df['a'] = list('aabc')\n",
    "df.a.value_counts() / len(df.a)"
   ]
  },
  {
   "cell_type": "code",
   "execution_count": 66,
   "metadata": {},
   "outputs": [],
   "source": [
    "a = np.asarray(list('aabbccccaa'))"
   ]
  },
  {
   "cell_type": "code",
   "execution_count": 77,
   "metadata": {},
   "outputs": [
    {
     "data": {
      "text/plain": [
       "array([0.4, 0.2, 0.4])"
      ]
     },
     "execution_count": 77,
     "metadata": {},
     "output_type": "execute_result"
    }
   ],
   "source": []
  },
  {
   "cell_type": "code",
   "execution_count": 49,
   "metadata": {},
   "outputs": [
    {
     "data": {
      "text/plain": [
       "True"
      ]
     },
     "execution_count": 49,
     "metadata": {},
     "output_type": "execute_result"
    }
   ],
   "source": [
    "x = [0.1, 0.9]\n",
    "x = np.array(x)\n",
    "\n",
    "np.sum(x) == 1"
   ]
  },
  {
   "cell_type": "code",
   "execution_count": 47,
   "metadata": {},
   "outputs": [
    {
     "data": {
      "text/plain": [
       "True"
      ]
     },
     "execution_count": 47,
     "metadata": {},
     "output_type": "execute_result"
    }
   ],
   "source": [
    "all(x >= 0)"
   ]
  },
  {
   "cell_type": "code",
   "execution_count": 52,
   "metadata": {},
   "outputs": [
    {
     "data": {
      "text/plain": [
       "0.08079313589591118"
      ]
     },
     "execution_count": 52,
     "metadata": {},
     "output_type": "execute_result"
    }
   ],
   "source": [
    "DescitionTree.h([0.01, 0.99])"
   ]
  },
  {
   "cell_type": "code",
   "execution_count": 23,
   "metadata": {},
   "outputs": [
    {
     "data": {
      "text/plain": [
       "4"
      ]
     },
     "execution_count": 23,
     "metadata": {},
     "output_type": "execute_result"
    }
   ],
   "source": [
    "import numpy as np\n",
    "\n",
    "np.argmax([1,4,2,3,5])"
   ]
  },
  {
   "cell_type": "code",
   "execution_count": 22,
   "metadata": {},
   "outputs": [
    {
     "data": {
      "text/plain": [
       "{'a', 'b'}"
      ]
     },
     "execution_count": 22,
     "metadata": {},
     "output_type": "execute_result"
    }
   ],
   "source": [
    "set(df.columns) - set('y')"
   ]
  },
  {
   "cell_type": "code",
   "execution_count": 9,
   "metadata": {},
   "outputs": [],
   "source": [
    "import pandas as pd"
   ]
  },
  {
   "cell_type": "code",
   "execution_count": 12,
   "metadata": {},
   "outputs": [
    {
     "data": {
      "text/html": [
       "<div>\n",
       "<style scoped>\n",
       "    .dataframe tbody tr th:only-of-type {\n",
       "        vertical-align: middle;\n",
       "    }\n",
       "\n",
       "    .dataframe tbody tr th {\n",
       "        vertical-align: top;\n",
       "    }\n",
       "\n",
       "    .dataframe thead th {\n",
       "        text-align: right;\n",
       "    }\n",
       "</style>\n",
       "<table border=\"1\" class=\"dataframe\">\n",
       "  <thead>\n",
       "    <tr style=\"text-align: right;\">\n",
       "      <th></th>\n",
       "      <th>a</th>\n",
       "      <th>b</th>\n",
       "    </tr>\n",
       "  </thead>\n",
       "  <tbody>\n",
       "    <tr>\n",
       "      <th>0</th>\n",
       "      <td>1</td>\n",
       "      <td>7</td>\n",
       "    </tr>\n",
       "    <tr>\n",
       "      <th>1</th>\n",
       "      <td>2</td>\n",
       "      <td>8</td>\n",
       "    </tr>\n",
       "    <tr>\n",
       "      <th>2</th>\n",
       "      <td>3</td>\n",
       "      <td>8</td>\n",
       "    </tr>\n",
       "    <tr>\n",
       "      <th>3</th>\n",
       "      <td>3</td>\n",
       "      <td>9</td>\n",
       "    </tr>\n",
       "  </tbody>\n",
       "</table>\n",
       "</div>"
      ],
      "text/plain": [
       "   a  b\n",
       "0  1  7\n",
       "1  2  8\n",
       "2  3  8\n",
       "3  3  9"
      ]
     },
     "execution_count": 12,
     "metadata": {},
     "output_type": "execute_result"
    }
   ],
   "source": [
    "df = pd.DataFrame({\"a\":[1,2,3,3], \"b\": [7,8,8,9]})\n",
    "df"
   ]
  },
  {
   "cell_type": "code",
   "execution_count": 17,
   "metadata": {},
   "outputs": [
    {
     "data": {
      "text/plain": [
       "[1, 2, 3]"
      ]
     },
     "execution_count": 17,
     "metadata": {},
     "output_type": "execute_result"
    }
   ],
   "source": [
    "df['a'].unique().tolist()"
   ]
  },
  {
   "cell_type": "code",
   "execution_count": null,
   "metadata": {},
   "outputs": [],
   "source": []
  }
 ],
 "metadata": {
  "kernelspec": {
   "display_name": "Python 3",
   "language": "python",
   "name": "python3"
  },
  "language_info": {
   "codemirror_mode": {
    "name": "ipython",
    "version": 3
   },
   "file_extension": ".py",
   "mimetype": "text/x-python",
   "name": "python",
   "nbconvert_exporter": "python",
   "pygments_lexer": "ipython3",
   "version": "3.6.4"
  }
 },
 "nbformat": 4,
 "nbformat_minor": 2
}
