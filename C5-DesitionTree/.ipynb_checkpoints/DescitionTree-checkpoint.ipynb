{
 "cells": [
  {
   "cell_type": "code",
   "execution_count": 71,
   "metadata": {},
   "outputs": [],
   "source": [
    "import pandas as pd\n",
    "import numpy as np"
   ]
  },
  {
   "cell_type": "code",
   "execution_count": 72,
   "metadata": {},
   "outputs": [],
   "source": [
    "class Node(object):\n",
    "    \"\"\"决策树节点\"\"\"\n",
    "    \n",
    "    def __init__(self, idx):\n",
    "        self.idx = idx               # 节点编号，决策树中每个节点的编号是唯一的\n",
    "        self.level = 0               # 节点层级\n",
    "        self.father = None           # 父节点\n",
    "        self.father_feature = ''     # 父节点分割feature\n",
    "        self.father_value = ''       # 父节点分割value\n",
    "        self.feature = ''    # 分隔节点的feature\n",
    "        self.values = []     # 长度应与self.children一致\n",
    "        self.children = []   # 子节点，成员为 pointer to Node\n",
    "        \n",
    "        self.is_leaf = False          # 是否为叶子节点\n",
    "        self.predict_y_prob = None    # y概率\n",
    "        self.predict_y = ''           # y预测值\n",
    "        \n",
    "        self.entrophy = None          # 节点上的熵\n",
    "        self.n = None                 # 该节点上的样本数\n",
    "        \n",
    "    def __repr__(self):\n",
    "        if self.is_leaf:\n",
    "            return '[Leaf Node {}] y_hat={}'.format(self.idx, self.predict_y)\n",
    "        else:\n",
    "            return \"[Node {}] {} in {}\".format(self.idx, self.feature, self.values)\n",
    "    \n",
    "    def to_leaf(self):\n",
    "        \"\"\"决策树剪枝，将中间节点变成叶子节点\"\"\"\n",
    "        self.is_leaf = True"
   ]
  },
  {
   "cell_type": "code",
   "execution_count": 73,
   "metadata": {},
   "outputs": [],
   "source": [
    "class DescitionTree(object):\n",
    "    \"\"\"决策树\"\"\"\n",
    "    \n",
    "    def __init__(self):\n",
    "        self.root = Node(0)\n",
    "        self.data = None\n",
    "        self.rule = 'C4.5'\n",
    "        self.alpha = 0.5\n",
    "        \n",
    "        # 构造决策树时的临时变量\n",
    "        self._idx = 0\n",
    "    \n",
    "    # 打印 ------------------------------------------------------------\n",
    "    def plot(self):\n",
    "        \"\"\"打印决策树：前序遍历 + 层级缩进\"\"\"\n",
    "        \n",
    "        n_space = 15\n",
    "        \n",
    "        for item in self.preorder():\n",
    "            indent = item.level * n_space * \" \"\n",
    "            if item.level == 0:\n",
    "                txt = \"[Root]\"\n",
    "            else:\n",
    "                txt = \">>> {}={}\".format(item.father_feature, item.father_value)\n",
    "            txt = txt.ljust(n_space, '-')\n",
    "            print(indent + txt + item.__repr__())\n",
    "            \n",
    "    def preorder(self):\n",
    "        return self._preorder(self.root)\n",
    "        \n",
    "    def _preorder(self, node):\n",
    "        yield node\n",
    "        if not node.is_leaf:\n",
    "            for node_ in node.children:\n",
    "                yield from self._preorder(node_)\n",
    "    \n",
    "    # 预测 ------------------------------------------------------------\n",
    "    def predict(self, s):\n",
    "        \"\"\"Prediction. Input should be pd.Series\"\"\"\n",
    "        return self._predict(s, self.root)\n",
    "    \n",
    "    def _predict(self, s, node):\n",
    "        \n",
    "        if node.is_leaf:\n",
    "            return node.predict_y\n",
    "        else:\n",
    "            v = s[node.feature]\n",
    "            try:\n",
    "                i = next(i for i, value in enumerate(node.values) if v == value)\n",
    "            except StopIteration:\n",
    "                print('prediction value not in train set: {} = {}'.format(node.feature, v))\n",
    "                print('will stop at: ', node)\n",
    "                return None\n",
    "            subnode = node.children[i]\n",
    "            return self._predict(s, subnode)\n",
    "        \n",
    "    # 剪枝 ------------------------------------------------------------\n",
    "    @property\n",
    "    def loss(self):\n",
    "        \"\"\"损失函数：sum(各叶子节点上的经验熵, weight=样本数) + alpah * 叶子节点个数\"\"\"\n",
    "        lst = [node.entrophy * node.n for node in self.preorder() if node.is_leaf]\n",
    "        return sum(lst) + self.alpha * len(lst)\n",
    "    \n",
    "    def post_pruning(self):\n",
    "        \"\"\"后剪枝\n",
    "        \n",
    "        李航书中没有说明后剪枝的顺序；\n",
    "        西瓜书也没有明确说明后剪枝的顺序，但举的例子是从深度最大的节点开始；另，用的是验证集。\n",
    "        \n",
    "        我的具体实现如下：\n",
    "        维护一个`leaf_tree`队列，初始队列由leaf-tree节点组成。这是一个带优先级的队列，优先级为节点深度\n",
    "        逐次从队列中pop节点，判断是否剪枝。if 剪枝，将此节点的父节点添加进队尾\n",
    "        直到队列为空为止\n",
    "        \"\"\"\n",
    "        from queue import PriorityQueue, Empty\n",
    "        from copy import deepcopy\n",
    "        \n",
    "        q = PriorityQueue()\n",
    "        qidx = 0\n",
    "        \n",
    "        for node_ in self.preorder():\n",
    "            if not node_.is_leaf:\n",
    "                if all(x.is_leaf for x in node_.children):\n",
    "                    q.put((-node_.level, qidx, node_))\n",
    "                    qidx += 1\n",
    "        while q:\n",
    "            try:\n",
    "                item = q.get(block=False)\n",
    "            except Empty:\n",
    "                print('q empty, will stop.')\n",
    "                return\n",
    "            node = item[2]\n",
    "            \n",
    "            # 补丁\n",
    "            if node.is_leaf:\n",
    "                continue\n",
    "            # print('DEBUG>>>>>> got node', node)\n",
    "            \n",
    "            tree_old = deepcopy(self)\n",
    "            node.is_leaf = True   # Maybe it's a bad practice, but deepcopy(self) will loss the ref to current node\n",
    "            \n",
    "            print('DEBUG>>>>>> loss: {:.4f}  {:.4f}'.format(self.loss, tree_old.loss))\n",
    "            if self.loss <= tree_old.loss:\n",
    "                # 剪枝\n",
    "                if node.father is not None:\n",
    "                    q.put((-node.father.level, qidx, node.father))\n",
    "                    qidx += 1\n",
    "                    print('Prunning Node: ', node)\n",
    "                else:\n",
    "                    print('Prunned Root Node. Will Stop.')\n",
    "            else:\n",
    "                # 不剪枝\n",
    "                node.is_leaf = False\n",
    "        \n",
    "        \n",
    "    # 训练模型 ------------------------------------------------------------        \n",
    "    def fit(self, df, rule='C4.5'):\n",
    "        \"\"\"构造决策树\"\"\"\n",
    "        \n",
    "        assert rule in ('ID3', 'C4.5')\n",
    "        self.rule = rule\n",
    "        self.data = df\n",
    "        \n",
    "        self.root.entrophy = DescitionTree.em_h(df['y'])\n",
    "        self.root.n = len(df)\n",
    "        \n",
    "        self._construct_subtree(df, self.root)\n",
    "        \n",
    "    def _construct_subtree(self, df, node):\n",
    "        \"\"\"递归构造决策树子树\"\"\"\n",
    "        \n",
    "        # print(\"Calling _construct_subtree... node={}\".format(node))\n",
    "        \n",
    "        feature = self._select_feature(df)\n",
    "        # print(\"Selected feature: {}\".format(feature))\n",
    "        \n",
    "        node.feature = feature\n",
    "        node.values = df[feature].unique().tolist()\n",
    "        \n",
    "        for v in node.values:\n",
    "            # print(\"--> feature value is {}\".format(v))\n",
    "            df_v = df[df[feature] == v]\n",
    "            del df_v[feature]\n",
    "            \n",
    "            self._idx += 1\n",
    "            subnode = Node(self._idx)\n",
    "            subnode.level = node.level + 1\n",
    "            subnode.father = node\n",
    "            subnode.father_feature = feature\n",
    "            subnode.father_value = v\n",
    "            node.children.append(subnode)\n",
    "            \n",
    "            y = df_v['y']\n",
    "            subnode.predict_y_prob = y.value_counts() / len(y)\n",
    "            subnode.predict_y = subnode.predict_y_prob.idxmax()\n",
    "            subnode.entrophy = DescitionTree.em_h(y)\n",
    "            subnode.n = len(y)\n",
    "            \n",
    "            if df_v.columns.__len__() == 1:\n",
    "                # print('>>>>> 没有特征了，到达叶子节点')\n",
    "                subnode.is_leaf = True\n",
    "                continue\n",
    "            else:\n",
    "                self._construct_subtree(df_v, subnode)\n",
    "        # print(\">>>> 子树构造完毕，向上回溯\")\n",
    "            \n",
    "    def _select_feature(self, df):\n",
    "        \"\"\"选择划分特征\"\"\"\n",
    "        \n",
    "        cond_entrophy_s = df.drop('y', axis=1).apply(DescitionTree.em_cond_h, y=df.y)  # H(y|A)\n",
    "        feature_entrophy_s = df.drop('y', axis=1).apply(DescitionTree.em_h)   # H(A)\n",
    "        HD = DescitionTree.em_h(df.y)     # H(y), scalar\n",
    "        info_gain_s = HD - cond_entrophy_s\n",
    "        info_gain_ratio_s = (cond_entrophy_s / feature_entrophy_s).fillna(0.0)\n",
    "        \n",
    "        if self.rule == 'ID3':\n",
    "            return info_gain_s.idxmax()\n",
    "        elif self.rule == 'C4.5':\n",
    "            return info_gain_ratio_s.idxmax()\n",
    "        else:\n",
    "            pass\n",
    "        \n",
    "    @staticmethod\n",
    "    def em_cond_h(x, y):\n",
    "        \"\"\"经验条件熵 empirical coditional entrophy, H(Y|X=xi)\"\"\"\n",
    "        _df = pd.DataFrame({'x': x, 'y': y})\n",
    "        condH_s = _df.groupby('x')['y'].apply(lambda s: DescitionTree.em_h(s)) # H(D_i)\n",
    "        probX_s = _df.x.value_counts() / len(_df.x)   # probs or weights\n",
    "        return sum(probX_s * condH_s)     \n",
    "    \n",
    "    @staticmethod\n",
    "    def em_h(y):\n",
    "        \"\"\"经验熵 empirical entrophy, H(Y)\"\"\"\n",
    "        y = np.asarray(y)\n",
    "        probs = np.unique(y, return_counts=True)[1] / len(y)\n",
    "        return DescitionTree.h(probs)\n",
    "    \n",
    "    @staticmethod\n",
    "    def h(probs):\n",
    "        \"\"\"熵\"\"\"\n",
    "        probs = np.asarray(probs)\n",
    "        assert round(np.sum(probs), 2) == round(1.00, 2)\n",
    "        assert all(probs >= 0)\n",
    "        return -np.sum(probs * np.log2(probs))"
   ]
  },
  {
   "cell_type": "code",
   "execution_count": 74,
   "metadata": {},
   "outputs": [
    {
     "name": "stdout",
     "output_type": "stream",
     "text": [
      "[Root]---------[Node 0] B in ['e', 'f']\n",
      "               >>> B=e--------[Node 1] C in ['g', 'h']\n",
      "                              >>> C=g--------[Node 2] A in ['a']\n",
      "                                             >>> A=a--------[Leaf Node 3] y_hat=3\n",
      "                              >>> C=h--------[Node 4] A in ['a']\n",
      "                                             >>> A=a--------[Leaf Node 5] y_hat=3\n",
      "               >>> B=f--------[Node 6] A in ['b', 'c']\n",
      "                              >>> A=b--------[Node 7] C in ['h', 'i']\n",
      "                                             >>> C=h--------[Leaf Node 8] y_hat=6\n",
      "                                             >>> C=i--------[Leaf Node 9] y_hat=6\n",
      "                              >>> A=c--------[Node 10] C in ['i']\n",
      "                                             >>> C=i--------[Leaf Node 11] y_hat=6\n"
     ]
    }
   ],
   "source": [
    "df = pd.DataFrame({\"A\": list('aaaabbbc'), 'B': list('eeeeffff'),'C':list('ggghhhii'), 'y': [1,2,3,3,6,6,6,6]})\n",
    "\n",
    "tree = DescitionTree()\n",
    "tree.fit(df)\n",
    "tree.plot()"
   ]
  },
  {
   "cell_type": "code",
   "execution_count": 75,
   "metadata": {},
   "outputs": [
    {
     "data": {
      "text/plain": [
       "7.254887502163468"
      ]
     },
     "execution_count": 75,
     "metadata": {},
     "output_type": "execute_result"
    }
   ],
   "source": [
    "tree.loss"
   ]
  },
  {
   "cell_type": "code",
   "execution_count": 76,
   "metadata": {},
   "outputs": [
    {
     "name": "stdout",
     "output_type": "stream",
     "text": [
      "DEBUG>>>>>> loss: 7.2549  7.2549\n",
      "Prunning Node:  [Leaf Node 2] y_hat=3\n",
      "DEBUG>>>>>> loss: 7.2549  7.2549\n",
      "Prunning Node:  [Leaf Node 4] y_hat=3\n",
      "DEBUG>>>>>> loss: 6.7549  7.2549\n",
      "Prunning Node:  [Leaf Node 7] y_hat=6\n",
      "DEBUG>>>>>> loss: 6.7549  6.7549\n",
      "Prunning Node:  [Leaf Node 10] y_hat=6\n",
      "DEBUG>>>>>> loss: 7.5000  6.7549\n",
      "DEBUG>>>>>> loss: 7.5000  6.7549\n",
      "DEBUG>>>>>> loss: 6.2549  6.7549\n",
      "Prunning Node:  [Leaf Node 6] y_hat=6\n",
      "DEBUG>>>>>> loss: 14.5000  6.2549\n",
      "q empty, will stop.\n"
     ]
    }
   ],
   "source": [
    "tree.post_pruning()"
   ]
  },
  {
   "cell_type": "code",
   "execution_count": 77,
   "metadata": {},
   "outputs": [
    {
     "name": "stdout",
     "output_type": "stream",
     "text": [
      "[Root]---------[Node 0] B in ['e', 'f']\n",
      "               >>> B=e--------[Node 1] C in ['g', 'h']\n",
      "                              >>> C=g--------[Leaf Node 2] y_hat=3\n",
      "                              >>> C=h--------[Leaf Node 4] y_hat=3\n",
      "               >>> B=f--------[Leaf Node 6] y_hat=6\n"
     ]
    }
   ],
   "source": [
    "tree.plot()"
   ]
  },
  {
   "cell_type": "code",
   "execution_count": 78,
   "metadata": {},
   "outputs": [
    {
     "data": {
      "text/plain": [
       "6.254887502163468"
      ]
     },
     "execution_count": 78,
     "metadata": {},
     "output_type": "execute_result"
    }
   ],
   "source": [
    "tree.loss"
   ]
  },
  {
   "cell_type": "markdown",
   "metadata": {},
   "source": [
    "## iris example"
   ]
  },
  {
   "cell_type": "code",
   "execution_count": 79,
   "metadata": {},
   "outputs": [],
   "source": [
    "from sklearn.datasets import load_iris"
   ]
  },
  {
   "cell_type": "code",
   "execution_count": 80,
   "metadata": {},
   "outputs": [],
   "source": [
    "iris = load_iris()"
   ]
  },
  {
   "cell_type": "code",
   "execution_count": 81,
   "metadata": {},
   "outputs": [
    {
     "data": {
      "text/html": [
       "<div>\n",
       "<style scoped>\n",
       "    .dataframe tbody tr th:only-of-type {\n",
       "        vertical-align: middle;\n",
       "    }\n",
       "\n",
       "    .dataframe tbody tr th {\n",
       "        vertical-align: top;\n",
       "    }\n",
       "\n",
       "    .dataframe thead th {\n",
       "        text-align: right;\n",
       "    }\n",
       "</style>\n",
       "<table border=\"1\" class=\"dataframe\">\n",
       "  <thead>\n",
       "    <tr style=\"text-align: right;\">\n",
       "      <th></th>\n",
       "      <th>sLength</th>\n",
       "      <th>sWidth</th>\n",
       "      <th>pLength</th>\n",
       "      <th>pWidth</th>\n",
       "      <th>y</th>\n",
       "    </tr>\n",
       "  </thead>\n",
       "  <tbody>\n",
       "    <tr>\n",
       "      <th>0</th>\n",
       "      <td>5</td>\n",
       "      <td>3</td>\n",
       "      <td>1</td>\n",
       "      <td>0</td>\n",
       "      <td>0</td>\n",
       "    </tr>\n",
       "    <tr>\n",
       "      <th>1</th>\n",
       "      <td>4</td>\n",
       "      <td>3</td>\n",
       "      <td>1</td>\n",
       "      <td>0</td>\n",
       "      <td>0</td>\n",
       "    </tr>\n",
       "    <tr>\n",
       "      <th>2</th>\n",
       "      <td>4</td>\n",
       "      <td>3</td>\n",
       "      <td>1</td>\n",
       "      <td>0</td>\n",
       "      <td>0</td>\n",
       "    </tr>\n",
       "    <tr>\n",
       "      <th>3</th>\n",
       "      <td>4</td>\n",
       "      <td>3</td>\n",
       "      <td>1</td>\n",
       "      <td>0</td>\n",
       "      <td>0</td>\n",
       "    </tr>\n",
       "    <tr>\n",
       "      <th>4</th>\n",
       "      <td>5</td>\n",
       "      <td>3</td>\n",
       "      <td>1</td>\n",
       "      <td>0</td>\n",
       "      <td>0</td>\n",
       "    </tr>\n",
       "  </tbody>\n",
       "</table>\n",
       "</div>"
      ],
      "text/plain": [
       "   sLength  sWidth  pLength  pWidth  y\n",
       "0        5       3        1       0  0\n",
       "1        4       3        1       0  0\n",
       "2        4       3        1       0  0\n",
       "3        4       3        1       0  0\n",
       "4        5       3        1       0  0"
      ]
     },
     "execution_count": 81,
     "metadata": {},
     "output_type": "execute_result"
    }
   ],
   "source": [
    "features = ['sLength', 'sWidth', 'pLength', 'pWidth']\n",
    "df = pd.DataFrame(iris.data, columns=features)\n",
    "df = df.apply(lambda x: x.astype(int))  # to discrete var\n",
    "df['y'] = iris.target\n",
    "\n",
    "df.head()"
   ]
  },
  {
   "cell_type": "code",
   "execution_count": 82,
   "metadata": {},
   "outputs": [
    {
     "name": "stdout",
     "output_type": "stream",
     "text": [
      "[Root]---------[Node 0] sWidth in [3, 2, 4]\n",
      "               >>> sWidth=3---[Node 1] sLength in [5, 4, 7, 6]\n",
      "                              >>> sLength=5--[Node 2] pWidth in [0, 1]\n",
      "                                             >>> pWidth=0---[Node 3] pLength in [1]\n",
      "                                                            >>> pLength=1--[Leaf Node 4] y_hat=0\n",
      "                                             >>> pWidth=1---[Node 5] pLength in [4, 5]\n",
      "                                                            >>> pLength=4--[Leaf Node 6] y_hat=1\n",
      "                                                            >>> pLength=5--[Leaf Node 7] y_hat=2\n",
      "                              >>> sLength=4--[Node 8] pLength in [1]\n",
      "                                             >>> pLength=1--[Node 9] pWidth in [0]\n",
      "                                                            >>> pWidth=0---[Leaf Node 10] y_hat=0\n",
      "                              >>> sLength=7--[Node 11] pWidth in [1, 2]\n",
      "                                             >>> pWidth=1---[Node 12] pLength in [4, 6, 5]\n",
      "                                                            >>> pLength=4--[Leaf Node 13] y_hat=1\n",
      "                                                            >>> pLength=6--[Leaf Node 14] y_hat=2\n",
      "                                                            >>> pLength=5--[Leaf Node 15] y_hat=2\n",
      "                                             >>> pWidth=2---[Node 16] pLength in [5, 6]\n",
      "                                                            >>> pLength=5--[Leaf Node 17] y_hat=2\n",
      "                                                            >>> pLength=6--[Leaf Node 18] y_hat=2\n",
      "                              >>> sLength=6--[Node 19] pWidth in [1, 2]\n",
      "                                             >>> pWidth=1---[Node 20] pLength in [4, 5]\n",
      "                                                            >>> pLength=4--[Leaf Node 21] y_hat=1\n",
      "                                                            >>> pLength=5--[Leaf Node 22] y_hat=2\n",
      "                                             >>> pWidth=2---[Node 23] pLength in [6, 5]\n",
      "                                                            >>> pLength=6--[Leaf Node 24] y_hat=2\n",
      "                                                            >>> pLength=5--[Leaf Node 25] y_hat=2\n",
      "               >>> sWidth=2---[Node 26] pWidth in [0, 1, 2]\n",
      "                              >>> pWidth=0---[Node 27] sLength in [4]\n",
      "                                             >>> sLength=4--[Node 28] pLength in [1]\n",
      "                                                            >>> pLength=1--[Leaf Node 29] y_hat=0\n",
      "                              >>> pWidth=1---[Node 30] sLength in [5, 6, 4, 7]\n",
      "                                             >>> sLength=5--[Node 31] pLength in [4, 3, 5]\n",
      "                                                            >>> pLength=4--[Leaf Node 32] y_hat=1\n",
      "                                                            >>> pLength=3--[Leaf Node 33] y_hat=1\n",
      "                                                            >>> pLength=5--[Leaf Node 34] y_hat=2\n",
      "                                             >>> sLength=6--[Node 35] pLength in [4, 5]\n",
      "                                                            >>> pLength=4--[Leaf Node 36] y_hat=1\n",
      "                                                            >>> pLength=5--[Leaf Node 37] y_hat=2\n",
      "                                             >>> sLength=4--[Node 38] pLength in [3, 4]\n",
      "                                                            >>> pLength=3--[Leaf Node 39] y_hat=1\n",
      "                                                            >>> pLength=4--[Leaf Node 40] y_hat=2\n",
      "                                             >>> sLength=7--[Node 41] pLength in [6]\n",
      "                                                            >>> pLength=6--[Leaf Node 42] y_hat=2\n",
      "                              >>> pWidth=2---[Node 43] sLength in [5, 7, 6]\n",
      "                                             >>> sLength=5--[Node 44] pLength in [5, 4]\n",
      "                                                            >>> pLength=5--[Leaf Node 45] y_hat=2\n",
      "                                                            >>> pLength=4--[Leaf Node 46] y_hat=2\n",
      "                                             >>> sLength=7--[Node 47] pLength in [6]\n",
      "                                                            >>> pLength=6--[Leaf Node 48] y_hat=2\n",
      "                                             >>> sLength=6--[Node 49] pLength in [5]\n",
      "                                                            >>> pLength=5--[Leaf Node 50] y_hat=2\n",
      "               >>> sWidth=4---[Node 51] sLength in [5]\n",
      "                              >>> sLength=5--[Node 52] pLength in [1]\n",
      "                                             >>> pLength=1--[Node 53] pWidth in [0]\n",
      "                                                            >>> pWidth=0---[Leaf Node 54] y_hat=0\n"
     ]
    }
   ],
   "source": [
    "m = DescitionTree()\n",
    "m.fit(df)\n",
    "m.plot()"
   ]
  },
  {
   "cell_type": "code",
   "execution_count": 83,
   "metadata": {},
   "outputs": [
    {
     "data": {
      "text/html": [
       "<div>\n",
       "<style scoped>\n",
       "    .dataframe tbody tr th:only-of-type {\n",
       "        vertical-align: middle;\n",
       "    }\n",
       "\n",
       "    .dataframe tbody tr th {\n",
       "        vertical-align: top;\n",
       "    }\n",
       "\n",
       "    .dataframe thead th {\n",
       "        text-align: right;\n",
       "    }\n",
       "</style>\n",
       "<table border=\"1\" class=\"dataframe\">\n",
       "  <thead>\n",
       "    <tr style=\"text-align: right;\">\n",
       "      <th></th>\n",
       "      <th>sLength</th>\n",
       "      <th>sWidth</th>\n",
       "      <th>pLength</th>\n",
       "      <th>pWidth</th>\n",
       "      <th>y</th>\n",
       "      <th>y_hat</th>\n",
       "    </tr>\n",
       "  </thead>\n",
       "  <tbody>\n",
       "    <tr>\n",
       "      <th>77</th>\n",
       "      <td>6</td>\n",
       "      <td>3</td>\n",
       "      <td>5</td>\n",
       "      <td>1</td>\n",
       "      <td>1</td>\n",
       "      <td>2</td>\n",
       "    </tr>\n",
       "    <tr>\n",
       "      <th>83</th>\n",
       "      <td>6</td>\n",
       "      <td>2</td>\n",
       "      <td>5</td>\n",
       "      <td>1</td>\n",
       "      <td>1</td>\n",
       "      <td>2</td>\n",
       "    </tr>\n",
       "    <tr>\n",
       "      <th>123</th>\n",
       "      <td>6</td>\n",
       "      <td>2</td>\n",
       "      <td>4</td>\n",
       "      <td>1</td>\n",
       "      <td>2</td>\n",
       "      <td>1</td>\n",
       "    </tr>\n",
       "    <tr>\n",
       "      <th>126</th>\n",
       "      <td>6</td>\n",
       "      <td>2</td>\n",
       "      <td>4</td>\n",
       "      <td>1</td>\n",
       "      <td>2</td>\n",
       "      <td>1</td>\n",
       "    </tr>\n",
       "    <tr>\n",
       "      <th>127</th>\n",
       "      <td>6</td>\n",
       "      <td>3</td>\n",
       "      <td>4</td>\n",
       "      <td>1</td>\n",
       "      <td>2</td>\n",
       "      <td>1</td>\n",
       "    </tr>\n",
       "    <tr>\n",
       "      <th>138</th>\n",
       "      <td>6</td>\n",
       "      <td>3</td>\n",
       "      <td>4</td>\n",
       "      <td>1</td>\n",
       "      <td>2</td>\n",
       "      <td>1</td>\n",
       "    </tr>\n",
       "  </tbody>\n",
       "</table>\n",
       "</div>"
      ],
      "text/plain": [
       "     sLength  sWidth  pLength  pWidth  y  y_hat\n",
       "77         6       3        5       1  1      2\n",
       "83         6       2        5       1  1      2\n",
       "123        6       2        4       1  2      1\n",
       "126        6       2        4       1  2      1\n",
       "127        6       3        4       1  2      1\n",
       "138        6       3        4       1  2      1"
      ]
     },
     "execution_count": 83,
     "metadata": {},
     "output_type": "execute_result"
    }
   ],
   "source": [
    "df['y_hat'] = df.apply(m.predict, axis=1)\n",
    "df[df.y != df.y_hat]"
   ]
  },
  {
   "cell_type": "code",
   "execution_count": 84,
   "metadata": {},
   "outputs": [
    {
     "data": {
      "text/plain": [
       "36.320326594927444"
      ]
     },
     "execution_count": 84,
     "metadata": {},
     "output_type": "execute_result"
    }
   ],
   "source": [
    "m.loss"
   ]
  },
  {
   "cell_type": "code",
   "execution_count": 85,
   "metadata": {},
   "outputs": [
    {
     "name": "stdout",
     "output_type": "stream",
     "text": [
      "DEBUG>>>>>> loss: 36.3203  36.3203\n",
      "Prunning Node:  [Leaf Node 3] y_hat=0\n",
      "DEBUG>>>>>> loss: 39.9620  36.3203\n",
      "DEBUG>>>>>> loss: 36.3203  36.3203\n",
      "Prunning Node:  [Leaf Node 9] y_hat=0\n",
      "DEBUG>>>>>> loss: 38.0752  36.3203\n",
      "DEBUG>>>>>> loss: 35.8203  36.3203\n",
      "Prunning Node:  [Leaf Node 16] y_hat=2\n",
      "DEBUG>>>>>> loss: 36.9225  35.8203\n",
      "DEBUG>>>>>> loss: 35.3203  35.8203\n",
      "Prunning Node:  [Leaf Node 23] y_hat=2\n",
      "DEBUG>>>>>> loss: 35.3203  35.3203\n",
      "Prunning Node:  [Leaf Node 28] y_hat=0\n",
      "DEBUG>>>>>> loss: 43.8484  35.3203\n",
      "DEBUG>>>>>> loss: 44.1838  35.3203\n",
      "DEBUG>>>>>> loss: 36.8203  35.3203\n",
      "DEBUG>>>>>> loss: 35.3203  35.3203\n",
      "Prunning Node:  [Leaf Node 41] y_hat=2\n",
      "DEBUG>>>>>> loss: 34.8203  35.3203\n",
      "Prunning Node:  [Leaf Node 44] y_hat=2\n",
      "DEBUG>>>>>> loss: 34.8203  34.8203\n",
      "Prunning Node:  [Leaf Node 47] y_hat=2\n",
      "DEBUG>>>>>> loss: 34.8203  34.8203\n",
      "Prunning Node:  [Leaf Node 49] y_hat=2\n",
      "DEBUG>>>>>> loss: 34.8203  34.8203\n",
      "Prunning Node:  [Leaf Node 53] y_hat=0\n",
      "DEBUG>>>>>> loss: 62.5641  34.8203\n",
      "DEBUG>>>>>> loss: 34.8203  34.8203\n",
      "Prunning Node:  [Leaf Node 8] y_hat=0\n",
      "DEBUG>>>>>> loss: 37.8497  34.8203\n",
      "DEBUG>>>>>> loss: 49.7597  34.8203\n",
      "DEBUG>>>>>> loss: 34.8203  34.8203\n",
      "Prunning Node:  [Leaf Node 27] y_hat=0\n",
      "DEBUG>>>>>> loss: 60.2757  34.8203\n",
      "DEBUG>>>>>> loss: 33.8203  34.8203\n",
      "Prunning Node:  [Leaf Node 43] y_hat=2\n",
      "DEBUG>>>>>> loss: 33.8203  33.8203\n",
      "Prunning Node:  [Leaf Node 52] y_hat=0\n",
      "DEBUG>>>>>> loss: 150.0900  33.8203\n",
      "DEBUG>>>>>> loss: 81.7365  33.8203\n",
      "DEBUG>>>>>> loss: 81.7365  33.8203\n",
      "DEBUG>>>>>> loss: 33.8203  33.8203\n",
      "Prunning Node:  [Leaf Node 51] y_hat=0\n",
      "DEBUG>>>>>> loss: 238.2444  33.8203\n",
      "q empty, will stop.\n"
     ]
    }
   ],
   "source": [
    "m.post_pruning()"
   ]
  },
  {
   "cell_type": "code",
   "execution_count": 86,
   "metadata": {},
   "outputs": [
    {
     "name": "stdout",
     "output_type": "stream",
     "text": [
      "[Root]---------[Node 0] sWidth in [3, 2, 4]\n",
      "               >>> sWidth=3---[Node 1] sLength in [5, 4, 7, 6]\n",
      "                              >>> sLength=5--[Node 2] pWidth in [0, 1]\n",
      "                                             >>> pWidth=0---[Leaf Node 3] y_hat=0\n",
      "                                             >>> pWidth=1---[Node 5] pLength in [4, 5]\n",
      "                                                            >>> pLength=4--[Leaf Node 6] y_hat=1\n",
      "                                                            >>> pLength=5--[Leaf Node 7] y_hat=2\n",
      "                              >>> sLength=4--[Leaf Node 8] y_hat=0\n",
      "                              >>> sLength=7--[Node 11] pWidth in [1, 2]\n",
      "                                             >>> pWidth=1---[Node 12] pLength in [4, 6, 5]\n",
      "                                                            >>> pLength=4--[Leaf Node 13] y_hat=1\n",
      "                                                            >>> pLength=6--[Leaf Node 14] y_hat=2\n",
      "                                                            >>> pLength=5--[Leaf Node 15] y_hat=2\n",
      "                                             >>> pWidth=2---[Leaf Node 16] y_hat=2\n",
      "                              >>> sLength=6--[Node 19] pWidth in [1, 2]\n",
      "                                             >>> pWidth=1---[Node 20] pLength in [4, 5]\n",
      "                                                            >>> pLength=4--[Leaf Node 21] y_hat=1\n",
      "                                                            >>> pLength=5--[Leaf Node 22] y_hat=2\n",
      "                                             >>> pWidth=2---[Leaf Node 23] y_hat=2\n",
      "               >>> sWidth=2---[Node 26] pWidth in [0, 1, 2]\n",
      "                              >>> pWidth=0---[Leaf Node 27] y_hat=0\n",
      "                              >>> pWidth=1---[Node 30] sLength in [5, 6, 4, 7]\n",
      "                                             >>> sLength=5--[Node 31] pLength in [4, 3, 5]\n",
      "                                                            >>> pLength=4--[Leaf Node 32] y_hat=1\n",
      "                                                            >>> pLength=3--[Leaf Node 33] y_hat=1\n",
      "                                                            >>> pLength=5--[Leaf Node 34] y_hat=2\n",
      "                                             >>> sLength=6--[Node 35] pLength in [4, 5]\n",
      "                                                            >>> pLength=4--[Leaf Node 36] y_hat=1\n",
      "                                                            >>> pLength=5--[Leaf Node 37] y_hat=2\n",
      "                                             >>> sLength=4--[Node 38] pLength in [3, 4]\n",
      "                                                            >>> pLength=3--[Leaf Node 39] y_hat=1\n",
      "                                                            >>> pLength=4--[Leaf Node 40] y_hat=2\n",
      "                                             >>> sLength=7--[Leaf Node 41] y_hat=2\n",
      "                              >>> pWidth=2---[Leaf Node 43] y_hat=2\n",
      "               >>> sWidth=4---[Leaf Node 51] y_hat=0\n"
     ]
    }
   ],
   "source": [
    "m.plot()"
   ]
  },
  {
   "cell_type": "code",
   "execution_count": 87,
   "metadata": {},
   "outputs": [
    {
     "data": {
      "text/plain": [
       "33.820326594927444"
      ]
     },
     "execution_count": 87,
     "metadata": {},
     "output_type": "execute_result"
    }
   ],
   "source": [
    "m.loss"
   ]
  },
  {
   "cell_type": "markdown",
   "metadata": {},
   "source": [
    "## TODO"
   ]
  },
  {
   "cell_type": "markdown",
   "metadata": {},
   "source": [
    "- 参数alpah的意义？如何选择？\n",
    "- 上面两个例子，alpha = 0时 loss几乎不变，是正常的、还是巧合、还是代码仍有问题？"
   ]
  },
  {
   "cell_type": "code",
   "execution_count": null,
   "metadata": {},
   "outputs": [],
   "source": []
  }
 ],
 "metadata": {
  "kernelspec": {
   "display_name": "Python 3",
   "language": "python",
   "name": "python3"
  },
  "language_info": {
   "codemirror_mode": {
    "name": "ipython",
    "version": 3
   },
   "file_extension": ".py",
   "mimetype": "text/x-python",
   "name": "python",
   "nbconvert_exporter": "python",
   "pygments_lexer": "ipython3",
   "version": "3.6.4"
  }
 },
 "nbformat": 4,
 "nbformat_minor": 2
}
