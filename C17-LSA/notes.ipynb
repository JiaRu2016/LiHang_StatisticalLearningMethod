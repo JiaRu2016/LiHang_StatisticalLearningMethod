{
 "cells": [
  {
   "cell_type": "markdown",
   "metadata": {},
   "source": [
    "## Outline\n",
    "\n",
    "\n",
    "### Lihange C17. LDA  \n",
    "\n",
    "$$ X = Y T  $$\n",
    "\n",
    "where \n",
    "\n",
    "- X is doc-word matrix, *word-vector space*\n",
    "- Y is doc-topic matirx, *word-topic space*\n",
    "- T is topic-word matrix, transforming from word-vector space to topic-vector space\n",
    "\n",
    "how to get Y and T ? svd\n",
    "\n",
    "$$ X = U \\Sigma V^T $$\n",
    "\n",
    "here \n",
    "\n",
    "$$ V^T  \\text{ is topic-word matrix } T $$\n",
    "\n",
    "$$ U\\Sigma \\text{ is } Y  $$\n",
    "\n",
    "\n",
    "\n",
    "### sklearn - working with text data  \n",
    "\n",
    "Clustering Documents\n",
    "features: doc-word matrix. Use tf-idf\n",
    "\n",
    "\n",
    "## tf-idf  \n",
    "\n",
    "\n",
    "$$ TFIDF = TF * IDF = \\frac{n_{i,j}}{n_i}  \\log(\\frac{D}{D_j}) $$"
   ]
  },
  {
   "cell_type": "code",
   "execution_count": null,
   "metadata": {},
   "outputs": [],
   "source": []
  }
 ],
 "metadata": {
  "kernelspec": {
   "display_name": "Python 3",
   "language": "python",
   "name": "python3"
  },
  "language_info": {
   "codemirror_mode": {
    "name": "ipython",
    "version": 3
   },
   "file_extension": ".py",
   "mimetype": "text/x-python",
   "name": "python",
   "nbconvert_exporter": "python",
   "pygments_lexer": "ipython3",
   "version": "3.6.4"
  }
 },
 "nbformat": 4,
 "nbformat_minor": 2
}
