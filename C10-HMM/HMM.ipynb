{
 "cells": [
  {
   "cell_type": "markdown",
   "metadata": {},
   "source": [
    "## HMM"
   ]
  },
  {
   "cell_type": "markdown",
   "metadata": {},
   "source": [
    "### Model Specification & Notation\n",
    "\n",
    "state set \n",
    "$$ S = \\{ s_1, s_2, \\dots, s_N \\}, \\quad s_i, s_j$$\n",
    "\n",
    "obseration set \n",
    "$$ O = \\{ o_1, o_2, \\dots, o_M \\}, \\quad o_k $$\n",
    "\n",
    "model parameter\n",
    "$$ \\lambda  =  (\\pi, A, B) $$   \n",
    "where\n",
    "$$ A_{ij} = P(s^{(t)} = s_j | s^{(t-1)} = s_i)$$   \n",
    "$$ B_{j}(k) = P(o = o_k | s = s_j)$$   \n",
    "$$ \\pi_i = P(s^{(1)} = s_i)  $$"
   ]
  },
  {
   "cell_type": "markdown",
   "metadata": {},
   "source": [
    "### \"greeks\"\n",
    "\n",
    "$\\alpha$ is complete data prob, while $\\beta$ is cond prob\n",
    "\n",
    "$$ \\alpha_t(i) \\overset{def}{=} P(o_1, \\dots, o_t, s_t = s_i | \\lambda) $$   \n",
    "$$ \\beta_t(i) \\overset{def}{=} P(o_{t+1}, \\dots, o_T, | s_t = s_i, \\lambda) $$\n",
    "\n",
    "conditional prob (conditional on total observation seq $O$):\n",
    "\n",
    "$$ \\gamma_t(i) \\overset{def}{=} P(s_t = s_i | O, \\lambda) $$   \n",
    "$$ \\xi_t(i, j) \\overset{def}{=} P(s_t = s_i, s_{t+1} = s_j | O, \\lambda) $$   \n",
    "\n",
    "forward-backward formula of $\\alpha, \\beta$\n",
    "\n",
    "$$ \\alpha_{t+1}(i) = \\big( \\sum_{j=1}^N \\alpha_t(j) A_{ji} \\big) B_i(o_{t+1}) $$\n",
    "$$ \\alpha_1(i) = \\pi_i B_i(o_1) $$\n",
    "\n",
    "$$ \\beta_t(i) = \\sum_{j=1}^N \\beta_{t+1}(j) A_{ij} B_i(o_t) $$\n",
    "$$ \\beta_T(i) = 1 $$\n",
    "\n",
    "$\\gamma$ and $\\xi$ (based on alpha and beta)\n",
    "\n",
    "$$ \\gamma_t(i) = \\frac{\\alpha_t(i) \\beta_t(i)}{\\sum_{s=1}^N \\alpha_t(s) \\beta_t(s)} $$\n",
    "\n",
    "$$ \\xi_t(i, j) = \\frac{\\alpha_t(i)\\ A_{ij}\\ \\beta_{t+1}(j) \\ B_j(o_{t+1})}{\\sum_{s=1}^N \\sum_{q=1}^N ...} $$"
   ]
  },
  {
   "cell_type": "markdown",
   "metadata": {},
   "source": [
    "![](./HMM_greeks.png)"
   ]
  },
  {
   "cell_type": "code",
   "execution_count": null,
   "metadata": {},
   "outputs": [],
   "source": []
  }
 ],
 "metadata": {
  "kernelspec": {
   "display_name": "Python 3",
   "language": "python",
   "name": "python3"
  },
  "language_info": {
   "codemirror_mode": {
    "name": "ipython",
    "version": 3
   },
   "file_extension": ".py",
   "mimetype": "text/x-python",
   "name": "python",
   "nbconvert_exporter": "python",
   "pygments_lexer": "ipython3",
   "version": "3.6.4"
  }
 },
 "nbformat": 4,
 "nbformat_minor": 2
}
