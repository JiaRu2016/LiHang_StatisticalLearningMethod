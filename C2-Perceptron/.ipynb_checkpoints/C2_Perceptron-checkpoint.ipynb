{
 "cells": [
  {
   "cell_type": "code",
   "execution_count": 299,
   "metadata": {},
   "outputs": [],
   "source": [
    "import pandas as pd\n",
    "import numpy as np\n",
    "\n",
    "%matplotlib inline\n",
    "import matplotlib.pyplot as plt"
   ]
  },
  {
   "cell_type": "code",
   "execution_count": 300,
   "metadata": {},
   "outputs": [
    {
     "name": "stdout",
     "output_type": "stream",
     "text": [
      "[[ 3  2 30]\n",
      " [ 4  4 30]\n",
      " [ 1  2 10]\n",
      " [ 1  0  0]\n",
      " [ 2  1 10]]\n",
      "[[ 1]\n",
      " [ 1]\n",
      " [-1]\n",
      " [-1]\n",
      " [-1]]\n"
     ]
    }
   ],
   "source": [
    "X = np.array([[3, 2, 30], \n",
    "              [4, 4, 30], \n",
    "              [1, 2, 10], \n",
    "              [1, 0, 0], \n",
    "              [2, 1, 10]\n",
    "             ])\n",
    "print(X)\n",
    "\n",
    "y = [[1], [1], [-1], [-1], [-1]]\n",
    "y = np.array(y)\n",
    "print(y)"
   ]
  },
  {
   "cell_type": "code",
   "execution_count": null,
   "metadata": {},
   "outputs": [],
   "source": []
  },
  {
   "cell_type": "code",
   "execution_count": 301,
   "metadata": {},
   "outputs": [],
   "source": [
    "class Perceptron(object):\n",
    "    \"\"\"感知机\n",
    "    \"\"\"\n",
    "    def __init__(self, X, y, w_init=None, b_init=0, eta=0.01):\n",
    "        self.X = X\n",
    "        self.y = y\n",
    "        self.b_init = b_init\n",
    "        if w_init is None:\n",
    "            w_init = np.array([[0.0001] * X.shape[1]]).T  # w初始值，设为接近于0的向量\n",
    "        self.w_init = w_init\n",
    "                \n",
    "        # 超参\n",
    "        self.eta = eta        # 学习率\n",
    "        self.max_iter = 100   # 最大迭代次数\n",
    "        \n",
    "        # 以下都是迭代计算时的中间变量\n",
    "        self.w = w_init\n",
    "        self.b = b_init\n",
    "        self.y_hat = None\n",
    "        self.mis_classify_vec = None\n",
    "        self.df = pd.DataFrame()\n",
    "    \n",
    "    @staticmethod\n",
    "    def pnorm(p):\n",
    "        def func(x):\n",
    "            return np.sum(np.abs(x) ** p) ** (1 / p)\n",
    "        return func\n",
    "    \n",
    "    def f(self, x, w, b):\n",
    "        \"\"\"Model: linear model\n",
    "        \"\"\"\n",
    "        return np.dot(x, w) + b\n",
    "\n",
    "    def LossFunction(self, x, y, w, b):\n",
    "        \"\"\"Strategy: 0-1 loss function, empirical risk function\n",
    "        \"\"\"\n",
    "        y_hat = f(x, w, b)\n",
    "        mask_vector = y_hat * y < 0    # 是否误分类。0-1覆盖向量\n",
    "        distance = 1 / pnorm(2)(w) * pnorm(1)(y_hat * mask_vector)    # 误分类点到超平面距离之和    \n",
    "        self.mis_classify_vec = mask_vector\n",
    "        return distance\n",
    "    \n",
    "    def run(self):\n",
    "        i = 0\n",
    "        w = w_init\n",
    "        b = b_init\n",
    "        while True:\n",
    "            if i > self.max_iter:\n",
    "                print(f'i > {self.max_iter}, break')\n",
    "                break\n",
    "            #print(f'-------------------- i = {i} --------------------')\n",
    "            k = self.X.shape[1]\n",
    "            for ki in range(k):\n",
    "                self.df.loc[i, 'w_{}'.format(ki+1)] = float(self.w[ki])\n",
    "            self.df.loc[i, 'b'] = self.b\n",
    "            loss = self.LossFunction(self.X, self.y, self.w, self.b)  # 计算lossfunciton\n",
    "            self.df.loc[i, 'loss'] = loss\n",
    "            \n",
    "            if not any(self.mis_classify_vec):\n",
    "                print(f'All instance correctly classified. Done. i={i}')\n",
    "                break\n",
    "            false_index = np.where(self.mis_classify_vec)[0][0]  # 随机找一个误分类的实例（这里采用index最小的那个）\n",
    "            y_i = y[false_index]\n",
    "            x_i = X[false_index]\n",
    "            \n",
    "            self.w[:, 0] = self.w[:, 0] + self.eta * y_i * x_i\n",
    "            self.b = float(self.b + self.eta * y_i)\n",
    "            \n",
    "            self.df.loc[i, 'false_index'] = false_index\n",
    "            \n",
    "            i += 1 "
   ]
  },
  {
   "cell_type": "code",
   "execution_count": null,
   "metadata": {},
   "outputs": [],
   "source": []
  },
  {
   "cell_type": "code",
   "execution_count": 302,
   "metadata": {},
   "outputs": [
    {
     "name": "stdout",
     "output_type": "stream",
     "text": [
      "All instance correctly classified. Done. i=67\n"
     ]
    }
   ],
   "source": [
    "m = Perceptron(X, y)\n",
    "m.run()"
   ]
  },
  {
   "cell_type": "code",
   "execution_count": 303,
   "metadata": {},
   "outputs": [],
   "source": [
    "df = m.df.copy()"
   ]
  },
  {
   "cell_type": "code",
   "execution_count": 304,
   "metadata": {},
   "outputs": [
    {
     "data": {
      "text/html": [
       "<div>\n",
       "<style scoped>\n",
       "    .dataframe tbody tr th:only-of-type {\n",
       "        vertical-align: middle;\n",
       "    }\n",
       "\n",
       "    .dataframe tbody tr th {\n",
       "        vertical-align: top;\n",
       "    }\n",
       "\n",
       "    .dataframe thead th {\n",
       "        text-align: right;\n",
       "    }\n",
       "</style>\n",
       "<table border=\"1\" class=\"dataframe\">\n",
       "  <thead>\n",
       "    <tr style=\"text-align: right;\">\n",
       "      <th></th>\n",
       "      <th>w_1</th>\n",
       "      <th>w_2</th>\n",
       "      <th>w_3</th>\n",
       "      <th>b</th>\n",
       "      <th>loss</th>\n",
       "      <th>false_index</th>\n",
       "    </tr>\n",
       "  </thead>\n",
       "  <tbody>\n",
       "    <tr>\n",
       "      <th>63</th>\n",
       "      <td>-0.0399</td>\n",
       "      <td>-0.5699</td>\n",
       "      <td>0.1001</td>\n",
       "      <td>-0.31</td>\n",
       "      <td>0.071207</td>\n",
       "      <td>4.0</td>\n",
       "    </tr>\n",
       "    <tr>\n",
       "      <th>64</th>\n",
       "      <td>-0.0599</td>\n",
       "      <td>-0.5799</td>\n",
       "      <td>0.0001</td>\n",
       "      <td>-0.32</td>\n",
       "      <td>7.774980</td>\n",
       "      <td>0.0</td>\n",
       "    </tr>\n",
       "    <tr>\n",
       "      <th>65</th>\n",
       "      <td>-0.0299</td>\n",
       "      <td>-0.5599</td>\n",
       "      <td>0.3001</td>\n",
       "      <td>-0.31</td>\n",
       "      <td>5.680568</td>\n",
       "      <td>2.0</td>\n",
       "    </tr>\n",
       "    <tr>\n",
       "      <th>66</th>\n",
       "      <td>-0.0399</td>\n",
       "      <td>-0.5799</td>\n",
       "      <td>0.2001</td>\n",
       "      <td>-0.32</td>\n",
       "      <td>2.444251</td>\n",
       "      <td>2.0</td>\n",
       "    </tr>\n",
       "    <tr>\n",
       "      <th>67</th>\n",
       "      <td>-0.0499</td>\n",
       "      <td>-0.5999</td>\n",
       "      <td>0.1001</td>\n",
       "      <td>-0.33</td>\n",
       "      <td>0.000000</td>\n",
       "      <td>NaN</td>\n",
       "    </tr>\n",
       "  </tbody>\n",
       "</table>\n",
       "</div>"
      ],
      "text/plain": [
       "       w_1     w_2     w_3     b      loss  false_index\n",
       "63 -0.0399 -0.5699  0.1001 -0.31  0.071207          4.0\n",
       "64 -0.0599 -0.5799  0.0001 -0.32  7.774980          0.0\n",
       "65 -0.0299 -0.5599  0.3001 -0.31  5.680568          2.0\n",
       "66 -0.0399 -0.5799  0.2001 -0.32  2.444251          2.0\n",
       "67 -0.0499 -0.5999  0.1001 -0.33  0.000000          NaN"
      ]
     },
     "execution_count": 304,
     "metadata": {},
     "output_type": "execute_result"
    }
   ],
   "source": [
    "df.tail()"
   ]
  },
  {
   "cell_type": "code",
   "execution_count": 305,
   "metadata": {},
   "outputs": [
    {
     "data": {
      "text/plain": [
       "<matplotlib.axes._subplots.AxesSubplot at 0x10defc320>"
      ]
     },
     "execution_count": 305,
     "metadata": {},
     "output_type": "execute_result"
    },
    {
     "data": {
      "image/png": "[encoded data removed]",
      "text/plain": [
       "<Figure size 432x288 with 1 Axes>"
      ]
     },
     "metadata": {
      "needs_background": "light"
     },
     "output_type": "display_data"
    }
   ],
   "source": [
    "df.loss.plot()"
   ]
  },
  {
   "cell_type": "code",
   "execution_count": 306,
   "metadata": {},
   "outputs": [
    {
     "data": {
      "text/plain": [
       "<matplotlib.axes._subplots.AxesSubplot at 0x10dfbdd30>"
      ]
     },
     "execution_count": 306,
     "metadata": {},
     "output_type": "execute_result"
    },
    {
     "data": {
      "image/png": "[encoded data removed]",
      "text/plain": [
       "<Figure size 432x288 with 1 Axes>"
      ]
     },
     "metadata": {
      "needs_background": "light"
     },
     "output_type": "display_data"
    }
   ],
   "source": [
    "df[['w_{}'.format(i+1) for i in range(X.shape[1])]].plot()"
   ]
  },
  {
   "cell_type": "code",
   "execution_count": 307,
   "metadata": {},
   "outputs": [
    {
     "data": {
      "text/plain": [
       "Text(0.5, 1.0, '# of iter: 67')"
      ]
     },
     "execution_count": 307,
     "metadata": {},
     "output_type": "execute_result"
    },
    {
     "data": {
      "image/png": "[encoded data removed]",
      "text/plain": [
       "<Figure size 432x288 with 1 Axes>"
      ]
     },
     "metadata": {
      "needs_background": "light"
     },
     "output_type": "display_data"
    }
   ],
   "source": [
    "# k = 2, plot\n",
    "\n",
    "def abline(slope, intercept, ax):\n",
    "    xs = ax.get_xlim()\n",
    "    ys = [x * slope + intercept for x in xs]\n",
    "    ax.plot(xs, ys)\n",
    "\n",
    "fig, ax = plt.subplots()\n",
    "\n",
    "x_1 = X[:, 0]\n",
    "x_2 = X[:, 1]\n",
    "color_vec = [{-1: 'red', 1: 'green'}[key] for key in y[:, 0]]\n",
    "ax.scatter(x=x_1, y=x_2, c=color_vec)\n",
    "\n",
    "\n",
    "i = df.index[-1]\n",
    "w_1 = df.loc[i, 'w_1']\n",
    "w_2 = df.loc[i, 'w_2']\n",
    "b = df.loc[i, 'b']\n",
    "slope = - w_1 / w_2\n",
    "intercept = - b / w_2\n",
    "\n",
    "abline(slope, intercept, ax)\n",
    "ax.set_title(label=f'# of iter: {i}')"
   ]
  },
  {
   "cell_type": "code",
   "execution_count": null,
   "metadata": {},
   "outputs": [],
   "source": []
  },
  {
   "cell_type": "code",
   "execution_count": null,
   "metadata": {},
   "outputs": [],
   "source": []
  },
  {
   "cell_type": "code",
   "execution_count": null,
   "metadata": {},
   "outputs": [],
   "source": []
  },
  {
   "cell_type": "code",
   "execution_count": 309,
   "metadata": {},
   "outputs": [],
   "source": [
    "from sklearn import datasets"
   ]
  },
  {
   "cell_type": "code",
   "execution_count": 310,
   "metadata": {},
   "outputs": [],
   "source": [
    "iris = datasets.load_iris()"
   ]
  },
  {
   "cell_type": "code",
   "execution_count": 329,
   "metadata": {},
   "outputs": [
    {
     "data": {
      "text/html": [
       "<div>\n",
       "<style scoped>\n",
       "    .dataframe tbody tr th:only-of-type {\n",
       "        vertical-align: middle;\n",
       "    }\n",
       "\n",
       "    .dataframe tbody tr th {\n",
       "        vertical-align: top;\n",
       "    }\n",
       "\n",
       "    .dataframe thead th {\n",
       "        text-align: right;\n",
       "    }\n",
       "</style>\n",
       "<table border=\"1\" class=\"dataframe\">\n",
       "  <thead>\n",
       "    <tr style=\"text-align: right;\">\n",
       "      <th></th>\n",
       "      <th>sepal length (cm)</th>\n",
       "      <th>sepal width (cm)</th>\n",
       "      <th>petal length (cm)</th>\n",
       "      <th>petal width (cm)</th>\n",
       "      <th>target</th>\n",
       "    </tr>\n",
       "  </thead>\n",
       "  <tbody>\n",
       "    <tr>\n",
       "      <th>0</th>\n",
       "      <td>5.1</td>\n",
       "      <td>3.5</td>\n",
       "      <td>1.4</td>\n",
       "      <td>0.2</td>\n",
       "      <td>0</td>\n",
       "    </tr>\n",
       "    <tr>\n",
       "      <th>1</th>\n",
       "      <td>4.9</td>\n",
       "      <td>3.0</td>\n",
       "      <td>1.4</td>\n",
       "      <td>0.2</td>\n",
       "      <td>0</td>\n",
       "    </tr>\n",
       "    <tr>\n",
       "      <th>2</th>\n",
       "      <td>4.7</td>\n",
       "      <td>3.2</td>\n",
       "      <td>1.3</td>\n",
       "      <td>0.2</td>\n",
       "      <td>0</td>\n",
       "    </tr>\n",
       "    <tr>\n",
       "      <th>3</th>\n",
       "      <td>4.6</td>\n",
       "      <td>3.1</td>\n",
       "      <td>1.5</td>\n",
       "      <td>0.2</td>\n",
       "      <td>0</td>\n",
       "    </tr>\n",
       "    <tr>\n",
       "      <th>4</th>\n",
       "      <td>5.0</td>\n",
       "      <td>3.6</td>\n",
       "      <td>1.4</td>\n",
       "      <td>0.2</td>\n",
       "      <td>0</td>\n",
       "    </tr>\n",
       "  </tbody>\n",
       "</table>\n",
       "</div>"
      ],
      "text/plain": [
       "   sepal length (cm)  sepal width (cm)  petal length (cm)  petal width (cm)  \\\n",
       "0                5.1               3.5                1.4               0.2   \n",
       "1                4.9               3.0                1.4               0.2   \n",
       "2                4.7               3.2                1.3               0.2   \n",
       "3                4.6               3.1                1.5               0.2   \n",
       "4                5.0               3.6                1.4               0.2   \n",
       "\n",
       "   target  \n",
       "0       0  \n",
       "1       0  \n",
       "2       0  \n",
       "3       0  \n",
       "4       0  "
      ]
     },
     "execution_count": 329,
     "metadata": {},
     "output_type": "execute_result"
    }
   ],
   "source": [
    "df = pd.DataFrame(iris['data'], columns=iris['feature_names'])\n",
    "df['target'] = iris['target']\n",
    "\n",
    "df.head()"
   ]
  },
  {
   "cell_type": "code",
   "execution_count": 342,
   "metadata": {},
   "outputs": [
    {
     "data": {
      "text/html": [
       "<div>\n",
       "<style scoped>\n",
       "    .dataframe tbody tr th:only-of-type {\n",
       "        vertical-align: middle;\n",
       "    }\n",
       "\n",
       "    .dataframe tbody tr th {\n",
       "        vertical-align: top;\n",
       "    }\n",
       "\n",
       "    .dataframe thead th {\n",
       "        text-align: right;\n",
       "    }\n",
       "</style>\n",
       "<table border=\"1\" class=\"dataframe\">\n",
       "  <thead>\n",
       "    <tr style=\"text-align: right;\">\n",
       "      <th></th>\n",
       "      <th>sepal length (cm)</th>\n",
       "      <th>sepal width (cm)</th>\n",
       "      <th>petal length (cm)</th>\n",
       "      <th>petal width (cm)</th>\n",
       "      <th>target</th>\n",
       "      <th>y</th>\n",
       "    </tr>\n",
       "  </thead>\n",
       "  <tbody>\n",
       "    <tr>\n",
       "      <th>97</th>\n",
       "      <td>6.2</td>\n",
       "      <td>2.9</td>\n",
       "      <td>4.3</td>\n",
       "      <td>1.3</td>\n",
       "      <td>1</td>\n",
       "      <td>1</td>\n",
       "    </tr>\n",
       "    <tr>\n",
       "      <th>30</th>\n",
       "      <td>4.8</td>\n",
       "      <td>3.1</td>\n",
       "      <td>1.6</td>\n",
       "      <td>0.2</td>\n",
       "      <td>0</td>\n",
       "      <td>-1</td>\n",
       "    </tr>\n",
       "    <tr>\n",
       "      <th>117</th>\n",
       "      <td>7.7</td>\n",
       "      <td>3.8</td>\n",
       "      <td>6.7</td>\n",
       "      <td>2.2</td>\n",
       "      <td>2</td>\n",
       "      <td>1</td>\n",
       "    </tr>\n",
       "    <tr>\n",
       "      <th>29</th>\n",
       "      <td>4.7</td>\n",
       "      <td>3.2</td>\n",
       "      <td>1.6</td>\n",
       "      <td>0.2</td>\n",
       "      <td>0</td>\n",
       "      <td>-1</td>\n",
       "    </tr>\n",
       "    <tr>\n",
       "      <th>34</th>\n",
       "      <td>4.9</td>\n",
       "      <td>3.1</td>\n",
       "      <td>1.5</td>\n",
       "      <td>0.2</td>\n",
       "      <td>0</td>\n",
       "      <td>-1</td>\n",
       "    </tr>\n",
       "  </tbody>\n",
       "</table>\n",
       "</div>"
      ],
      "text/plain": [
       "     sepal length (cm)  sepal width (cm)  petal length (cm)  petal width (cm)  \\\n",
       "97                 6.2               2.9                4.3               1.3   \n",
       "30                 4.8               3.1                1.6               0.2   \n",
       "117                7.7               3.8                6.7               2.2   \n",
       "29                 4.7               3.2                1.6               0.2   \n",
       "34                 4.9               3.1                1.5               0.2   \n",
       "\n",
       "     target  y  \n",
       "97        1  1  \n",
       "30        0 -1  \n",
       "117       2  1  \n",
       "29        0 -1  \n",
       "34        0 -1  "
      ]
     },
     "execution_count": 342,
     "metadata": {},
     "output_type": "execute_result"
    }
   ],
   "source": []
  },
  {
   "cell_type": "code",
   "execution_count": 343,
   "metadata": {},
   "outputs": [
    {
     "data": {
      "text/html": [
       "<div>\n",
       "<style scoped>\n",
       "    .dataframe tbody tr th:only-of-type {\n",
       "        vertical-align: middle;\n",
       "    }\n",
       "\n",
       "    .dataframe tbody tr th {\n",
       "        vertical-align: top;\n",
       "    }\n",
       "\n",
       "    .dataframe thead th {\n",
       "        text-align: right;\n",
       "    }\n",
       "</style>\n",
       "<table border=\"1\" class=\"dataframe\">\n",
       "  <thead>\n",
       "    <tr style=\"text-align: right;\">\n",
       "      <th></th>\n",
       "      <th>sepal length (cm)</th>\n",
       "      <th>sepal width (cm)</th>\n",
       "      <th>petal length (cm)</th>\n",
       "      <th>petal width (cm)</th>\n",
       "      <th>target</th>\n",
       "      <th>y</th>\n",
       "    </tr>\n",
       "  </thead>\n",
       "  <tbody>\n",
       "    <tr>\n",
       "      <th>27</th>\n",
       "      <td>5.2</td>\n",
       "      <td>3.5</td>\n",
       "      <td>1.5</td>\n",
       "      <td>0.2</td>\n",
       "      <td>0</td>\n",
       "      <td>-1</td>\n",
       "    </tr>\n",
       "    <tr>\n",
       "      <th>25</th>\n",
       "      <td>5.0</td>\n",
       "      <td>3.0</td>\n",
       "      <td>1.6</td>\n",
       "      <td>0.2</td>\n",
       "      <td>0</td>\n",
       "      <td>-1</td>\n",
       "    </tr>\n",
       "    <tr>\n",
       "      <th>69</th>\n",
       "      <td>5.6</td>\n",
       "      <td>2.5</td>\n",
       "      <td>3.9</td>\n",
       "      <td>1.1</td>\n",
       "      <td>1</td>\n",
       "      <td>1</td>\n",
       "    </tr>\n",
       "    <tr>\n",
       "      <th>137</th>\n",
       "      <td>6.4</td>\n",
       "      <td>3.1</td>\n",
       "      <td>5.5</td>\n",
       "      <td>1.8</td>\n",
       "      <td>2</td>\n",
       "      <td>1</td>\n",
       "    </tr>\n",
       "    <tr>\n",
       "      <th>52</th>\n",
       "      <td>6.9</td>\n",
       "      <td>3.1</td>\n",
       "      <td>4.9</td>\n",
       "      <td>1.5</td>\n",
       "      <td>1</td>\n",
       "      <td>1</td>\n",
       "    </tr>\n",
       "  </tbody>\n",
       "</table>\n",
       "</div>"
      ],
      "text/plain": [
       "     sepal length (cm)  sepal width (cm)  petal length (cm)  petal width (cm)  \\\n",
       "27                 5.2               3.5                1.5               0.2   \n",
       "25                 5.0               3.0                1.6               0.2   \n",
       "69                 5.6               2.5                3.9               1.1   \n",
       "137                6.4               3.1                5.5               1.8   \n",
       "52                 6.9               3.1                4.9               1.5   \n",
       "\n",
       "     target  y  \n",
       "27        0 -1  \n",
       "25        0 -1  \n",
       "69        1  1  \n",
       "137       2  1  \n",
       "52        1  1  "
      ]
     },
     "execution_count": 343,
     "metadata": {},
     "output_type": "execute_result"
    },
    {
     "data": {
      "image/png": "[encoded data removed]",
      "text/plain": [
       "<Figure size 432x288 with 1 Axes>"
      ]
     },
     "metadata": {
      "needs_background": "light"
     },
     "output_type": "display_data"
    }
   ],
   "source": [
    "fig, ax = plt.subplots()\n",
    "\n",
    "ax.scatter(x=df['petal length (cm)'], y=df['petal width (cm)'], c=df['target'])\n",
    "\n",
    "# df.groupby('target').mean()\n",
    "df['y'] = [1 if x else -1 for x in df['target'].isin([1, 2])]\n",
    "df.sample(5)"
   ]
  },
  {
   "cell_type": "code",
   "execution_count": 353,
   "metadata": {},
   "outputs": [
    {
     "name": "stdout",
     "output_type": "stream",
     "text": [
      "All instance correctly classified. Done. i=4\n"
     ]
    }
   ],
   "source": [
    "X = df[['petal length (cm)', 'petal width (cm)']].values\n",
    "y = np.array([df['y']]).T\n",
    "\n",
    "m2 = Perceptron(X, y)\n",
    "m2.run()"
   ]
  },
  {
   "cell_type": "code",
   "execution_count": 354,
   "metadata": {},
   "outputs": [
    {
     "data": {
      "text/html": [
       "<div>\n",
       "<style scoped>\n",
       "    .dataframe tbody tr th:only-of-type {\n",
       "        vertical-align: middle;\n",
       "    }\n",
       "\n",
       "    .dataframe tbody tr th {\n",
       "        vertical-align: top;\n",
       "    }\n",
       "\n",
       "    .dataframe thead th {\n",
       "        text-align: right;\n",
       "    }\n",
       "</style>\n",
       "<table border=\"1\" class=\"dataframe\">\n",
       "  <thead>\n",
       "    <tr style=\"text-align: right;\">\n",
       "      <th></th>\n",
       "      <th>w_1</th>\n",
       "      <th>w_2</th>\n",
       "      <th>b</th>\n",
       "      <th>loss</th>\n",
       "      <th>false_index</th>\n",
       "    </tr>\n",
       "  </thead>\n",
       "  <tbody>\n",
       "    <tr>\n",
       "      <th>0</th>\n",
       "      <td>0.0001</td>\n",
       "      <td>0.0001</td>\n",
       "      <td>0.00</td>\n",
       "      <td>60.386919</td>\n",
       "      <td>0.0</td>\n",
       "    </tr>\n",
       "    <tr>\n",
       "      <th>1</th>\n",
       "      <td>-0.0139</td>\n",
       "      <td>-0.0019</td>\n",
       "      <td>-0.01</td>\n",
       "      <td>580.057880</td>\n",
       "      <td>50.0</td>\n",
       "    </tr>\n",
       "    <tr>\n",
       "      <th>2</th>\n",
       "      <td>0.0331</td>\n",
       "      <td>0.0121</td>\n",
       "      <td>0.00</td>\n",
       "      <td>72.879457</td>\n",
       "      <td>0.0</td>\n",
       "    </tr>\n",
       "    <tr>\n",
       "      <th>3</th>\n",
       "      <td>0.0191</td>\n",
       "      <td>0.0101</td>\n",
       "      <td>-0.01</td>\n",
       "      <td>47.229435</td>\n",
       "      <td>0.0</td>\n",
       "    </tr>\n",
       "    <tr>\n",
       "      <th>4</th>\n",
       "      <td>0.0051</td>\n",
       "      <td>0.0081</td>\n",
       "      <td>-0.02</td>\n",
       "      <td>0.000000</td>\n",
       "      <td>NaN</td>\n",
       "    </tr>\n",
       "  </tbody>\n",
       "</table>\n",
       "</div>"
      ],
      "text/plain": [
       "      w_1     w_2     b        loss  false_index\n",
       "0  0.0001  0.0001  0.00   60.386919          0.0\n",
       "1 -0.0139 -0.0019 -0.01  580.057880         50.0\n",
       "2  0.0331  0.0121  0.00   72.879457          0.0\n",
       "3  0.0191  0.0101 -0.01   47.229435          0.0\n",
       "4  0.0051  0.0081 -0.02    0.000000          NaN"
      ]
     },
     "execution_count": 354,
     "metadata": {},
     "output_type": "execute_result"
    }
   ],
   "source": [
    "m2.df"
   ]
  },
  {
   "cell_type": "code",
   "execution_count": 358,
   "metadata": {},
   "outputs": [
    {
     "data": {
      "image/png": "[encoded data removed]",
      "text/plain": [
       "<Figure size 432x288 with 1 Axes>"
      ]
     },
     "metadata": {
      "needs_background": "light"
     },
     "output_type": "display_data"
    },
    {
     "data": {
      "image/png": "[encoded data removed]",
      "text/plain": [
       "<Figure size 432x288 with 1 Axes>"
      ]
     },
     "metadata": {
      "needs_background": "light"
     },
     "output_type": "display_data"
    },
    {
     "data": {
      "image/png": "[encoded data removed]",
      "text/plain": [
       "<Figure size 432x288 with 1 Axes>"
      ]
     },
     "metadata": {
      "needs_background": "light"
     },
     "output_type": "display_data"
    },
    {
     "data": {
      "image/png": "[encoded data removed]",
      "text/plain": [
       "<Figure size 432x288 with 1 Axes>"
      ]
     },
     "metadata": {
      "needs_background": "light"
     },
     "output_type": "display_data"
    },
    {
     "data": {
      "image/png": "[encoded data removed]",
      "text/plain": [
       "<Figure size 432x288 with 1 Axes>"
      ]
     },
     "metadata": {
      "needs_background": "light"
     },
     "output_type": "display_data"
    }
   ],
   "source": [
    "def abline(slope, intercept, ax):\n",
    "    xs = ax.get_xlim()\n",
    "    ys = [x * slope + intercept for x in xs]\n",
    "    ax.plot(xs, ys)\n",
    "\n",
    "for i in range(5):\n",
    "    # k = 2, plot\n",
    "    fig, ax = plt.subplots()\n",
    "\n",
    "    x_1 = X[:, 0]\n",
    "    x_2 = X[:, 1]\n",
    "    color_vec = [{-1: 'red', 1: 'green'}[key] for key in y[:, 0]]\n",
    "    ax.scatter(x=x_1, y=x_2, c=color_vec)\n",
    "    \n",
    "    df = m2.df\n",
    "    #i = df.index[-1]\n",
    "    w_1 = df.loc[i, 'w_1']\n",
    "    w_2 = df.loc[i, 'w_2']\n",
    "    b = df.loc[i, 'b']\n",
    "    slope = - w_1 / w_2\n",
    "    intercept = - b / w_2\n",
    "\n",
    "    abline(slope, intercept, ax)\n",
    "    ax.set_title(label=f'# of iter: {i}')"
   ]
  },
  {
   "cell_type": "code",
   "execution_count": null,
   "metadata": {},
   "outputs": [],
   "source": []
  }
 ],
 "metadata": {
  "kernelspec": {
   "display_name": "Python 3",
   "language": "python",
   "name": "python3"
  },
  "language_info": {
   "codemirror_mode": {
    "name": "ipython",
    "version": 3
   },
   "file_extension": ".py",
   "mimetype": "text/x-python",
   "name": "python",
   "nbconvert_exporter": "python",
   "pygments_lexer": "ipython3",
   "version": "3.6.4"
  }
 },
 "nbformat": 4,
 "nbformat_minor": 2
}
