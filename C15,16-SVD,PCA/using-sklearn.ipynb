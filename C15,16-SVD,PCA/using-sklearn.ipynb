{
 "cells": [
  {
   "cell_type": "markdown",
   "metadata": {},
   "source": [
    "> https://scikit-learn.org/stable/modules/generated/sklearn.decomposition.PCA.html\n",
    "\n",
    "\n",
    "- using SVD method. (Not eigenvalues & eigenvectors)\n",
    "- input data is centered, but not scaled beforing applying SVD"
   ]
  },
  {
   "cell_type": "code",
   "execution_count": 41,
   "metadata": {},
   "outputs": [],
   "source": [
    "from IPython.core.interactiveshell import InteractiveShell\n",
    "InteractiveShell.ast_node_interactivity = 'all'"
   ]
  },
  {
   "cell_type": "code",
   "execution_count": 207,
   "metadata": {},
   "outputs": [],
   "source": [
    "import numpy as np\n",
    "import pandas as pd\n",
    "%matplotlib inline\n",
    "import matplotlib.pyplot as plt\n",
    "\n",
    "from sklearn.decomposition import PCA, TruncatedSVD\n",
    "from sklearn.datasets import load_iris"
   ]
  },
  {
   "cell_type": "code",
   "execution_count": 208,
   "metadata": {},
   "outputs": [],
   "source": [
    "iris_dataset = load_iris()"
   ]
  },
  {
   "cell_type": "code",
   "execution_count": 209,
   "metadata": {},
   "outputs": [
    {
     "data": {
      "text/plain": [
       "array([[5.1, 3.5, 1.4, 0.2],\n",
       "       [4.9, 3. , 1.4, 0.2],\n",
       "       [4.7, 3.2, 1.3, 0.2],\n",
       "       [4.6, 3.1, 1.5, 0.2],\n",
       "       [5. , 3.6, 1.4, 0.2]])"
      ]
     },
     "execution_count": 209,
     "metadata": {},
     "output_type": "execute_result"
    }
   ],
   "source": [
    "X = iris_dataset.data\n",
    "X[:5]"
   ]
  },
  {
   "cell_type": "markdown",
   "metadata": {},
   "source": [
    "## PCA()"
   ]
  },
  {
   "cell_type": "code",
   "execution_count": 250,
   "metadata": {},
   "outputs": [
    {
     "data": {
      "text/plain": [
       "PCA(copy=True, iterated_power='auto', n_components=None, random_state=None,\n",
       "  svd_solver='auto', tol=0.0, whiten=False)"
      ]
     },
     "execution_count": 250,
     "metadata": {},
     "output_type": "execute_result"
    }
   ],
   "source": [
    "m0 = PCA(n_components=None)\n",
    "m0.fit(X)"
   ]
  },
  {
   "cell_type": "code",
   "execution_count": 253,
   "metadata": {},
   "outputs": [
    {
     "data": {
      "text/plain": [
       "array([[ 0.36138659, -0.08452251,  0.85667061,  0.3582892 ],\n",
       "       [ 0.65658877,  0.73016143, -0.17337266, -0.07548102],\n",
       "       [-0.58202985,  0.59791083,  0.07623608,  0.54583143],\n",
       "       [-0.31548719,  0.3197231 ,  0.47983899, -0.75365743]])"
      ]
     },
     "execution_count": 253,
     "metadata": {},
     "output_type": "execute_result"
    }
   ],
   "source": [
    "m0.components_   # Vt"
   ]
  },
  {
   "cell_type": "code",
   "execution_count": 255,
   "metadata": {},
   "outputs": [],
   "source": [
    "Z0 = m.transform(X)"
   ]
  },
  {
   "cell_type": "code",
   "execution_count": 256,
   "metadata": {},
   "outputs": [
    {
     "data": {
      "text/plain": [
       "array([4.22824171, 0.24267075, 0.0782095 , 0.02383509])"
      ]
     },
     "execution_count": 256,
     "metadata": {},
     "output_type": "execute_result"
    },
    {
     "data": {
      "text/plain": [
       "array([0.92461872, 0.05306648, 0.01710261, 0.00521218])"
      ]
     },
     "execution_count": 256,
     "metadata": {},
     "output_type": "execute_result"
    }
   ],
   "source": [
    "m0.explained_variance_\n",
    "m0.explained_variance_ratio_"
   ]
  },
  {
   "cell_type": "code",
   "execution_count": 257,
   "metadata": {},
   "outputs": [
    {
     "data": {
      "text/plain": [
       "array([25.09996044,  6.01314738,  3.41368064,  1.88452351])"
      ]
     },
     "execution_count": 257,
     "metadata": {},
     "output_type": "execute_result"
    }
   ],
   "source": [
    "m0.singular_values_"
   ]
  },
  {
   "cell_type": "code",
   "execution_count": null,
   "metadata": {},
   "outputs": [],
   "source": []
  },
  {
   "cell_type": "markdown",
   "metadata": {},
   "source": [
    "Definition of Frobenius Norm:\n",
    "\n",
    "$$ \\|A\\|_F = \\Big(\\sum_i \\sum_j (a_{ij})^2 \\Big)^{\\frac{1}{2}} $$\n",
    "\n",
    "\n",
    "Lemma 15.1:  if svd of $A$ is $(U, \\Sigma, V^T)$, then\n",
    "$$ \\|A\\|_F = \\sqrt{\\sigma_1^2 + \\sigma_2^2 + \\cdots + \\sigma_n^2} $$\n",
    "\n",
    "\n",
    "Theorem 15.2: （原书中的定理表述比较绕，以下是我的理解）\n",
    "\n",
    "考虑最小化问题， 找矩阵A在 rank=k 矩阵空间中的、F范数意义下的最优近似：\n",
    "\n",
    "$$ \\min_{S \\in \\mathcal{M}} \\| A - S \\|_F $$\n",
    "\n",
    "上述最小化问题的解存在\n",
    "\n",
    "$$\\exists S^* = \\arg \\min_{S \\in \\mathcal{M}} \\| A - S \\|_F $$\n",
    "\n",
    "且可以通过截断奇异值分解的方式得到\n",
    "\n",
    "\n",
    "$$ S^* = U \\Sigma^\\prime V^T $$\n",
    "\n",
    "where\n",
    "$$ \\Sigma^\\prime = diag(\\sigma_1, \\cdots, \\sigma_k) $$\n",
    "$$ A = U \\Sigma V^T $$"
   ]
  },
  {
   "cell_type": "markdown",
   "metadata": {},
   "source": [
    "In PCA ---------------------------------------------------------------\n",
    "\n",
    "Objective: minimize Projection Error\n",
    "\n",
    "//TODO: how do \"min ProjectionError\" and \"max Var\" related ?\n",
    "总体、样本 主成分定义\n",
    "\n",
    "In PCA ---------------------------------------------------------------\n",
    "\n",
    "$$ ExplainedVarianceRatio = \\frac{\\| X_{approx, k} \\|_F}{\\| X \\|_F} = \\frac{\\lambda_1 + \\cdots + \\lambda_k}{\\sum_{i=1}^n \\lambda_i}$$ \n",
    "\n",
    "or\n",
    "\n",
    "$$ 1- ExplainedVarianceRatio = \\frac{\\| X - X_{approx, k} \\|_F}{\\| X \\|_F} = 1 - \\frac{\\lambda_1 + \\cdots + \\lambda_k}{\\sum_{i=1}^n \\lambda_i} $$"
   ]
  },
  {
   "cell_type": "code",
   "execution_count": 287,
   "metadata": {},
   "outputs": [
    {
     "data": {
      "text/plain": [
       "PCA(copy=True, iterated_power='auto', n_components=2, random_state=None,\n",
       "  svd_solver='auto', tol=0.0, whiten=False)"
      ]
     },
     "execution_count": 287,
     "metadata": {},
     "output_type": "execute_result"
    },
    {
     "data": {
      "text/plain": [
       "0.9776852063187959"
      ]
     },
     "execution_count": 287,
     "metadata": {},
     "output_type": "execute_result"
    },
    {
     "data": {
      "text/plain": [
       "0.977685206318795"
      ]
     },
     "execution_count": 287,
     "metadata": {},
     "output_type": "execute_result"
    },
    {
     "data": {
      "text/plain": [
       "0.02231479368120514"
      ]
     },
     "execution_count": 287,
     "metadata": {},
     "output_type": "execute_result"
    },
    {
     "data": {
      "text/plain": [
       "0.022314793681205036"
      ]
     },
     "execution_count": 287,
     "metadata": {},
     "output_type": "execute_result"
    }
   ],
   "source": [
    "k = 2\n",
    "\n",
    "# centeralized, MUST\n",
    "iris_dataset = load_iris()\n",
    "X = iris_dataset.data\n",
    "X = X - X.mean(axis=0)\n",
    "\n",
    "\n",
    "m = PCA(n_components=k)\n",
    "m.fit(X)\n",
    "Z = m.transform(X)\n",
    "X_approx = m.inverse_transform(Z)\n",
    "\n",
    "def FrobeniusNorm(A):\n",
    "    return np.sqrt(np.sum(A**2))\n",
    "\n",
    "(FrobeniusNorm(X_approx) / FrobeniusNorm(X))**2\n",
    "sum(m.explained_variance_ratio_)                   # equal  (X need to be centralized)\n",
    "\n",
    "(FrobeniusNorm(X - X_approx) / FrobeniusNorm(X))**2\n",
    "1 - sum(m.explained_variance_ratio_)                   # equal  (X need to be centralized)"
   ]
  },
  {
   "cell_type": "code",
   "execution_count": 289,
   "metadata": {},
   "outputs": [
    {
     "data": {
      "text/plain": [
       "26.103076447039722"
      ]
     },
     "execution_count": 289,
     "metadata": {},
     "output_type": "execute_result"
    },
    {
     "data": {
      "text/plain": [
       "26.103076447039726"
      ]
     },
     "execution_count": 289,
     "metadata": {},
     "output_type": "execute_result"
    },
    {
     "data": {
      "text/plain": [
       "25.810190926077272"
      ]
     },
     "execution_count": 289,
     "metadata": {},
     "output_type": "execute_result"
    },
    {
     "data": {
      "text/plain": [
       "25.810190926077265"
      ]
     },
     "execution_count": 289,
     "metadata": {},
     "output_type": "execute_result"
    }
   ],
   "source": [
    "# |X|_F = sqrt(sum sigular_values^2)\n",
    "\n",
    "FrobeniusNorm(X)\n",
    "np.sqrt(np.sum(m0.singular_values_ ** 2))  # equal\n",
    "\n",
    "FrobeniusNorm(X_approx)\n",
    "np.sqrt(np.sum(m.singular_values_ ** 2))   # equal"
   ]
  },
  {
   "cell_type": "code",
   "execution_count": null,
   "metadata": {},
   "outputs": [],
   "source": []
  },
  {
   "cell_type": "code",
   "execution_count": 247,
   "metadata": {},
   "outputs": [
    {
     "data": {
      "text/plain": [
       "1.1027699505691948"
      ]
     },
     "execution_count": 247,
     "metadata": {},
     "output_type": "execute_result"
    },
    {
     "data": {
      "text/plain": [
       "0.8010042015296953"
      ]
     },
     "execution_count": 247,
     "metadata": {},
     "output_type": "execute_result"
    },
    {
     "data": {
      "text/plain": [
       "True"
      ]
     },
     "execution_count": 247,
     "metadata": {},
     "output_type": "execute_result"
    },
    {
     "data": {
      "text/plain": [
       "True"
      ]
     },
     "execution_count": 247,
     "metadata": {},
     "output_type": "execute_result"
    }
   ],
   "source": [
    "# m.components_  is the Vt of \n",
    "#      U,S,Vt = svd(1/sqrt(m-1) X)\n",
    "# transform X to Z:   Z = Vt dot X\n",
    "# X_approx = V dot Z\n",
    "\n",
    "Vt = m.components_\n",
    "_Z = np.dot(Vt, X.T).T\n",
    "_X_approx = np.dot(Vt.T, Z.T).T\n",
    "\n",
    "abs(Z).mean()\n",
    "abs(X_approx).mean()\n",
    "\n",
    "(_Z - Z < 1e-8).all()                 # True\n",
    "(_X_approx - X_approx < 1e-8).all()   # True"
   ]
  },
  {
   "cell_type": "code",
   "execution_count": null,
   "metadata": {},
   "outputs": [],
   "source": []
  },
  {
   "cell_type": "code",
   "execution_count": null,
   "metadata": {},
   "outputs": [],
   "source": []
  },
  {
   "cell_type": "code",
   "execution_count": null,
   "metadata": {},
   "outputs": [],
   "source": []
  },
  {
   "cell_type": "code",
   "execution_count": null,
   "metadata": {},
   "outputs": [],
   "source": []
  }
 ],
 "metadata": {
  "kernelspec": {
   "display_name": "Python 3",
   "language": "python",
   "name": "python3"
  },
  "language_info": {
   "codemirror_mode": {
    "name": "ipython",
    "version": 3
   },
   "file_extension": ".py",
   "mimetype": "text/x-python",
   "name": "python",
   "nbconvert_exporter": "python",
   "pygments_lexer": "ipython3",
   "version": "3.6.4"
  }
 },
 "nbformat": 4,
 "nbformat_minor": 2
}
