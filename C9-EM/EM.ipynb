{
 "cells": [
  {
   "cell_type": "code",
   "execution_count": 15,
   "metadata": {},
   "outputs": [
    {
     "data": {
      "text/html": [
       "<style>\n",
       "    table{\n",
       "        width:70%;\n",
       "    }\n",
       "</style>\n"
      ],
      "text/plain": [
       "<IPython.core.display.HTML object>"
      ]
     },
     "metadata": {},
     "output_type": "display_data"
    }
   ],
   "source": [
    "%%html\n",
    "<style>\n",
    "    table{\n",
    "        width:70%;\n",
    "    }\n",
    "</style>"
   ]
  },
  {
   "cell_type": "markdown",
   "metadata": {},
   "source": [
    "## EM algrithom"
   ]
  },
  {
   "cell_type": "markdown",
   "metadata": {},
   "source": [
    "### 原理\n",
    "\n",
    "EM算法是存在隐变量下的极大似然估计\n",
    "$$ MLE  \\xrightarrow[]{\\text{latent variable } Z}  EM  $$ \n",
    "\n",
    "E step: \n",
    "$$ E_{Z|Y,\\theta^{(t)}} [P(Y,Z|\\theta] $$\n",
    "\n",
    "M step:\n",
    "$$ \\theta^{(t+1)} = \\arg\\max_{\\theta}  E_{Z|Y,\\theta^{(t)}} [ \\log P(Y,Z | \\theta) ] $$"
   ]
  },
  {
   "cell_type": "markdown",
   "metadata": {},
   "source": [
    "### 推导\n",
    "\n",
    "似然函数 $L(\\theta)$ 为（考虑隐变量$Z$的）Y的极大似然估计\n",
    "\n",
    "$$ \n",
    "\\begin{align}\n",
    "L(\\theta) =& \\sum_{i=1}^N \\log P(Y | \\theta) \\\\\n",
    "          =& \\sum_{i=1}^N \\log \\sum_{z} P(Y, Z | \\theta) \\\\\n",
    "          =& \\sum_{i=1}^N \\log \\sum_{z} P(Z|Y,\\theta^{(t)}) \\frac{P(Y, Z | \\theta)}{P(Z|Y,\\theta^{(t)})} \\\\\n",
    "          \\geq & \\sum_{i=1}^N \\sum_{z} P(Z|Y,\\theta^{(t)}) \\log \\frac{P(Y, Z | \\theta)}{P(Z|Y,\\theta^{(t)})} \\\\\n",
    "\\end{align}\n",
    "$$\n",
    "\n",
    "- 不等号是詹森不等式 Jensen Inequality 的应用\n",
    "- 第3，4个等号，同时乘以隐变量在【当前模型参数$\\theta^{(t)}$ 和 观测$Y$】下的条件概率分布 $P(Z|Y,\\theta^{(t)})$\n",
    "- 当Z为常量时取等号，ie. $P(Z_z|Y_i,\\theta^\\star) \\rightarrow 1$ 随着迭代过程的演进，每个样本的隐变量取值趋于确定 【个人理解，待验证】\n",
    "\n",
    "因为我们的目的是最大化似然函数，抛开常数项，似然函数下界的最大化问题为\n",
    "\n",
    "$$ \\max_{\\theta} \\sum_{i=1}^N \\sum_{z} P(Z|Y,\\theta^{(t)}) \\log P(Y, Z | \\theta) $$\n",
    "\n",
    "上式中最大化的目标函数也称为Q函数。外层求和号里面的公式可以写为 $$ E_{Z|Y,\\theta^{(t)}} \\log P(Y,Z|\\theta) $$ 即EM算法名字中的E步。\n",
    "\n",
    "M步，即（在当前模型基础上）极大化Q函数:\n",
    "\n",
    "1. 根据模型的具体形式写出 $P(Z|Y,\\theta), P(Y,Z|\\theta)$ 的具体形式\n",
    "2. 对$\\theta$各分量求偏导数，令其为0，解出迭代公式"
   ]
  },
  {
   "cell_type": "markdown",
   "metadata": {},
   "source": [
    "### 三硬币模型\n",
    "\n",
    "#### Notations\n",
    "\n",
    "参数： $$ \\theta = \\begin{bmatrix} P_A \\\\ P_B \\\\ \\pi \\\\ \\end{bmatrix} \\\\ $$\n",
    "\n",
    "条件概率 P(Z|Y)：\n",
    "$$ \n",
    "\\begin{align}\n",
    "\\hat \\gamma_{Ai}^{(t)} &\\overset{\\triangle}{=} P(Z_i=A|Y_i,\\theta^{(t)})   \\\\\n",
    "\\hat \\gamma_{Bi}^{(t)} &\\overset{\\triangle}{=} P(Z_i=B|Y_i,\\theta^{(t)}) = 1 - \\hat\\gamma_{Ai}^{(t)}\n",
    "\\end{align}\n",
    "$$\n",
    "\n",
    "完全概率 P(Y,Z)\n",
    "\n",
    "| Complete Prob P(Y,Z) | Y=1           | Y=0               | Compact form                  |\n",
    "|----------------------|---------------|-------------------|-------------------------------|\n",
    "| Z=coinA              | $\\pi P_A$     | $\\pi (1-P_A)$     | $\\pi P_A^y (1-P_A)^{1-y}$     |\n",
    "| Z=coinB              | $(1-\\pi) P_B$ | $(1-\\pi) (1-P_B)$ | $(1-\\pi) P_B^y (1-P_B)^{1-y}$ |"
   ]
  },
  {
   "cell_type": "markdown",
   "metadata": {},
   "source": [
    "#### 迭代公式的具体形式推导\n",
    "\n",
    "注意，当前模型下的条件概率 $\\hat\\gamma_{Ai}^{(t)}, \\hat\\gamma_{Bi}^{(t)}$ 都是可计算的数字，完全概率查上表可得\n",
    "\n",
    "写出三硬币模型对数似然函数的具体形式：\n",
    "\n",
    "$$ \\begin{align}\n",
    "L(\\theta) &= \\sum_{i=1}^N \\sum_z P(Z|Y,\\theta^{(t)}) \\log P(Y,Z|\\theta)  \\\\\n",
    "          &= \\sum_{i=1}^N \\hat\\gamma_{Ai}^{(t)} \\boxed{ \\log P(Y,Z|\\theta) } + \n",
    "                          \\hat\\gamma_{Bi}^{(t)} \\boxed{ \\log P(Y,Z|\\theta) } \\\\\n",
    "          &= \\sum_{i=1}^N \\hat\\gamma_{Ai}^{(t)} \\boxed{ \\log[\\pi P_A^y(1-P_A)^{1-y}] } + \n",
    "                          \\hat\\gamma_{Bi}^{(t)} \\boxed{ \\log[(1-\\pi)P_B^y(1-P_B)^{1-y}] } \\\\\n",
    "          &= \\sum_{i=1}^N \\hat\\gamma_{Ai}^{(t)} \\boxed{ \\log\\pi + y\\log P_A + (1-y)\\log(1-P_A)) }+ \n",
    "                          \\hat\\gamma_{Bi}^{(t)} \\boxed{ \\log(1-\\pi) + y\\log P_B + (1-y)\\log(1-P_B)) }\\\\\n",
    "\\end{align}$$ "
   ]
  },
  {
   "cell_type": "markdown",
   "metadata": {},
   "source": [
    "求偏导数，令其为零：\n",
    "\n",
    "$$\n",
    "\\begin{align}\n",
    "\\frac{\\partial L}{\\partial \\pi} &= \n",
    "                \\sum_{i=1}^N \\hat\\gamma_{Ai}^{(t)} \\frac{1}{\\pi} + \\hat\\gamma_{Bi}^{(t)} \\frac{1}{1-\\pi} &=0 \\\\\n",
    "\\frac{\\partial L}{\\partial P_A} &= \\sum_{i=1}^N \\hat\\gamma_{Ai}^{(t)} ( \\frac{y_i}{P_A} - \\frac{1-y_i}{1-P_A} ) &=0\\\\\n",
    "\\frac{\\partial L}{\\partial P_B} &= \\sum_{i=1}^N \\hat\\gamma_{Bi}^{(t)} ( \\frac{y_i}{P_B} - \\frac{1-y_i}{1-P_B} ) &=0\\\\\n",
    "\\end{align}\n",
    "$$ \n",
    "\n",
    "简单的整理，得到解\n",
    "$$\n",
    "\\begin{align}\n",
    "\\pi &= \\frac{\\sum_{i=1}^{N} \\hat\\gamma_{Ai}^{(t)}}{N} \\\\\n",
    "P_A &= \\frac{\\sum_{i=1}^{N} \\hat\\gamma_{Ai}^{(t)} y_i}{ \\sum_{i=1}^{N} \\hat\\gamma_{Ai}^{(t)} } \\\\\n",
    "P_B &= \\frac{\\sum_{i=1}^{N} \\hat\\gamma_{Bi}^{(t)} y_i}{ \\sum_{i=1}^{N} \\hat\\gamma_{Bi}^{(t)} } = \n",
    "  \\frac{\\sum_{i=1}^{N} (1-\\hat\\gamma_{Ai}^{(t)}) y_i}{ \\sum_{i=1}^{N} (1-\\hat\\gamma_{Ai}^{(t)}) } \\\\\n",
    "\\end{align}\n",
    "$$"
   ]
  },
  {
   "cell_type": "markdown",
   "metadata": {},
   "source": [
    "回忆一下 $\\hat\\gamma_{A_i}^{(t)}$的含义：它是指在$t$次迭代的模型中，根据每个样本观测值$Y_i$，样本$i$的隐变量$Z_i$为硬币A的条件概率。\n",
    "\n",
    "根据条件概率公式：\n",
    "$$ \n",
    "\\hat\\gamma_{A_i}^{(t)} = P(Z_i=A|Y_i,\\theta^{(t)}) = \\frac{P(Z_i=A,Y_i|\\theta^{(t)})}{P(Y_i|\\theta^{(t)})} = \n",
    "\\begin{cases}\n",
    "\\frac{\\pi P_A^{(t)}}{\\pi^{(t)} P_A^{(t)} + \\big(1-\\pi^{(t)}\\big) P_B^{(t)}}, & Y_i = 1 \\\\\n",
    "\\frac{\\pi \\big(1-P_A^{(t)}\\big)}{\\pi^{(t)} \\big(1-P_A^{(t)}\\big) + \\big(1-\\pi^{(t)}\\big)\\big(1-P_B^{(t)}\\big)}, & Y_i = 0 \n",
    "\\end{cases}\n",
    "$$\n",
    "\n",
    "在每一轮迭代中，会计算出每个样本的 $\\hat\\gamma_{A_i}^{(t)}$, $\\hat\\gamma_{B_i}^{(t)}$，观察发现他们应该是逐渐趋于真实的$\\gamma_i$。"
   ]
  },
  {
   "cell_type": "markdown",
   "metadata": {},
   "source": [
    "### 三硬币模型 Code"
   ]
  },
  {
   "cell_type": "code",
   "execution_count": 120,
   "metadata": {},
   "outputs": [
    {
     "data": {
      "text/html": [
       "<div>\n",
       "<style scoped>\n",
       "    .dataframe tbody tr th:only-of-type {\n",
       "        vertical-align: middle;\n",
       "    }\n",
       "\n",
       "    .dataframe tbody tr th {\n",
       "        vertical-align: top;\n",
       "    }\n",
       "\n",
       "    .dataframe thead th {\n",
       "        text-align: right;\n",
       "    }\n",
       "</style>\n",
       "<table border=\"1\" class=\"dataframe\">\n",
       "  <thead>\n",
       "    <tr style=\"text-align: right;\">\n",
       "      <th></th>\n",
       "      <th>Z</th>\n",
       "      <th>Y</th>\n",
       "    </tr>\n",
       "  </thead>\n",
       "  <tbody>\n",
       "    <tr>\n",
       "      <th>0</th>\n",
       "      <td>A</td>\n",
       "      <td>1</td>\n",
       "    </tr>\n",
       "    <tr>\n",
       "      <th>1</th>\n",
       "      <td>A</td>\n",
       "      <td>1</td>\n",
       "    </tr>\n",
       "    <tr>\n",
       "      <th>2</th>\n",
       "      <td>B</td>\n",
       "      <td>0</td>\n",
       "    </tr>\n",
       "    <tr>\n",
       "      <th>3</th>\n",
       "      <td>A</td>\n",
       "      <td>1</td>\n",
       "    </tr>\n",
       "    <tr>\n",
       "      <th>4</th>\n",
       "      <td>A</td>\n",
       "      <td>1</td>\n",
       "    </tr>\n",
       "  </tbody>\n",
       "</table>\n",
       "</div>"
      ],
      "text/plain": [
       "   Z  Y\n",
       "0  A  1\n",
       "1  A  1\n",
       "2  B  0\n",
       "3  A  1\n",
       "4  A  1"
      ]
     },
     "execution_count": 120,
     "metadata": {},
     "output_type": "execute_result"
    }
   ],
   "source": [
    "import numpy as np\n",
    "import pandas as pd\n",
    "import matplotlib as mpl\n",
    "import matplotlib.pyplot as plt\n",
    "%matplotlib inline\n",
    "\n",
    "\n",
    "# Data Generating Process\n",
    "N = 5\n",
    "pi = 0.5\n",
    "pa = 0.9\n",
    "pb = 0.3\n",
    "\n",
    "df = pd.DataFrame({'Z': np.random.choice(['A', 'B'], N)})\n",
    "s = df.groupby('Z').apply(lambda df: np.random.choice([1,0], len(df), p=[pa,1-pa] if df['Z'].unique() == 'A' else [pb,1-pb]))\n",
    "df.loc[df.Z == 'A', 'Y'] = s['A']\n",
    "df.loc[df.Z == 'B', 'Y'] = s['B']\n",
    "df['Y'] = df['Y'].astype(int)\n",
    "\n",
    "df.head()"
   ]
  },
  {
   "cell_type": "code",
   "execution_count": null,
   "metadata": {},
   "outputs": [],
   "source": []
  }
 ],
 "metadata": {
  "kernelspec": {
   "display_name": "Python 3",
   "language": "python",
   "name": "python3"
  },
  "language_info": {
   "codemirror_mode": {
    "name": "ipython",
    "version": 3
   },
   "file_extension": ".py",
   "mimetype": "text/x-python",
   "name": "python",
   "nbconvert_exporter": "python",
   "pygments_lexer": "ipython3",
   "version": "3.6.4"
  }
 },
 "nbformat": 4,
 "nbformat_minor": 2
}
