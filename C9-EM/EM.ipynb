{
 "cells": [
  {
   "cell_type": "code",
   "execution_count": 15,
   "metadata": {},
   "outputs": [
    {
     "data": {
      "text/html": [
       "<style>\n",
       "    table{\n",
       "        width:70%;\n",
       "    }\n",
       "</style>\n"
      ],
      "text/plain": [
       "<IPython.core.display.HTML object>"
      ]
     },
     "metadata": {},
     "output_type": "display_data"
    }
   ],
   "source": [
    "%%html\n",
    "<style>\n",
    "    table{\n",
    "        width:70%;\n",
    "    }\n",
    "</style>"
   ]
  },
  {
   "cell_type": "markdown",
   "metadata": {},
   "source": [
    "## EM algrithom"
   ]
  },
  {
   "cell_type": "markdown",
   "metadata": {},
   "source": [
    "### 原理\n",
    "\n",
    "EM算法是存在隐变量下的极大似然估计\n",
    "$$ MLE  \\xrightarrow[]{\\text{latent variable } Z}  EM  $$ \n",
    "\n",
    "E step: \n",
    "$$ E_{Z|Y,\\theta^{(t)}} [P(Y,Z|\\theta] $$\n",
    "\n",
    "M step:\n",
    "$$ \\theta^{(t+1)} = \\arg\\max_{\\theta}  E_{Z|Y,\\theta^{(t)}} [ \\log P(Y,Z | \\theta) ] $$"
   ]
  },
  {
   "cell_type": "markdown",
   "metadata": {},
   "source": [
    "### 推导\n",
    "\n",
    "似然函数 $L(\\theta)$ 为（考虑隐变量$Z$的）Y的极大似然估计\n",
    "\n",
    "$$ \n",
    "\\begin{align}\n",
    "L(\\theta) =& \\sum_{i=1}^N \\log P(Y | \\theta) \\\\\n",
    "          =& \\sum_{i=1}^N \\log \\sum_{z} P(Y, Z | \\theta) \\\\\n",
    "          =& \\sum_{i=1}^N \\log \\sum_{z} P(Z|Y,\\theta^{(t)}) \\frac{P(Y, Z | \\theta)}{P(Z|Y,\\theta^{(t)})} \\\\\n",
    "          \\geq & \\sum_{i=1}^N \\sum_{z} P(Z|Y,\\theta^{(t)}) \\log \\frac{P(Y, Z | \\theta)}{P(Z|Y,\\theta^{(t)})} \\\\\n",
    "\\end{align}\n",
    "$$\n",
    "\n",
    "- 不等号是詹森不等式 Jensen Inequality 的应用\n",
    "- 第3，4个等号，同时乘以隐变量在【当前模型参数$\\theta^{(t)}$ 和 观测$Y$】下的条件概率分布 $P(Z|Y,\\theta^{(t)})$\n",
    "- 当Z为常量时取等号，ie. $P(Z_z|Y_i,\\theta^\\star) \\rightarrow 1$ 随着迭代过程的演进，每个样本的隐变量取值趋于确定 【个人理解，待验证】\n",
    "\n",
    "因为我们的目的是最大化似然函数，抛开常数项，似然函数下界的最大化问题为\n",
    "\n",
    "$$ \\max_{\\theta} \\sum_{i=1}^N \\sum_{z} P(Z|Y,\\theta^{(t)}) \\log P(Y, Z | \\theta) $$\n",
    "\n",
    "上式中最大化的目标函数也称为Q函数。外层求和号里面的公式可以写为 $$ E_{Z|Y,\\theta^{(t)}} \\log P(Y,Z|\\theta) $$ 即EM算法名字中的E步。\n",
    "\n",
    "M步，即（在当前模型基础上）极大化Q函数:\n",
    "\n",
    "1. 根据模型的具体形式写出 $P(Z|Y,\\theta), P(Y,Z|\\theta)$ 的具体形式\n",
    "2. 对$\\theta$各分量求偏导数，令其为0，解出迭代公式"
   ]
  },
  {
   "cell_type": "markdown",
   "metadata": {},
   "source": [
    "### 三硬币模型\n",
    "\n",
    "#### Notations\n",
    "\n",
    "参数： $$ \\theta = \\begin{bmatrix} P_A \\\\ P_B \\\\ \\pi \\\\ \\end{bmatrix} \\\\ $$\n",
    "\n",
    "条件概率 P(Z|Y)：\n",
    "$$ \n",
    "\\begin{align}\n",
    "\\hat \\gamma_{Ai}^{(t)} &\\overset{\\triangle}{=} P(Z_i=A|Y_i,\\theta^{(t)})   \\\\\n",
    "\\hat \\gamma_{Bi}^{(t)} &\\overset{\\triangle}{=} P(Z_i=B|Y_i,\\theta^{(t)}) = 1 - \\hat\\gamma_{Ai}^{(t)}\n",
    "\\end{align}\n",
    "$$\n",
    "\n",
    "完全概率 P(Y,Z)\n",
    "\n",
    "| Complete Prob P(Y,Z) | Y=1           | Y=0               | Compact form                  |\n",
    "|----------------------|---------------|-------------------|-------------------------------|\n",
    "| Z=coinA              | $\\pi P_A$     | $\\pi (1-P_A)$     | $\\pi P_A^y (1-P_A)^{1-y}$     |\n",
    "| Z=coinB              | $(1-\\pi) P_B$ | $(1-\\pi) (1-P_B)$ | $(1-\\pi) P_B^y (1-P_B)^{1-y}$ |"
   ]
  },
  {
   "cell_type": "markdown",
   "metadata": {},
   "source": [
    "#### 迭代公式的具体形式推导\n",
    "\n",
    "注意，当前模型下的条件概率 $\\hat\\gamma_{Ai}^{(t)}, \\hat\\gamma_{Bi}^{(t)}$ 都是可计算的数字，完全概率查上表可得\n",
    "\n",
    "写出三硬币模型对数似然函数的具体形式：\n",
    "\n",
    "$$ \\begin{align}\n",
    "L(\\theta) &= \\sum_{i=1}^N \\sum_z P(Z|Y,\\theta^{(t)}) \\log P(Y,Z|\\theta)  \\\\\n",
    "          &= \\sum_{i=1}^N \\hat\\gamma_{Ai}^{(t)} \\boxed{ \\log P(Y,Z|\\theta) } + \n",
    "                          \\hat\\gamma_{Bi}^{(t)} \\boxed{ \\log P(Y,Z|\\theta) } \\\\\n",
    "          &= \\sum_{i=1}^N \\hat\\gamma_{Ai}^{(t)} \\boxed{ \\log[\\pi P_A^y(1-P_A)^{1-y}] } + \n",
    "                          \\hat\\gamma_{Bi}^{(t)} \\boxed{ \\log[(1-\\pi)P_B^y(1-P_B)^{1-y}] } \\\\\n",
    "          &= \\sum_{i=1}^N \\hat\\gamma_{Ai}^{(t)} \\boxed{ \\log\\pi + y\\log P_A + (1-y)\\log(1-P_A)) }+ \n",
    "                          \\hat\\gamma_{Bi}^{(t)} \\boxed{ \\log(1-\\pi) + y\\log P_B + (1-y)\\log(1-P_B)) }\\\\\n",
    "\\end{align}$$ "
   ]
  },
  {
   "cell_type": "markdown",
   "metadata": {},
   "source": [
    "求偏导数，令其为零：\n",
    "\n",
    "$$\n",
    "\\begin{align}\n",
    "\\frac{\\partial L}{\\partial \\pi} &= \n",
    "                \\sum_{i=1}^N \\hat\\gamma_{Ai}^{(t)} \\frac{1}{\\pi} + \\hat\\gamma_{Bi}^{(t)} \\frac{1}{1-\\pi} &=0 \\\\\n",
    "\\frac{\\partial L}{\\partial P_A} &= \\sum_{i=1}^N \\hat\\gamma_{Ai}^{(t)} ( \\frac{y_i}{P_A} - \\frac{1-y_i}{1-P_A} ) &=0\\\\\n",
    "\\frac{\\partial L}{\\partial P_B} &= \\sum_{i=1}^N \\hat\\gamma_{Bi}^{(t)} ( \\frac{y_i}{P_B} - \\frac{1-y_i}{1-P_B} ) &=0\\\\\n",
    "\\end{align}\n",
    "$$ \n",
    "\n",
    "简单的整理，得到解\n",
    "$$\n",
    "\\begin{align}\n",
    "\\pi &= \\frac{\\sum_{i=1}^{N} \\hat\\gamma_{Ai}^{(t)}}{N} \\\\\n",
    "P_A &= \\frac{\\sum_{i=1}^{N} \\hat\\gamma_{Ai}^{(t)} y_i}{ \\sum_{i=1}^{N} \\hat\\gamma_{Ai}^{(t)} } \\\\\n",
    "P_B &= \\frac{\\sum_{i=1}^{N} \\hat\\gamma_{Bi}^{(t)} y_i}{ \\sum_{i=1}^{N} \\hat\\gamma_{Bi}^{(t)} } = \n",
    "  \\frac{\\sum_{i=1}^{N} (1-\\hat\\gamma_{Ai}^{(t)}) y_i}{ \\sum_{i=1}^{N} (1-\\hat\\gamma_{Ai}^{(t)}) } \\\\\n",
    "\\end{align}\n",
    "$$"
   ]
  },
  {
   "cell_type": "markdown",
   "metadata": {},
   "source": [
    "回忆一下 $\\hat\\gamma_{A_i}^{(t)}$的含义：它是指在$t$次迭代的模型中，根据每个样本观测值$Y_i$，样本$i$的隐变量$Z_i$为硬币A的条件概率。\n",
    "\n",
    "根据条件概率公式：\n",
    "$$ \n",
    "\\hat\\gamma_{A_i}^{(t)} = P(Z_i=A|Y_i,\\theta^{(t)}) = \\frac{P(Z_i=A,Y_i|\\theta^{(t)})}{P(Y_i|\\theta^{(t)})} = \n",
    "\\begin{cases}\n",
    "\\frac{\\pi P_A^{(t)}}{\\pi^{(t)} P_A^{(t)} + \\big(1-\\pi^{(t)}\\big) P_B^{(t)}}, & Y_i = 1 \\\\\n",
    "\\frac{\\pi \\big(1-P_A^{(t)}\\big)}{\\pi^{(t)} \\big(1-P_A^{(t)}\\big) + \\big(1-\\pi^{(t)}\\big)\\big(1-P_B^{(t)}\\big)}, & Y_i = 0 \n",
    "\\end{cases}\n",
    "$$\n",
    "\n",
    "在每一轮迭代中，会计算出每个样本的 $\\hat\\gamma_{A_i}^{(t)}$, $\\hat\\gamma_{B_i}^{(t)}$，观察发现他们应该是逐渐趋于真实的$\\gamma_i$。"
   ]
  },
  {
   "cell_type": "markdown",
   "metadata": {},
   "source": [
    "#### 三硬币模型 Code"
   ]
  },
  {
   "cell_type": "code",
   "execution_count": 5,
   "metadata": {},
   "outputs": [],
   "source": [
    "import numpy as np\n",
    "import pandas as pd\n",
    "import matplotlib as mpl\n",
    "import matplotlib.pyplot as plt\n",
    "%matplotlib inline\n",
    "\n",
    "\n",
    "# Data Generating Process\n",
    "N = 10000\n",
    "pi = 0.3\n",
    "pa = 0.9\n",
    "pb = 0.1\n",
    "\n",
    "df = pd.DataFrame({'Z': np.random.choice(['A', 'B'], N, p=[pi, 1-pi])})\n",
    "s = df.groupby('Z').apply(lambda df: np.random.choice([1,0], len(df), p=[pa,1-pa] if df['Z'].unique() == 'A' else [pb,1-pb]))\n",
    "df.loc[df.Z == 'A', 'Y'] = s['A']\n",
    "df.loc[df.Z == 'B', 'Y'] = s['B']\n",
    "df['Y'] = df['Y'].astype(int)\n",
    "\n",
    "#df.head()"
   ]
  },
  {
   "cell_type": "code",
   "execution_count": 6,
   "metadata": {},
   "outputs": [],
   "source": [
    "def CondP_A(y, pi, pa, pb):\n",
    "    \"\"\"条件后验概率函数 P(Z=A|Y)\n",
    "    \n",
    "    y: array.\n",
    "    pi, pa, pb: scalar\n",
    "    returns: array\n",
    "    \"\"\"\n",
    "    N = len(y)\n",
    "    pA1 = _CondP_1(pi, pa, pb)\n",
    "    pA0 = _CondP_0(pi, pa, pb)\n",
    "    return np.repeat(pA1, N) * y + np.repeat(pA0, N) * (1-y)\n",
    "\n",
    "def _CondP_1(pi, pa, pb):\n",
    "    \"\"\"P(Z=A|Y=1)\"\"\"\n",
    "    return pi*pa /(pi * pa + (1-pi) * pb)\n",
    "\n",
    "def _CondP_0(pi, pa, pb):\n",
    "    \"\"\"P(Z=A|Y=0)\"\"\"\n",
    "    return pi*(1-pa) /(pi * (1-pa) + (1-pi) * (1-pb))\n",
    "\n",
    "df['CondProb_A'] = CondP_A(df['Y'], pi, pa, pb)\n",
    "df['CondProb_B'] = 1 - df['CondProb_A']\n",
    "#df.head()"
   ]
  },
  {
   "cell_type": "code",
   "execution_count": 7,
   "metadata": {},
   "outputs": [],
   "source": [
    "def updated_param(condprobA, y):\n",
    "    \"\"\"更新参数 theta = [PA, PB, pi]\n",
    "    \n",
    "    *发现参数迭代公式中只有条件概率P(Z|Y)，而完全概率P(Y,Z)由于具有具体形式，在求偏导数的过程中已经用掉了*\n",
    "    \"\"\"\n",
    "    pi = np.average(condprobA)\n",
    "    pa = np.average(y, weights=condprobA)\n",
    "    pb = np.average(y, weights=1-condprobA)\n",
    "    return pi, pa, pb\n",
    "\n",
    "#updated_param(df['CondProb_A'], df['Y'])"
   ]
  },
  {
   "cell_type": "code",
   "execution_count": 11,
   "metadata": {},
   "outputs": [
    {
     "name": "stdout",
     "output_type": "stream",
     "text": [
      "true value:\n",
      "(0.3, 0.9, 0.1) P(Z=A|Y=1): 0.7941176470588235 P(Z=A|Y=0): 0.04545454545454544\n",
      "P(Y=1) 0.34\n",
      "----------------------\n",
      "(0.4, 0.8, 0.2) P(Z=A|Y=1): 0.7272727272727273 P(Z=A|Y=0): 0.14285714285714285 P(Y=1): 0.44000000000000006\n",
      "(0.34237662337662345, 0.725198194439176, 0.14158421707447116) P(Z=A|Y=1): 0.7272727272727274 P(Z=A|Y=0): 0.14285714285714296 P(Y=1): 0.3413999999999999\n",
      "(0.34237662337662345, 0.7251981944391761, 0.1415842170744712) P(Z=A|Y=1): 0.7272727272727274 P(Z=A|Y=0): 0.1428571428571429 P(Y=1): 0.34140000000000004\n",
      "(0.34237662337662345, 0.7251981944391761, 0.14158421707447114) P(Z=A|Y=1): 0.7272727272727275 P(Z=A|Y=0): 0.14285714285714288 P(Y=1): 0.3414\n",
      "(0.34237662337662345, 0.7251981944391761, 0.14158421707447114) P(Z=A|Y=1): 0.7272727272727275 P(Z=A|Y=0): 0.14285714285714288 P(Y=1): 0.3414\n",
      "(0.34237662337662345, 0.7251981944391761, 0.14158421707447114) P(Z=A|Y=1): 0.7272727272727275 P(Z=A|Y=0): 0.14285714285714288 P(Y=1): 0.3414\n",
      "(0.34237662337662345, 0.7251981944391761, 0.14158421707447114) P(Z=A|Y=1): 0.7272727272727275 P(Z=A|Y=0): 0.14285714285714288 P(Y=1): 0.3414\n",
      "(0.34237662337662345, 0.7251981944391761, 0.14158421707447114) P(Z=A|Y=1): 0.7272727272727275 P(Z=A|Y=0): 0.14285714285714288 P(Y=1): 0.3414\n",
      "(0.34237662337662345, 0.7251981944391761, 0.14158421707447114) P(Z=A|Y=1): 0.7272727272727275 P(Z=A|Y=0): 0.14285714285714288 P(Y=1): 0.3414\n",
      "(0.34237662337662345, 0.7251981944391761, 0.14158421707447114) P(Z=A|Y=1): 0.7272727272727275 P(Z=A|Y=0): 0.14285714285714288 P(Y=1): 0.3414\n"
     ]
    }
   ],
   "source": [
    "n_iter = 10\n",
    "\n",
    "y = df['Y'].values\n",
    "theta = 0.4, 0.8, 0.2\n",
    "\n",
    "print('true value:')\n",
    "print((pi, pa, pb), 'P(Z=A|Y=1):', _CondP_1(pi, pa,pb), 'P(Z=A|Y=0):', _CondP_0(pi, pa, pb))\n",
    "print(\"P(Y=1)\", pi * pa + (1-pi)*pb)\n",
    "print('----------------------')\n",
    "\n",
    "for i in range(n_iter):\n",
    "    _pi, _pa, _pb = theta\n",
    "    PY1 = _pi * _pa + (1-_pi)*_pb\n",
    "    PZ0 = _CondP_0(*theta)\n",
    "    PZ1 = _CondP_1(*theta)\n",
    "    print(theta, 'P(Z=A|Y=1):', PZ1, 'P(Z=A|Y=0):', PZ0, 'P(Y=1):', PY1)\n",
    "    condprobA = CondP_A(y, *theta)\n",
    "    theta = updated_param(condprobA, y)"
   ]
  },
  {
   "cell_type": "markdown",
   "metadata": {},
   "source": [
    "#### 三硬币模型：结论\n",
    "\n",
    "尝试各种真实参数、初始参数，结果发现几乎100%会陷入错误的局部最优值。且无视隐变量、只看最终结果的概率 P(Y=1) 也不一定能正确估计。\n",
    "\n",
    "直觉上很好理解：这个模型本身就难通过一个0-1变量将Z的概率剥离出来，每个样本只有一次观测，当你仅有一个观测样本Y=1，很难说究竟是因为pi很大还是因为 P_A or P_B 比较大。\n",
    "\n",
    "- 拓展的三硬币模型：见 *What's EM ?*, Chuong B Do & Serafim Batzoglou\n",
    "- 高斯混合模型"
   ]
  },
  {
   "cell_type": "code",
   "execution_count": null,
   "metadata": {},
   "outputs": [],
   "source": []
  },
  {
   "cell_type": "markdown",
   "metadata": {},
   "source": [
    "### 拓展的三硬币模型\n",
    "\n",
    "每个样本扔多次第二阶段硬币。Head,Tail 顺序不重要，重要的是 #H, #T。iid 0-1分布之和服从二项分布。\n",
    "\n",
    "$$ P(Z=A|y) = \\frac{P(Z=A,y)}{P(y)} = \\frac{P(Z=A,y)}{P(Z=A,y) + P(Z=B,y)} $$   \n",
    "$$ P(Z=B|y) = \\frac{P(Z=B,y)}{P(y)} = \\frac{P(Z=B,y)}{P(Z=A,y) + P(Z=B,y)} $$\n",
    "\n",
    "where  $$y= \\text{# of Head} $$\n",
    "\n",
    "$$ P(Z=A,y) = P(y|Z=A) P(Z=A) = \\pi P_A^y (1-P_A)^{n-y}$$    \n",
    "$$ P(Z=B,y) = P(y|Z=B) P(Z=B) = (1-\\pi) P_B^y (1-P_B)^{n-y}$$\n",
    "\n",
    "\n",
    "对数似然函数：\n",
    "\n",
    "$$\n",
    "\\begin{align} \n",
    "L(\\theta) &= \\sum_{i=1}^N \\log P(y)  \\\\\n",
    "          &= \\sum_{i=1}^N \\log [P(y,A) + P(y,B)] \\\\\n",
    "          &= \\sum_{i=1}^N \\log [P(y,A) + P(y,B)] \\\\\n",
    "          &\\geq \\sum_{i=1}^N P(A|Y,\\theta^{(t)}) \\log\\frac{P(y,A)}{P(A|Y,\\theta^{(t)})} + \n",
    "                             P(B|Y,\\theta^{(t)}) \\log\\frac{P(y,B)}{P(B|Y,\\theta^{(t)})} \\\\\n",
    "          &\\overset{max}{=} \\sum_{i=1}^N P(A|Y,\\theta^{(t)}) \\log P(y,A) + \n",
    "                                         P(B|Y,\\theta^{(t)}) \\log P(y,B)\\\\\n",
    "          &= \\sum_{i=1}^N \\hat\\gamma_{Ai}^{(t)} [\\log\\pi + y_i\\log P_A + (n-y_i)\\log(1-P_A)] + \n",
    "                          \\hat\\gamma_{Bi}^{(t)} [\\log(1-\\pi) + y_i\\log P_B + (n-y_i)\\log(1-P_B)] \\\\\n",
    "\\end{align}\n",
    "$$"
   ]
  },
  {
   "cell_type": "markdown",
   "metadata": {},
   "source": [
    "求偏导数，令等于0\n",
    "\n",
    "$$\n",
    "\\begin{align} \n",
    "\\frac{\\partial L}{\\partial \\pi} &= \\sum_{i=1}^N \\hat\\gamma_{Ai}^{(t)} \\frac{1}{\\pi} - \\hat\\gamma_{Bi}^{(t)} \\frac{1}{1-\\pi}   &= 0  \\\\\n",
    "\\frac{\\partial L}{\\partial P_A} &= \\sum_{i=1}^N \\hat\\gamma_{Ai}^{(t)} \\Big(\\frac{y_i}{P_A} - \\frac{n-y_i}{1-P_A} \\Big)        &= 0  \\\\\n",
    "\\frac{\\partial L}{\\partial P_B} &= \\sum_{i=1}^N \\hat\\gamma_{Bi}^{(t)} \\Big(\\frac{y_i}{P_B} - \\frac{n-y_i}{P_B} \\Big)          &= 0\n",
    "\\end{align}\n",
    "$$\n",
    "\n",
    "每次更新参数：\n",
    "\n",
    "$$\n",
    "\\begin{align} \n",
    "\\pi &= \\frac{ \\sum_{i=1}^N \\hat\\gamma_{Ai}^{(t)} }{N}  \\\\\n",
    "P_A &= \\frac{ \\sum_{i=1}^N \\hat\\gamma_{Ai}^{(t)} y_i }{ n \\sum_{i=1}^N \\hat\\gamma_{Ai}^{(t)} }  \\\\\n",
    "P_B &= \\frac{ \\sum_{i=1}^N \\hat\\gamma_{Bi}^{(t)} y_i }{ n \\sum_{i=1}^N \\hat\\gamma_{Bi}^{(t)} }  \\\\\n",
    "\\end{align} \n",
    "$$"
   ]
  },
  {
   "cell_type": "code",
   "execution_count": 12,
   "metadata": {},
   "outputs": [
    {
     "data": {
      "text/html": [
       "<div>\n",
       "<style scoped>\n",
       "    .dataframe tbody tr th:only-of-type {\n",
       "        vertical-align: middle;\n",
       "    }\n",
       "\n",
       "    .dataframe tbody tr th {\n",
       "        vertical-align: top;\n",
       "    }\n",
       "\n",
       "    .dataframe thead th {\n",
       "        text-align: right;\n",
       "    }\n",
       "</style>\n",
       "<table border=\"1\" class=\"dataframe\">\n",
       "  <thead>\n",
       "    <tr style=\"text-align: right;\">\n",
       "      <th></th>\n",
       "      <th>Z</th>\n",
       "      <th>#Head</th>\n",
       "    </tr>\n",
       "  </thead>\n",
       "  <tbody>\n",
       "    <tr>\n",
       "      <th>0</th>\n",
       "      <td>B</td>\n",
       "      <td>0</td>\n",
       "    </tr>\n",
       "    <tr>\n",
       "      <th>1</th>\n",
       "      <td>A</td>\n",
       "      <td>4</td>\n",
       "    </tr>\n",
       "    <tr>\n",
       "      <th>2</th>\n",
       "      <td>A</td>\n",
       "      <td>4</td>\n",
       "    </tr>\n",
       "    <tr>\n",
       "      <th>3</th>\n",
       "      <td>B</td>\n",
       "      <td>1</td>\n",
       "    </tr>\n",
       "    <tr>\n",
       "      <th>4</th>\n",
       "      <td>B</td>\n",
       "      <td>0</td>\n",
       "    </tr>\n",
       "  </tbody>\n",
       "</table>\n",
       "</div>"
      ],
      "text/plain": [
       "   Z  #Head\n",
       "0  B      0\n",
       "1  A      4\n",
       "2  A      4\n",
       "3  B      1\n",
       "4  B      0"
      ]
     },
     "execution_count": 12,
     "metadata": {},
     "output_type": "execute_result"
    }
   ],
   "source": [
    "import numpy as np\n",
    "import pandas as pd\n",
    "import matplotlib as mpl\n",
    "import matplotlib.pyplot as plt\n",
    "%matplotlib inline\n",
    "\n",
    "\n",
    "# Data Generating Process\n",
    "N = 10000\n",
    "n = 5  # 一个样本扔5次第二阶段硬币\n",
    "pi = 0.3\n",
    "pa = 0.9\n",
    "pb = 0.1\n",
    "\n",
    "df = pd.DataFrame({'Z': np.random.choice(['A', 'B'], N, p=[pi, 1-pi])})\n",
    "\n",
    "s = df.groupby('Z').apply(lambda df: np.random.binomial(n, pa if df['Z'].unique() == 'A' else pb, len(df)))\n",
    "df.loc[df.Z == 'A', '#Head'] = s['A']\n",
    "df.loc[df.Z == 'B', '#Head'] = s['B']\n",
    "df['#Head'] = df['#Head'].astype(int)\n",
    "\n",
    "df.head()"
   ]
  },
  {
   "cell_type": "code",
   "execution_count": 33,
   "metadata": {},
   "outputs": [
    {
     "data": {
      "text/plain": [
       "<matplotlib.axes._subplots.AxesSubplot at 0x10a8f5160>"
      ]
     },
     "execution_count": 33,
     "metadata": {},
     "output_type": "execute_result"
    },
    {
     "data": {
      "image/png": "[encoded data removed]",
      "text/plain": [
       "<Figure size 432x288 with 1 Axes>"
      ]
     },
     "metadata": {
      "needs_background": "light"
     },
     "output_type": "display_data"
    }
   ],
   "source": [
    "df['#Head'].hist()\n",
    "df.loc[df.Z == 'A', '#Head'].hist()\n",
    "df.loc[df.Z == 'B', '#Head'].hist()"
   ]
  },
  {
   "cell_type": "code",
   "execution_count": 17,
   "metadata": {},
   "outputs": [],
   "source": [
    "def CondProb(y, pi, pa, pb, n):\n",
    "    a = pi * np.power(pa, y) * np.power(1-pa, n-y)\n",
    "    b = (1-pi) * np.power(pb, y) * np.power(1-pb, n-y)\n",
    "    return a / (a + b), b / (a + b)\n",
    "    #return a, b"
   ]
  },
  {
   "cell_type": "code",
   "execution_count": 18,
   "metadata": {},
   "outputs": [],
   "source": [
    "def update(y, pi, pa, pb, n):\n",
    "    gammaA, gammaB = CondProb(y, pi, pa, pb, n)\n",
    "    N = len(y)\n",
    "    pi = np.sum(gammaA) / N\n",
    "    pa = np.sum(gammaA * y) / (n * np.sum(gammaA))\n",
    "    pb = np.sum(gammaB * y) / (n * np.sum(gammaB))\n",
    "    return pi, pa, pb"
   ]
  },
  {
   "cell_type": "code",
   "execution_count": 19,
   "metadata": {},
   "outputs": [],
   "source": [
    "def print_summary(theta):\n",
    "    print('theta={}'.format(theta))"
   ]
  },
  {
   "cell_type": "code",
   "execution_count": 27,
   "metadata": {},
   "outputs": [
    {
     "name": "stdout",
     "output_type": "stream",
     "text": [
      "true value:\n",
      "theta=(0.3, 0.9, 0.1)\n",
      "========================\n",
      "theta=(0.9, 0.6, 0.4)\n",
      "theta=(0.7330639077491118, 0.43838038201815205, 0.08001602142714324)\n",
      "theta=(0.5861873925921142, 0.5579616708713238, 0.03781881630825613)\n",
      "theta=(0.47688395650432547, 0.6687542715081825, 0.04550007091152588)\n",
      "theta=(0.3917831292872833, 0.7735603891299464, 0.06519399898841377)\n",
      "theta=(0.34227281803984516, 0.8472060683009128, 0.08019189869118755)\n",
      "theta=(0.31801292834308925, 0.8838094812185043, 0.09040810499606504)\n",
      "theta=(0.3089518319544538, 0.8971292243530641, 0.0948563148957257)\n",
      "theta=(0.3059737068365915, 0.9011254903299453, 0.09653711114231603)\n",
      "theta=(0.3050123796743699, 0.9023446247736487, 0.09711499419196776)\n"
     ]
    }
   ],
   "source": [
    "print('true value:')\n",
    "print_summary((pi, pa, pb))\n",
    "print('========================')\n",
    "y = df['#Head'].values\n",
    "\n",
    "theta = (0.9, 0.6, 0.4)\n",
    "\n",
    "for i in range(10):\n",
    "    print_summary(theta)\n",
    "    theta = update(y, *theta, n)"
   ]
  },
  {
   "cell_type": "markdown",
   "metadata": {},
   "source": [
    "#### 拓展的三硬币模型：结论\n",
    "\n",
    "目测效果明显更好。"
   ]
  },
  {
   "cell_type": "code",
   "execution_count": null,
   "metadata": {},
   "outputs": [],
   "source": []
  }
 ],
 "metadata": {
  "kernelspec": {
   "display_name": "Python 3",
   "language": "python",
   "name": "python3"
  },
  "language_info": {
   "codemirror_mode": {
    "name": "ipython",
    "version": 3
   },
   "file_extension": ".py",
   "mimetype": "text/x-python",
   "name": "python",
   "nbconvert_exporter": "python",
   "pygments_lexer": "ipython3",
   "version": "3.6.4"
  }
 },
 "nbformat": 4,
 "nbformat_minor": 2
}
