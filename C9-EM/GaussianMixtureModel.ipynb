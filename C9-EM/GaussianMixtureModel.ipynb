{
 "cells": [
  {
   "cell_type": "markdown",
   "metadata": {},
   "source": [
    "### Model (DGP):\n",
    "\n",
    "fall into one of the K sub-models $N(\\mu_k, \\sigma_k)$, each with prob $\\alpha_k$\n",
    "\n",
    "$$ N(\\mu_k, \\sigma_k) = \\frac{1}{\\sqrt{2\\pi} \\sigma_k} \\exp^{\\frac{(x - \\mu_k)^2}{2 \\sigma_k^2}} $$\n",
    "\n",
    "$$ \\sum_k \\alpha_k = 1 $$\n",
    "\n",
    "latent var Z is \"fall into k-th submodel\"\n",
    "\n",
    "param $\\theta$ is $(\\alpha_k, \\mu_k, \\sigma_k)$ for $k \\in \\{1, \\cdots, K \\}$\n",
    "\n",
    "$$ Q(\\theta, \\theta^{(t)}) = \\sum_z \\log P(Y,Z | \\theta) * P(Z|Y, \\theta^{(t)})$$\n",
    "\n",
    "samples $i$ are independent, change $\\sum_i$ and $\\sum_z$\n",
    "\n",
    "$$ Q(\\theta, \\theta^{(t)})\n",
    "= \\sum_{i=1}^{m} \\sum_{k=1}^{K} \\Big\\{ \n",
    "    \\Big[\n",
    "        \\log\\alpha_k - \\log \\sqrt{2\\pi} - \\log \\sigma_k - \\frac{(x - \\mu_k)^2}{2 \\sigma_k^2}\n",
    "    \\Big]  \\hat\\gamma_{i,k}^{(t)}\n",
    "  \\Big\\}\n",
    "$$\n",
    "\n",
    "$$ \\hat\\gamma_{i,k}^{(t)}  \\overset{def}{=} Prob(Z_i = k | X, \\theta^{(t)}) $$\n",
    "\n",
    "Optimization:\n",
    "\n",
    "$$ \\max_{\\theta} \\Lambda(\\theta) = Q(\\theta, \\theta^{(t)}) - \\lambda(1 - \\sum_k \\alpha_k) $$\n",
    "\n",
    "$$ \\partial \\Lambda / \\partial \\alpha_k  = ... \\overset{Let}{=} 0 $$\n",
    "$$ \\partial \\Lambda / \\partial \\mu_k     = ... \\overset{Let}{=} 0 $$\n",
    "$$ \\partial \\Lambda / \\partial \\sigma_k  = ... \\overset{Let}{=} 0 $$\n",
    "\n",
    "got\n",
    "\n",
    "$$ \\begin{align}\n",
    "  \\alpha_k^{(t+1)}    &= \\textbf{mean}(\\hat\\gamma_{i,k}^{(t)}) \\\\\n",
    "  \\mu_k^{(t+1)}       &= \\textbf{weighted.mean}(x_i,             &\\textbf{weight}=\\hat\\gamma_{i,k}^{(t)}) \\\\\n",
    "  \\sigma_k^{(t+1)}    &= \\textbf{weighted.mean}((x_i - \\mu_k^{(t+1)})^2, &\\textbf{weight}=\\hat\\gamma_{i,k}^{(t)}) \n",
    "\\end{align}$$\n",
    "where\n",
    "$$ \\hat\\gamma_{i,k}^{(t)} = \\frac{\\alpha_k^{(t)} N(x_i, \\mu_k^{(t)}, \\sigma_k^{(t)} )}{\\sum_k ...} $$"
   ]
  },
  {
   "cell_type": "markdown",
   "metadata": {},
   "source": [
    "## Empirical results:\n",
    "\n",
    "1. intuitive: sigma should be less than diff(mu), otherwise difficult to seperate\n",
    "    - but set true sigma very small does NOT seems help. TODO\n",
    "2. ossilate\n",
    "3. initial value matters"
   ]
  },
  {
   "cell_type": "code",
   "execution_count": null,
   "metadata": {},
   "outputs": [],
   "source": []
  },
  {
   "cell_type": "code",
   "execution_count": 2,
   "metadata": {},
   "outputs": [],
   "source": [
    "from IPython.core.interactiveshell import InteractiveShell\n",
    "InteractiveShell.ast_node_interactivity = 'all'"
   ]
  },
  {
   "cell_type": "code",
   "execution_count": 4,
   "metadata": {},
   "outputs": [],
   "source": [
    "import numpy as np\n",
    "import pandas as pd\n",
    "%matplotlib inline\n",
    "import matplotlib.pyplot as plt"
   ]
  },
  {
   "cell_type": "code",
   "execution_count": 256,
   "metadata": {},
   "outputs": [
    {
     "data": {
      "text/plain": [
       "(10000, 2)"
      ]
     },
     "execution_count": 256,
     "metadata": {},
     "output_type": "execute_result"
    },
    {
     "data": {
      "text/plain": [
       "array([0.3, 0.7])"
      ]
     },
     "execution_count": 256,
     "metadata": {},
     "output_type": "execute_result"
    },
    {
     "data": {
      "text/plain": [
       "array([160, 175])"
      ]
     },
     "execution_count": 256,
     "metadata": {},
     "output_type": "execute_result"
    },
    {
     "data": {
      "text/plain": [
       "array([10,  5])"
      ]
     },
     "execution_count": 256,
     "metadata": {},
     "output_type": "execute_result"
    }
   ],
   "source": [
    "# theta\n",
    "\n",
    "m = 10000\n",
    "alpha = np.array([0.3, 0.7])\n",
    "\n",
    "mu = np.array([160, 175])\n",
    "sigma = np.array([10, 5])\n",
    "K = alpha.shape[0]\n",
    "\n",
    "m, K\n",
    "alpha\n",
    "mu\n",
    "sigma"
   ]
  },
  {
   "cell_type": "code",
   "execution_count": 257,
   "metadata": {},
   "outputs": [
    {
     "data": {
      "text/plain": [
       "array([0, 0, 1, 0, 0, 1, 1, 1, 0, 1])"
      ]
     },
     "execution_count": 257,
     "metadata": {},
     "output_type": "execute_result"
    },
    {
     "data": {
      "text/plain": [
       "array([164.02860983, 144.31686416, 171.22775337, 162.26018067,\n",
       "       161.03741474, 175.77639318, 178.41821102, 164.55857276,\n",
       "       178.00300555, 175.74548016])"
      ]
     },
     "execution_count": 257,
     "metadata": {},
     "output_type": "execute_result"
    }
   ],
   "source": [
    "# data\n",
    "Z = np.random.choice(K, replace=True, size=m)\n",
    "X = np.array([np.random.normal(mu[z], sigma[z]) for z in Z])\n",
    "\n",
    "Z[:10]\n",
    "X[:10]"
   ]
  },
  {
   "cell_type": "code",
   "execution_count": 258,
   "metadata": {},
   "outputs": [],
   "source": [
    "def normoal_pdf(x, mu_, sig_):\n",
    "    return 1 / (np.sqrt(2 * np.pi) * sig_) * np.exp((x - mu_) ** 2 / (2 * sig_ ** 2))\n",
    "\n",
    "\n",
    "def GaussianMixtureModel(X, init=None, max_iteration=1e2, torlance=1e-3):\n",
    "    alpha_t = init['alpha']     # np.array([0.3, 0.7])\n",
    "    mu_t = init['mu']           # np.array([160, 180])\n",
    "    sigma_t = init['sigma']     # np.array([3, 9])\n",
    "    \n",
    "    t = 0\n",
    "    iter_history = []\n",
    "    \n",
    "    while True:\n",
    "        # gamma^(t) = \\frac{ ..alpha*N(x,u,sigma).. }{ \\sum .... }\n",
    "        submodel_prob_matrix = np.array([\n",
    "            [a_ * normoal_pdf(x, mu_, sig_) for x in X] for a_, mu_, sig_ in zip(alpha_t, mu_t, sigma_t)\n",
    "        ])\n",
    "        gamma_t = submodel_prob_matrix / np.sum(submodel_prob_matrix, axis=0)\n",
    "\n",
    "#         if not np.allclose(np.sum(gamma_t, axis=0),1):\n",
    "#             import pdb; pdb.set_trace()        \n",
    "            \n",
    "        alpha_prev, mu_prev, sigma_prev = alpha_t, mu_t, sigma_t\n",
    "        \n",
    "        alpha_t = np.mean(gamma_t, axis=1)\n",
    "        mu_t = np.array([np.average(X, weights=gamma_t[k]) for k in range(K)])\n",
    "        sigma_t = np.sqrt(np.array([np.average((X - mu_t[k]) ** 2, weights=gamma_t[k]) for k in range(K)]))\n",
    "        \n",
    "        t += 1\n",
    "        \n",
    "        # iteration history\n",
    "        # should handle \"ossilation\" problem. Simplest case K=2:\n",
    "        idx = np.argmax(mu_t)\n",
    "        iter_history.append({\n",
    "            't': t,\n",
    "            'alpha': alpha_t[idx], \n",
    "            'mu': mu_t[idx], \n",
    "            'sigma': sigma_t[idx], \n",
    "        })\n",
    "        \n",
    "        b_stop = np.linalg.norm(alpha_t - alpha_prev, 2) < torlance and \\\n",
    "            np.linalg.norm(sigma_t - sigma_prev, 2) < torlance and \\\n",
    "            np.linalg.norm(mu_t - mu_prev, 2) < torlance\n",
    "\n",
    "        if b_stop or t > max_iteration:\n",
    "            print('stop. #iter: ', t)\n",
    "            print(alpha_prev, mu_prev, sigma_prev)\n",
    "            print(alpha_t, mu_t, sigma_t)\n",
    "            break\n",
    "        \n",
    "    return alpha_t, mu_t, sigma_t, iter_history\n",
    "            \n",
    "        "
   ]
  },
  {
   "cell_type": "code",
   "execution_count": 259,
   "metadata": {},
   "outputs": [
    {
     "name": "stdout",
     "output_type": "stream",
     "text": [
      "true param:\n",
      "[160 175] [10  5] [0.3 0.7]\n",
      "============================\n",
      "stop. #iter:  51\n",
      "[0.7424241 0.2575759] [164.64853211 175.75650939] [11.08580473  3.62198299]\n",
      "[0.25757585 0.74242415] [175.75650954 164.6485328 ] [ 3.62198224 11.0858048 ]\n"
     ]
    }
   ],
   "source": [
    "print('true param:')\n",
    "print(mu, sigma, alpha)\n",
    "print('============================')\n",
    "\n",
    "init =  {\n",
    "    'mu':    np.array([155, 180]),\n",
    "    'sigma': np.array([5, 5 ]   ), \n",
    "    'alpha': np.array([0.3, 0.7]),\n",
    "}\n",
    "\n",
    "_, _, _, iter_history = GaussianMixtureModel(X, init, max_iteration=50, torlance=1)"
   ]
  },
  {
   "cell_type": "code",
   "execution_count": 260,
   "metadata": {},
   "outputs": [
    {
     "data": {
      "text/html": [
       "<div>\n",
       "<style scoped>\n",
       "    .dataframe tbody tr th:only-of-type {\n",
       "        vertical-align: middle;\n",
       "    }\n",
       "\n",
       "    .dataframe tbody tr th {\n",
       "        vertical-align: top;\n",
       "    }\n",
       "\n",
       "    .dataframe thead th {\n",
       "        text-align: right;\n",
       "    }\n",
       "</style>\n",
       "<table border=\"1\" class=\"dataframe\">\n",
       "  <thead>\n",
       "    <tr style=\"text-align: right;\">\n",
       "      <th></th>\n",
       "      <th>alpha</th>\n",
       "      <th>mu</th>\n",
       "      <th>sigma</th>\n",
       "      <th>t</th>\n",
       "    </tr>\n",
       "  </thead>\n",
       "  <tbody>\n",
       "    <tr>\n",
       "      <th>0</th>\n",
       "      <td>0.548503</td>\n",
       "      <td>175.557444</td>\n",
       "      <td>4.555964</td>\n",
       "      <td>1</td>\n",
       "    </tr>\n",
       "    <tr>\n",
       "      <th>1</th>\n",
       "      <td>0.436695</td>\n",
       "      <td>176.264215</td>\n",
       "      <td>4.534897</td>\n",
       "      <td>2</td>\n",
       "    </tr>\n",
       "    <tr>\n",
       "      <th>2</th>\n",
       "      <td>0.335087</td>\n",
       "      <td>176.474631</td>\n",
       "      <td>4.342915</td>\n",
       "      <td>3</td>\n",
       "    </tr>\n",
       "    <tr>\n",
       "      <th>3</th>\n",
       "      <td>0.299693</td>\n",
       "      <td>176.278849</td>\n",
       "      <td>4.154004</td>\n",
       "      <td>4</td>\n",
       "    </tr>\n",
       "    <tr>\n",
       "      <th>4</th>\n",
       "      <td>0.288729</td>\n",
       "      <td>176.098246</td>\n",
       "      <td>4.021742</td>\n",
       "      <td>5</td>\n",
       "    </tr>\n",
       "    <tr>\n",
       "      <th>5</th>\n",
       "      <td>0.279930</td>\n",
       "      <td>175.984466</td>\n",
       "      <td>3.924190</td>\n",
       "      <td>6</td>\n",
       "    </tr>\n",
       "    <tr>\n",
       "      <th>6</th>\n",
       "      <td>0.274369</td>\n",
       "      <td>175.908231</td>\n",
       "      <td>3.852296</td>\n",
       "      <td>7</td>\n",
       "    </tr>\n",
       "    <tr>\n",
       "      <th>7</th>\n",
       "      <td>0.270174</td>\n",
       "      <td>175.858081</td>\n",
       "      <td>3.798200</td>\n",
       "      <td>8</td>\n",
       "    </tr>\n",
       "    <tr>\n",
       "      <th>8</th>\n",
       "      <td>0.267155</td>\n",
       "      <td>175.824476</td>\n",
       "      <td>3.757303</td>\n",
       "      <td>9</td>\n",
       "    </tr>\n",
       "    <tr>\n",
       "      <th>9</th>\n",
       "      <td>0.264873</td>\n",
       "      <td>175.801986</td>\n",
       "      <td>3.726119</td>\n",
       "      <td>10</td>\n",
       "    </tr>\n",
       "    <tr>\n",
       "      <th>10</th>\n",
       "      <td>0.263162</td>\n",
       "      <td>175.786838</td>\n",
       "      <td>3.702258</td>\n",
       "      <td>11</td>\n",
       "    </tr>\n",
       "    <tr>\n",
       "      <th>11</th>\n",
       "      <td>0.261859</td>\n",
       "      <td>175.776644</td>\n",
       "      <td>3.683929</td>\n",
       "      <td>12</td>\n",
       "    </tr>\n",
       "    <tr>\n",
       "      <th>12</th>\n",
       "      <td>0.260867</td>\n",
       "      <td>175.769780</td>\n",
       "      <td>3.669822</td>\n",
       "      <td>13</td>\n",
       "    </tr>\n",
       "    <tr>\n",
       "      <th>13</th>\n",
       "      <td>0.260107</td>\n",
       "      <td>175.765172</td>\n",
       "      <td>3.658944</td>\n",
       "      <td>14</td>\n",
       "    </tr>\n",
       "    <tr>\n",
       "      <th>14</th>\n",
       "      <td>0.259524</td>\n",
       "      <td>175.762090</td>\n",
       "      <td>3.650547</td>\n",
       "      <td>15</td>\n",
       "    </tr>\n",
       "    <tr>\n",
       "      <th>15</th>\n",
       "      <td>0.259077</td>\n",
       "      <td>175.760040</td>\n",
       "      <td>3.644061</td>\n",
       "      <td>16</td>\n",
       "    </tr>\n",
       "    <tr>\n",
       "      <th>16</th>\n",
       "      <td>0.258732</td>\n",
       "      <td>175.758688</td>\n",
       "      <td>3.639048</td>\n",
       "      <td>17</td>\n",
       "    </tr>\n",
       "    <tr>\n",
       "      <th>17</th>\n",
       "      <td>0.258467</td>\n",
       "      <td>175.757805</td>\n",
       "      <td>3.635172</td>\n",
       "      <td>18</td>\n",
       "    </tr>\n",
       "    <tr>\n",
       "      <th>18</th>\n",
       "      <td>0.258263</td>\n",
       "      <td>175.757237</td>\n",
       "      <td>3.632176</td>\n",
       "      <td>19</td>\n",
       "    </tr>\n",
       "    <tr>\n",
       "      <th>19</th>\n",
       "      <td>0.258106</td>\n",
       "      <td>175.756878</td>\n",
       "      <td>3.629859</td>\n",
       "      <td>20</td>\n",
       "    </tr>\n",
       "    <tr>\n",
       "      <th>20</th>\n",
       "      <td>0.257984</td>\n",
       "      <td>175.756658</td>\n",
       "      <td>3.628068</td>\n",
       "      <td>21</td>\n",
       "    </tr>\n",
       "    <tr>\n",
       "      <th>21</th>\n",
       "      <td>0.257891</td>\n",
       "      <td>175.756527</td>\n",
       "      <td>3.626683</td>\n",
       "      <td>22</td>\n",
       "    </tr>\n",
       "    <tr>\n",
       "      <th>22</th>\n",
       "      <td>0.257819</td>\n",
       "      <td>175.756455</td>\n",
       "      <td>3.625612</td>\n",
       "      <td>23</td>\n",
       "    </tr>\n",
       "    <tr>\n",
       "      <th>23</th>\n",
       "      <td>0.257763</td>\n",
       "      <td>175.756419</td>\n",
       "      <td>3.624785</td>\n",
       "      <td>24</td>\n",
       "    </tr>\n",
       "    <tr>\n",
       "      <th>24</th>\n",
       "      <td>0.257720</td>\n",
       "      <td>175.756405</td>\n",
       "      <td>3.624146</td>\n",
       "      <td>25</td>\n",
       "    </tr>\n",
       "    <tr>\n",
       "      <th>25</th>\n",
       "      <td>0.257687</td>\n",
       "      <td>175.756404</td>\n",
       "      <td>3.623652</td>\n",
       "      <td>26</td>\n",
       "    </tr>\n",
       "    <tr>\n",
       "      <th>26</th>\n",
       "      <td>0.257662</td>\n",
       "      <td>175.756411</td>\n",
       "      <td>3.623271</td>\n",
       "      <td>27</td>\n",
       "    </tr>\n",
       "    <tr>\n",
       "      <th>27</th>\n",
       "      <td>0.257642</td>\n",
       "      <td>175.756421</td>\n",
       "      <td>3.622976</td>\n",
       "      <td>28</td>\n",
       "    </tr>\n",
       "    <tr>\n",
       "      <th>28</th>\n",
       "      <td>0.257627</td>\n",
       "      <td>175.756433</td>\n",
       "      <td>3.622749</td>\n",
       "      <td>29</td>\n",
       "    </tr>\n",
       "    <tr>\n",
       "      <th>29</th>\n",
       "      <td>0.257615</td>\n",
       "      <td>175.756444</td>\n",
       "      <td>3.622573</td>\n",
       "      <td>30</td>\n",
       "    </tr>\n",
       "    <tr>\n",
       "      <th>30</th>\n",
       "      <td>0.257606</td>\n",
       "      <td>175.756455</td>\n",
       "      <td>3.622438</td>\n",
       "      <td>31</td>\n",
       "    </tr>\n",
       "    <tr>\n",
       "      <th>31</th>\n",
       "      <td>0.257599</td>\n",
       "      <td>175.756464</td>\n",
       "      <td>3.622333</td>\n",
       "      <td>32</td>\n",
       "    </tr>\n",
       "    <tr>\n",
       "      <th>32</th>\n",
       "      <td>0.257594</td>\n",
       "      <td>175.756473</td>\n",
       "      <td>3.622252</td>\n",
       "      <td>33</td>\n",
       "    </tr>\n",
       "    <tr>\n",
       "      <th>33</th>\n",
       "      <td>0.257590</td>\n",
       "      <td>175.756480</td>\n",
       "      <td>3.622190</td>\n",
       "      <td>34</td>\n",
       "    </tr>\n",
       "    <tr>\n",
       "      <th>34</th>\n",
       "      <td>0.257586</td>\n",
       "      <td>175.756485</td>\n",
       "      <td>3.622142</td>\n",
       "      <td>35</td>\n",
       "    </tr>\n",
       "    <tr>\n",
       "      <th>35</th>\n",
       "      <td>0.257584</td>\n",
       "      <td>175.756490</td>\n",
       "      <td>3.622105</td>\n",
       "      <td>36</td>\n",
       "    </tr>\n",
       "    <tr>\n",
       "      <th>36</th>\n",
       "      <td>0.257582</td>\n",
       "      <td>175.756494</td>\n",
       "      <td>3.622076</td>\n",
       "      <td>37</td>\n",
       "    </tr>\n",
       "    <tr>\n",
       "      <th>37</th>\n",
       "      <td>0.257581</td>\n",
       "      <td>175.756497</td>\n",
       "      <td>3.622054</td>\n",
       "      <td>38</td>\n",
       "    </tr>\n",
       "    <tr>\n",
       "      <th>38</th>\n",
       "      <td>0.257579</td>\n",
       "      <td>175.756500</td>\n",
       "      <td>3.622037</td>\n",
       "      <td>39</td>\n",
       "    </tr>\n",
       "    <tr>\n",
       "      <th>39</th>\n",
       "      <td>0.257579</td>\n",
       "      <td>175.756502</td>\n",
       "      <td>3.622024</td>\n",
       "      <td>40</td>\n",
       "    </tr>\n",
       "    <tr>\n",
       "      <th>40</th>\n",
       "      <td>0.257578</td>\n",
       "      <td>175.756504</td>\n",
       "      <td>3.622014</td>\n",
       "      <td>41</td>\n",
       "    </tr>\n",
       "    <tr>\n",
       "      <th>41</th>\n",
       "      <td>0.257577</td>\n",
       "      <td>175.756505</td>\n",
       "      <td>3.622006</td>\n",
       "      <td>42</td>\n",
       "    </tr>\n",
       "    <tr>\n",
       "      <th>42</th>\n",
       "      <td>0.257577</td>\n",
       "      <td>175.756506</td>\n",
       "      <td>3.622000</td>\n",
       "      <td>43</td>\n",
       "    </tr>\n",
       "    <tr>\n",
       "      <th>43</th>\n",
       "      <td>0.257577</td>\n",
       "      <td>175.756507</td>\n",
       "      <td>3.621995</td>\n",
       "      <td>44</td>\n",
       "    </tr>\n",
       "    <tr>\n",
       "      <th>44</th>\n",
       "      <td>0.257576</td>\n",
       "      <td>175.756508</td>\n",
       "      <td>3.621992</td>\n",
       "      <td>45</td>\n",
       "    </tr>\n",
       "    <tr>\n",
       "      <th>45</th>\n",
       "      <td>0.257576</td>\n",
       "      <td>175.756508</td>\n",
       "      <td>3.621989</td>\n",
       "      <td>46</td>\n",
       "    </tr>\n",
       "    <tr>\n",
       "      <th>46</th>\n",
       "      <td>0.257576</td>\n",
       "      <td>175.756509</td>\n",
       "      <td>3.621987</td>\n",
       "      <td>47</td>\n",
       "    </tr>\n",
       "    <tr>\n",
       "      <th>47</th>\n",
       "      <td>0.257576</td>\n",
       "      <td>175.756509</td>\n",
       "      <td>3.621985</td>\n",
       "      <td>48</td>\n",
       "    </tr>\n",
       "    <tr>\n",
       "      <th>48</th>\n",
       "      <td>0.257576</td>\n",
       "      <td>175.756509</td>\n",
       "      <td>3.621984</td>\n",
       "      <td>49</td>\n",
       "    </tr>\n",
       "    <tr>\n",
       "      <th>49</th>\n",
       "      <td>0.257576</td>\n",
       "      <td>175.756509</td>\n",
       "      <td>3.621983</td>\n",
       "      <td>50</td>\n",
       "    </tr>\n",
       "    <tr>\n",
       "      <th>50</th>\n",
       "      <td>0.257576</td>\n",
       "      <td>175.756510</td>\n",
       "      <td>3.621982</td>\n",
       "      <td>51</td>\n",
       "    </tr>\n",
       "  </tbody>\n",
       "</table>\n",
       "</div>"
      ],
      "text/plain": [
       "       alpha          mu     sigma   t\n",
       "0   0.548503  175.557444  4.555964   1\n",
       "1   0.436695  176.264215  4.534897   2\n",
       "2   0.335087  176.474631  4.342915   3\n",
       "3   0.299693  176.278849  4.154004   4\n",
       "4   0.288729  176.098246  4.021742   5\n",
       "5   0.279930  175.984466  3.924190   6\n",
       "6   0.274369  175.908231  3.852296   7\n",
       "7   0.270174  175.858081  3.798200   8\n",
       "8   0.267155  175.824476  3.757303   9\n",
       "9   0.264873  175.801986  3.726119  10\n",
       "10  0.263162  175.786838  3.702258  11\n",
       "11  0.261859  175.776644  3.683929  12\n",
       "12  0.260867  175.769780  3.669822  13\n",
       "13  0.260107  175.765172  3.658944  14\n",
       "14  0.259524  175.762090  3.650547  15\n",
       "15  0.259077  175.760040  3.644061  16\n",
       "16  0.258732  175.758688  3.639048  17\n",
       "17  0.258467  175.757805  3.635172  18\n",
       "18  0.258263  175.757237  3.632176  19\n",
       "19  0.258106  175.756878  3.629859  20\n",
       "20  0.257984  175.756658  3.628068  21\n",
       "21  0.257891  175.756527  3.626683  22\n",
       "22  0.257819  175.756455  3.625612  23\n",
       "23  0.257763  175.756419  3.624785  24\n",
       "24  0.257720  175.756405  3.624146  25\n",
       "25  0.257687  175.756404  3.623652  26\n",
       "26  0.257662  175.756411  3.623271  27\n",
       "27  0.257642  175.756421  3.622976  28\n",
       "28  0.257627  175.756433  3.622749  29\n",
       "29  0.257615  175.756444  3.622573  30\n",
       "30  0.257606  175.756455  3.622438  31\n",
       "31  0.257599  175.756464  3.622333  32\n",
       "32  0.257594  175.756473  3.622252  33\n",
       "33  0.257590  175.756480  3.622190  34\n",
       "34  0.257586  175.756485  3.622142  35\n",
       "35  0.257584  175.756490  3.622105  36\n",
       "36  0.257582  175.756494  3.622076  37\n",
       "37  0.257581  175.756497  3.622054  38\n",
       "38  0.257579  175.756500  3.622037  39\n",
       "39  0.257579  175.756502  3.622024  40\n",
       "40  0.257578  175.756504  3.622014  41\n",
       "41  0.257577  175.756505  3.622006  42\n",
       "42  0.257577  175.756506  3.622000  43\n",
       "43  0.257577  175.756507  3.621995  44\n",
       "44  0.257576  175.756508  3.621992  45\n",
       "45  0.257576  175.756508  3.621989  46\n",
       "46  0.257576  175.756509  3.621987  47\n",
       "47  0.257576  175.756509  3.621985  48\n",
       "48  0.257576  175.756509  3.621984  49\n",
       "49  0.257576  175.756509  3.621983  50\n",
       "50  0.257576  175.756510  3.621982  51"
      ]
     },
     "execution_count": 260,
     "metadata": {},
     "output_type": "execute_result"
    }
   ],
   "source": [
    "df = pd.DataFrame(iter_history)\n",
    "df"
   ]
  },
  {
   "cell_type": "code",
   "execution_count": 261,
   "metadata": {},
   "outputs": [
    {
     "data": {
      "text/plain": [
       "[<matplotlib.lines.Line2D at 0x10f61b550>]"
      ]
     },
     "execution_count": 261,
     "metadata": {},
     "output_type": "execute_result"
    },
    {
     "data": {
      "text/plain": [
       "Text(0.5, 1.0, 'alpha')"
      ]
     },
     "execution_count": 261,
     "metadata": {},
     "output_type": "execute_result"
    },
    {
     "data": {
      "text/plain": [
       "[<matplotlib.lines.Line2D at 0x10f61ba20>]"
      ]
     },
     "execution_count": 261,
     "metadata": {},
     "output_type": "execute_result"
    },
    {
     "data": {
      "text/plain": [
       "Text(0.5, 1.0, 'mu')"
      ]
     },
     "execution_count": 261,
     "metadata": {},
     "output_type": "execute_result"
    },
    {
     "data": {
      "text/plain": [
       "[<matplotlib.lines.Line2D at 0x10f61bdd8>]"
      ]
     },
     "execution_count": 261,
     "metadata": {},
     "output_type": "execute_result"
    },
    {
     "data": {
      "text/plain": [
       "Text(0.5, 1.0, 'sigma')"
      ]
     },
     "execution_count": 261,
     "metadata": {},
     "output_type": "execute_result"
    },
    {
     "data": {
      "image/png": "[encoded data removed]",
      "text/plain": [
       "<Figure size 864x432 with 3 Axes>"
      ]
     },
     "metadata": {
      "needs_background": "light"
     },
     "output_type": "display_data"
    }
   ],
   "source": [
    "fig, axs = plt.subplots(3, 1, figsize=(12, 6))\n",
    "axs[0].plot(df['alpha']  , label='alpha')\n",
    "axs[0].set_title('alpha')\n",
    "axs[1].plot(df['mu']     , label='mu')\n",
    "axs[1].set_title('mu')\n",
    "axs[2].plot(df['sigma']  , label='sigma')\n",
    "axs[2].set_title('sigma')"
   ]
  },
  {
   "cell_type": "code",
   "execution_count": 262,
   "metadata": {},
   "outputs": [
    {
     "data": {
      "text/plain": [
       "(array([  1.,   0.,   0.,   0.,   0.,   0.,   3.,   2.,   5.,  14.,  11.,\n",
       "         19.,  26.,  40.,  47.,  69.,  78., 134., 135., 144., 203., 227.,\n",
       "        220., 276., 291., 295., 287., 321., 318., 366., 361., 391., 432.,\n",
       "        531., 634., 740., 651., 685., 566., 480., 378., 229., 166., 106.,\n",
       "         58.,  29.,  17.,   8.,   5.,   1.]),\n",
       " array([119.44910567, 120.95632485, 122.46354403, 123.97076322,\n",
       "        125.4779824 , 126.98520158, 128.49242076, 129.99963995,\n",
       "        131.50685913, 133.01407831, 134.52129749, 136.02851668,\n",
       "        137.53573586, 139.04295504, 140.55017422, 142.0573934 ,\n",
       "        143.56461259, 145.07183177, 146.57905095, 148.08627013,\n",
       "        149.59348932, 151.1007085 , 152.60792768, 154.11514686,\n",
       "        155.62236605, 157.12958523, 158.63680441, 160.14402359,\n",
       "        161.65124278, 163.15846196, 164.66568114, 166.17290032,\n",
       "        167.68011951, 169.18733869, 170.69455787, 172.20177705,\n",
       "        173.70899623, 175.21621542, 176.7234346 , 178.23065378,\n",
       "        179.73787296, 181.24509215, 182.75231133, 184.25953051,\n",
       "        185.76674969, 187.27396888, 188.78118806, 190.28840724,\n",
       "        191.79562642, 193.30284561, 194.81006479]),\n",
       " <a list of 50 Patch objects>)"
      ]
     },
     "execution_count": 262,
     "metadata": {},
     "output_type": "execute_result"
    },
    {
     "data": {
      "image/png": "[encoded data removed]",
      "text/plain": [
       "<Figure size 432x288 with 1 Axes>"
      ]
     },
     "metadata": {
      "needs_background": "light"
     },
     "output_type": "display_data"
    }
   ],
   "source": [
    "plt.hist(X, bins=50)"
   ]
  },
  {
   "cell_type": "code",
   "execution_count": 263,
   "metadata": {},
   "outputs": [
    {
     "name": "stdout",
     "output_type": "stream",
     "text": [
      "true param:\n",
      "[160 175] [10  5] [0.3 0.7]\n",
      "============================\n"
     ]
    }
   ],
   "source": [
    "print('true param:')\n",
    "print(mu, sigma, alpha)\n",
    "print('============================')"
   ]
  },
  {
   "cell_type": "code",
   "execution_count": null,
   "metadata": {},
   "outputs": [],
   "source": []
  },
  {
   "cell_type": "code",
   "execution_count": null,
   "metadata": {},
   "outputs": [],
   "source": []
  },
  {
   "cell_type": "code",
   "execution_count": null,
   "metadata": {},
   "outputs": [],
   "source": []
  },
  {
   "cell_type": "code",
   "execution_count": null,
   "metadata": {},
   "outputs": [],
   "source": []
  },
  {
   "cell_type": "code",
   "execution_count": null,
   "metadata": {},
   "outputs": [],
   "source": []
  }
 ],
 "metadata": {
  "kernelspec": {
   "display_name": "Python 3",
   "language": "python",
   "name": "python3"
  },
  "language_info": {
   "codemirror_mode": {
    "name": "ipython",
    "version": 3
   },
   "file_extension": ".py",
   "mimetype": "text/x-python",
   "name": "python",
   "nbconvert_exporter": "python",
   "pygments_lexer": "ipython3",
   "version": "3.6.4"
  }
 },
 "nbformat": 4,
 "nbformat_minor": 2
}
