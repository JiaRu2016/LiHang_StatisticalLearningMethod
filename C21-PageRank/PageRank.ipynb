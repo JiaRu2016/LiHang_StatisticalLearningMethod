{
 "cells": [
  {
   "cell_type": "code",
   "execution_count": 3,
   "metadata": {},
   "outputs": [],
   "source": [
    "import numpy as np"
   ]
  },
  {
   "cell_type": "code",
   "execution_count": 87,
   "metadata": {},
   "outputs": [],
   "source": [
    "def generate_M(dim=3):\n",
    "    \"\"\"generate matrix that columns sum to 1\n",
    "    \"\"\"\n",
    "    return np.array([np.random.choice([1/n] * n + [0] * (dim-n), replace=False, size=dim) for n in np.random.choice(np.arange(1, dim+1), dim)]).T\n",
    "\n",
    "def generate_R0(dim=3):\n",
    "    return np.repeat(1/dim, dim)[None].T"
   ]
  },
  {
   "cell_type": "code",
   "execution_count": 90,
   "metadata": {},
   "outputs": [],
   "source": [
    "M = generate_M(dim=5)"
   ]
  },
  {
   "cell_type": "code",
   "execution_count": 91,
   "metadata": {},
   "outputs": [],
   "source": [
    "R0 = generate_R0(dim=5)"
   ]
  },
  {
   "cell_type": "code",
   "execution_count": 118,
   "metadata": {},
   "outputs": [],
   "source": [
    "def PageRank(M, R0=None, torlerance=None):\n",
    "    \n",
    "    assert len(M.shape) == 2 and M.shape[0] == M.shape[1]\n",
    "    dim = M.shape[0]   \n",
    "    \n",
    "    if R0 is None:\n",
    "        R0 = generate_R0()\n",
    "    else:\n",
    "        assert R0.shape == (dim, 1)\n",
    "    \n",
    "    if torlerance is None:\n",
    "        torlerance = 0.0001   # TODO: how to determin torlance?\n",
    "        \n",
    "    t = 0\n",
    "    Rt = R0\n",
    "    R_prev = None\n",
    "    while True:\n",
    "        R_prev = Rt\n",
    "        Rt = M @ Rt\n",
    "        t += 1\n",
    "        \n",
    "        print('iteration # {}: Rt = {}'.format(t, Rt))\n",
    "        \n",
    "        if np.linalg.norm(Rt - R_prev, 2) < torlerance:\n",
    "            print('stop')\n",
    "            return Rt\n",
    "        \n",
    "        if t > 100:\n",
    "            print('max iteration, stop')\n",
    "            return"
   ]
  },
  {
   "cell_type": "code",
   "execution_count": 119,
   "metadata": {},
   "outputs": [
    {
     "name": "stdout",
     "output_type": "stream",
     "text": [
      "iteration # 1: Rt = [[0.13      ]\n",
      " [0.29666667]\n",
      " [0.19666667]\n",
      " [0.23      ]\n",
      " [0.14666667]]\n",
      "iteration # 2: Rt = [[0.12116667]\n",
      " [0.29338889]\n",
      " [0.22005556]\n",
      " [0.1945    ]\n",
      " [0.17088889]]\n",
      "iteration # 3: Rt = [[0.11814722]\n",
      " [0.30138796]\n",
      " [0.21594352]\n",
      " [0.20359167]\n",
      " [0.16092963]]\n",
      "iteration # 4: Rt = [[0.11833366]\n",
      " [0.29926113]\n",
      " [0.21879631]\n",
      " [0.19879847]\n",
      " [0.16481043]]\n",
      "iteration # 5: Rt = [[0.1181255 ]\n",
      " [0.30028443]\n",
      " [0.21787921]\n",
      " [0.20053072]\n",
      " [0.16318013]]\n",
      "iteration # 6: Rt = [[0.11820105]\n",
      " [0.29988592]\n",
      " [0.21829586]\n",
      " [0.19979112]\n",
      " [0.16382605]]\n",
      "iteration # 7: Rt = [[0.1181724 ]\n",
      " [0.3000474 ]\n",
      " [0.21813437]\n",
      " [0.20008542]\n",
      " [0.16356041]]\n",
      "iteration # 8: Rt = [[0.11818516]\n",
      " [0.29998116]\n",
      " [0.21820096]\n",
      " [0.19996536]\n",
      " [0.16366736]]\n",
      "iteration # 9: Rt = [[0.11818034]\n",
      " [0.30000775]\n",
      " [0.21817406]\n",
      " [0.20001402]\n",
      " [0.16362382]]\n",
      "stop\n"
     ]
    },
    {
     "data": {
      "text/plain": [
       "array([[0.11818034],\n",
       "       [0.30000775],\n",
       "       [0.21817406],\n",
       "       [0.20001402],\n",
       "       [0.16362382]])"
      ]
     },
     "execution_count": 119,
     "metadata": {},
     "output_type": "execute_result"
    }
   ],
   "source": [
    "PageRank(M, R0)"
   ]
  },
  {
   "cell_type": "code",
   "execution_count": null,
   "metadata": {},
   "outputs": [],
   "source": []
  },
  {
   "cell_type": "code",
   "execution_count": null,
   "metadata": {},
   "outputs": [],
   "source": []
  },
  {
   "cell_type": "code",
   "execution_count": null,
   "metadata": {},
   "outputs": [],
   "source": []
  },
  {
   "cell_type": "code",
   "execution_count": null,
   "metadata": {},
   "outputs": [],
   "source": []
  },
  {
   "cell_type": "code",
   "execution_count": null,
   "metadata": {},
   "outputs": [],
   "source": []
  }
 ],
 "metadata": {
  "kernelspec": {
   "display_name": "Python 3",
   "language": "python",
   "name": "python3"
  },
  "language_info": {
   "codemirror_mode": {
    "name": "ipython",
    "version": 3
   },
   "file_extension": ".py",
   "mimetype": "text/x-python",
   "name": "python",
   "nbconvert_exporter": "python",
   "pygments_lexer": "ipython3",
   "version": "3.6.4"
  }
 },
 "nbformat": 4,
 "nbformat_minor": 2
}
