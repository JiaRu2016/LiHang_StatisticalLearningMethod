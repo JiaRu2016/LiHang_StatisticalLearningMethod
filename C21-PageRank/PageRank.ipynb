{
 "cells": [
  {
   "cell_type": "markdown",
   "metadata": {},
   "source": [
    "TODO: why sum to 1 ? "
   ]
  },
  {
   "cell_type": "code",
   "execution_count": null,
   "metadata": {},
   "outputs": [],
   "source": []
  },
  {
   "cell_type": "code",
   "execution_count": null,
   "metadata": {},
   "outputs": [],
   "source": []
  },
  {
   "cell_type": "code",
   "execution_count": 124,
   "metadata": {},
   "outputs": [],
   "source": [
    "import numpy as np"
   ]
  },
  {
   "cell_type": "code",
   "execution_count": 125,
   "metadata": {},
   "outputs": [],
   "source": [
    "def generate_M(dim=3):\n",
    "    \"\"\"generate matrix that columns sum to 1\n",
    "    \"\"\"\n",
    "    return np.array([np.random.choice([1/n] * n + [0] * (dim-n), replace=False, size=dim) for n in np.random.choice(np.arange(1, dim+1), dim)]).T\n",
    "\n",
    "def generate_R_smoother(dim=3):\n",
    "    return np.repeat(1/dim, dim)[None].T"
   ]
  },
  {
   "cell_type": "code",
   "execution_count": 141,
   "metadata": {},
   "outputs": [
    {
     "data": {
      "text/plain": [
       "array([[0.  , 0.  , 0.2 , 0.2 , 0.25],\n",
       "       [1.  , 1.  , 0.2 , 0.2 , 0.  ],\n",
       "       [0.  , 0.  , 0.2 , 0.2 , 0.25],\n",
       "       [0.  , 0.  , 0.2 , 0.2 , 0.25],\n",
       "       [0.  , 0.  , 0.2 , 0.2 , 0.25]])"
      ]
     },
     "execution_count": 141,
     "metadata": {},
     "output_type": "execute_result"
    }
   ],
   "source": [
    "M = generate_M(dim=5)\n",
    "M"
   ]
  },
  {
   "cell_type": "code",
   "execution_count": 142,
   "metadata": {},
   "outputs": [
    {
     "data": {
      "text/plain": [
       "array([[0.2],\n",
       "       [0.2],\n",
       "       [0.2],\n",
       "       [0.2],\n",
       "       [0.2]])"
      ]
     },
     "execution_count": 142,
     "metadata": {},
     "output_type": "execute_result"
    }
   ],
   "source": [
    "R0 = R_smoother = generate_R0(dim=5)\n",
    "R0"
   ]
  },
  {
   "cell_type": "code",
   "execution_count": 157,
   "metadata": {},
   "outputs": [],
   "source": [
    "def PageRank(M, d=0.85, R0=None, torlerance=None):\n",
    "    \n",
    "    #assert 0 <= d <= 1\n",
    "    \n",
    "    assert len(M.shape) == 2 and M.shape[0] == M.shape[1]\n",
    "    dim = M.shape[0]   \n",
    "    \n",
    "    R_smoother = generate_R_smoother(dim)    \n",
    "    \n",
    "    if R0 is None:\n",
    "        R0 = R_smoother\n",
    "    else:\n",
    "        assert R0.shape == (dim, 1)\n",
    "    \n",
    "    if torlerance is None:\n",
    "        torlerance = 0.0001   # TODO: how to determin torlance?\n",
    "\n",
    "    t = 0\n",
    "    Rt = R0\n",
    "    R_prev = None\n",
    "    while True:\n",
    "        R_prev = Rt\n",
    "        Rt = d * M @ Rt + (1 - d) * R_smoother\n",
    "        t += 1\n",
    "        \n",
    "        print('iteration # {}: \\nRt = {}'.format(t, Rt))\n",
    "        print('========> sum Rt = ', np.sum(Rt))\n",
    "        \n",
    "        if np.linalg.norm(Rt - R_prev, 2) < torlerance:\n",
    "            print('stop')\n",
    "            return Rt\n",
    "        \n",
    "        if t > 100:\n",
    "            print('max iteration, stop')\n",
    "            return"
   ]
  },
  {
   "cell_type": "code",
   "execution_count": 160,
   "metadata": {},
   "outputs": [
    {
     "name": "stdout",
     "output_type": "stream",
     "text": [
      "iteration # 1: \n",
      "Rt = [[0.151]\n",
      " [0.396]\n",
      " [0.151]\n",
      " [0.151]\n",
      " [0.151]]\n",
      "========> sum Rt =  1.0\n",
      "iteration # 2: \n",
      "Rt = [[0.128705]\n",
      " [0.48518 ]\n",
      " [0.128705]\n",
      " [0.128705]\n",
      " [0.128705]]\n",
      "========> sum Rt =  1.0000000000000002\n",
      "iteration # 3: \n",
      "Rt = [[0.11856078]\n",
      " [0.5257569 ]\n",
      " [0.11856078]\n",
      " [0.11856078]\n",
      " [0.11856078]]\n",
      "========> sum Rt =  0.9999999999999998\n",
      "iteration # 4: \n",
      "Rt = [[0.11394515]\n",
      " [0.54421939]\n",
      " [0.11394515]\n",
      " [0.11394515]\n",
      " [0.11394515]]\n",
      "========> sum Rt =  1.0\n",
      "iteration # 5: \n",
      "Rt = [[0.11184504]\n",
      " [0.55261982]\n",
      " [0.11184504]\n",
      " [0.11184504]\n",
      " [0.11184504]]\n",
      "========> sum Rt =  1.0\n",
      "iteration # 6: \n",
      "Rt = [[0.1108895 ]\n",
      " [0.55644202]\n",
      " [0.1108895 ]\n",
      " [0.1108895 ]\n",
      " [0.1108895 ]]\n",
      "========> sum Rt =  0.9999999999999999\n",
      "iteration # 7: \n",
      "Rt = [[0.11045472]\n",
      " [0.55818112]\n",
      " [0.11045472]\n",
      " [0.11045472]\n",
      " [0.11045472]]\n",
      "========> sum Rt =  0.9999999999999999\n",
      "iteration # 8: \n",
      "Rt = [[0.1102569 ]\n",
      " [0.55897241]\n",
      " [0.1102569 ]\n",
      " [0.1102569 ]\n",
      " [0.1102569 ]]\n",
      "========> sum Rt =  0.9999999999999999\n",
      "iteration # 9: \n",
      "Rt = [[0.11016689]\n",
      " [0.55933245]\n",
      " [0.11016689]\n",
      " [0.11016689]\n",
      " [0.11016689]]\n",
      "========> sum Rt =  0.9999999999999999\n",
      "iteration # 10: \n",
      "Rt = [[0.11012593]\n",
      " [0.55949626]\n",
      " [0.11012593]\n",
      " [0.11012593]\n",
      " [0.11012593]]\n",
      "========> sum Rt =  1.0000000000000002\n",
      "iteration # 11: \n",
      "Rt = [[0.1101073]\n",
      " [0.5595708]\n",
      " [0.1101073]\n",
      " [0.1101073]\n",
      " [0.1101073]]\n",
      "========> sum Rt =  0.9999999999999999\n",
      "stop\n"
     ]
    },
    {
     "data": {
      "text/plain": [
       "array([[0.1101073],\n",
       "       [0.5595708],\n",
       "       [0.1101073],\n",
       "       [0.1101073],\n",
       "       [0.1101073]])"
      ]
     },
     "execution_count": 160,
     "metadata": {},
     "output_type": "execute_result"
    }
   ],
   "source": [
    "PageRank(M, 0.7, R0)"
   ]
  },
  {
   "cell_type": "code",
   "execution_count": null,
   "metadata": {},
   "outputs": [],
   "source": []
  },
  {
   "cell_type": "code",
   "execution_count": null,
   "metadata": {},
   "outputs": [],
   "source": []
  },
  {
   "cell_type": "code",
   "execution_count": null,
   "metadata": {},
   "outputs": [],
   "source": []
  },
  {
   "cell_type": "code",
   "execution_count": null,
   "metadata": {},
   "outputs": [],
   "source": []
  },
  {
   "cell_type": "code",
   "execution_count": null,
   "metadata": {},
   "outputs": [],
   "source": []
  }
 ],
 "metadata": {
  "kernelspec": {
   "display_name": "Python 3",
   "language": "python",
   "name": "python3"
  },
  "language_info": {
   "codemirror_mode": {
    "name": "ipython",
    "version": 3
   },
   "file_extension": ".py",
   "mimetype": "text/x-python",
   "name": "python",
   "nbconvert_exporter": "python",
   "pygments_lexer": "ipython3",
   "version": "3.6.4"
  }
 },
 "nbformat": 4,
 "nbformat_minor": 2
}
